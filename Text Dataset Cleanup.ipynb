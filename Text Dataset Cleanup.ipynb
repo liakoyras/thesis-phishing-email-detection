{
 "cells": [
  {
   "cell_type": "code",
   "execution_count": 1,
   "id": "97a828ba",
   "metadata": {},
   "outputs": [],
   "source": [
    "import raw_utils as util\n",
    "import os\n",
    "\n",
    "import pandas as pd\n",
    "import numpy as np\n",
    "\n",
    "import random\n",
    "np.random.seed(1746)"
   ]
  },
  {
   "cell_type": "code",
   "execution_count": 2,
   "id": "d084edcd",
   "metadata": {},
   "outputs": [],
   "source": [
    "# Paths\n",
    "cwd = os.getcwd()\n",
    "csv_path = os.path.join(cwd, 'data/csv/')\n",
    "\n",
    "# Filenames\n",
    "nazario_csv = 'nazario_recent.csv'\n",
    "enron_csv = ['enron_text_2000.csv', 'enron_text_20000.csv', 'enron_text_100000.csv']"
   ]
  },
  {
   "cell_type": "markdown",
   "id": "a62b487b",
   "metadata": {},
   "source": [
    "## Phishing"
   ]
  },
  {
   "cell_type": "markdown",
   "id": "91a27895",
   "metadata": {},
   "source": [
    "First, read the csv with the recent emails."
   ]
  },
  {
   "cell_type": "code",
   "execution_count": 3,
   "id": "3ce2d3c3",
   "metadata": {},
   "outputs": [],
   "source": [
    "phishing_text_raw = pd.read_csv(os.path.join(csv_path, nazario_csv), index_col=0, encoding='latin-1', dtype={'Body': 'object'})"
   ]
  },
  {
   "cell_type": "code",
   "execution_count": 4,
   "id": "1457d7d2",
   "metadata": {},
   "outputs": [
    {
     "name": "stdout",
     "output_type": "stream",
     "text": [
      "<class 'pandas.core.frame.DataFrame'>\n",
      "Int64Index: 1916 entries, 0 to 1915\n",
      "Data columns (total 1 columns):\n",
      " #   Column  Non-Null Count  Dtype \n",
      "---  ------  --------------  ----- \n",
      " 0   Body    1875 non-null   object\n",
      "dtypes: object(1)\n",
      "memory usage: 29.9+ KB\n"
     ]
    }
   ],
   "source": [
    "phishing_text_raw.info()"
   ]
  },
  {
   "cell_type": "markdown",
   "id": "0f028cd6",
   "metadata": {},
   "source": [
    "### Cleanup"
   ]
  },
  {
   "cell_type": "markdown",
   "id": "5b10c3c2",
   "metadata": {},
   "source": [
    "#### Remove Uninformative Rows"
   ]
  },
  {
   "cell_type": "markdown",
   "id": "0c3f6dae",
   "metadata": {},
   "source": [
    "We see that there are some rows with no body text. These were emails that contained only attachments, so it is safe to drop them."
   ]
  },
  {
   "cell_type": "code",
   "execution_count": 5,
   "id": "3d517da5",
   "metadata": {},
   "outputs": [],
   "source": [
    "phishing_text = phishing_text_raw.dropna()"
   ]
  },
  {
   "cell_type": "markdown",
   "id": "35696fe2",
   "metadata": {},
   "source": [
    "Afterwards, we can see that there are some computer generated messages at the beginning of the mbox files, which we also need to remove."
   ]
  },
  {
   "cell_type": "code",
   "execution_count": 6,
   "id": "34a4033b",
   "metadata": {},
   "outputs": [],
   "source": [
    "phishing_text = phishing_text[phishing_text[\"Body\"].str.contains(\"This text is part of the internal format of your mail folder, and is not\\na real message.\") == False]"
   ]
  },
  {
   "cell_type": "code",
   "execution_count": 7,
   "id": "850d5ca8",
   "metadata": {},
   "outputs": [
    {
     "data": {
      "text/plain": [
       "(1869, 1)"
      ]
     },
     "execution_count": 7,
     "metadata": {},
     "output_type": "execute_result"
    }
   ],
   "source": [
    "phishing_text.shape"
   ]
  },
  {
   "cell_type": "markdown",
   "id": "5d99c3f7",
   "metadata": {},
   "source": [
    "Finally, we will remove the duplicate messages."
   ]
  },
  {
   "cell_type": "code",
   "execution_count": 8,
   "id": "24bbe2ba",
   "metadata": {},
   "outputs": [],
   "source": [
    "phishing_text = phishing_text[phishing_text.duplicated(keep='first') == False]"
   ]
  },
  {
   "cell_type": "code",
   "execution_count": 9,
   "id": "a6889970",
   "metadata": {
    "scrolled": true
   },
   "outputs": [
    {
     "data": {
      "text/plain": [
       "(1720, 1)"
      ]
     },
     "execution_count": 9,
     "metadata": {},
     "output_type": "execute_result"
    }
   ],
   "source": [
    "phishing_text.shape"
   ]
  },
  {
   "cell_type": "markdown",
   "id": "aed38f7b",
   "metadata": {},
   "source": [
    "We see that we have 1720 emails to work with."
   ]
  },
  {
   "cell_type": "markdown",
   "id": "31d06d84",
   "metadata": {},
   "source": [
    "## Legitimate"
   ]
  },
  {
   "cell_type": "markdown",
   "id": "d61b5eb6",
   "metadata": {},
   "source": [
    "We will repeat this process with the two smaller legitimate email datasets (since we aim for ratios of 1:1 and 1:10)."
   ]
  },
  {
   "cell_type": "code",
   "execution_count": 10,
   "id": "db5b4110",
   "metadata": {
    "scrolled": true
   },
   "outputs": [
    {
     "name": "stdout",
     "output_type": "stream",
     "text": [
      "<class 'pandas.core.frame.DataFrame'>\n",
      "Int64Index: 2000 entries, 0 to 1999\n",
      "Data columns (total 1 columns):\n",
      " #   Column  Non-Null Count  Dtype \n",
      "---  ------  --------------  ----- \n",
      " 0   Body    1991 non-null   object\n",
      "dtypes: object(1)\n",
      "memory usage: 31.2+ KB\n"
     ]
    }
   ],
   "source": [
    "legit_text_small_raw = pd.read_csv(os.path.join(csv_path, enron_csv[0]), index_col=0, encoding='latin-1', dtype={'Body': 'object'})\n",
    "legit_text_small_raw.info()"
   ]
  },
  {
   "cell_type": "code",
   "execution_count": 11,
   "id": "c5d3afbe",
   "metadata": {},
   "outputs": [
    {
     "name": "stdout",
     "output_type": "stream",
     "text": [
      "<class 'pandas.core.frame.DataFrame'>\n",
      "Int64Index: 20000 entries, 0 to 19999\n",
      "Data columns (total 1 columns):\n",
      " #   Column  Non-Null Count  Dtype \n",
      "---  ------  --------------  ----- \n",
      " 0   Body    19928 non-null  object\n",
      "dtypes: object(1)\n",
      "memory usage: 312.5+ KB\n"
     ]
    }
   ],
   "source": [
    "legit_text_big_raw = pd.read_csv(os.path.join(csv_path, enron_csv[1]), index_col=0, encoding='latin-1', dtype={'Body': 'object'})\n",
    "legit_text_big_raw.info()"
   ]
  },
  {
   "cell_type": "markdown",
   "id": "1c945338",
   "metadata": {},
   "source": [
    "### Cleanup"
   ]
  },
  {
   "cell_type": "markdown",
   "id": "3f67f27f",
   "metadata": {},
   "source": [
    "#### Remove Uninformative Rows"
   ]
  },
  {
   "cell_type": "code",
   "execution_count": 12,
   "id": "431e6c4d",
   "metadata": {},
   "outputs": [
    {
     "data": {
      "text/plain": [
       "(1991, 1)"
      ]
     },
     "execution_count": 12,
     "metadata": {},
     "output_type": "execute_result"
    }
   ],
   "source": [
    "legit_text_small = legit_text_small_raw.dropna()\n",
    "legit_text_small.shape"
   ]
  },
  {
   "cell_type": "code",
   "execution_count": 13,
   "id": "f8296529",
   "metadata": {},
   "outputs": [
    {
     "data": {
      "text/plain": [
       "(19928, 1)"
      ]
     },
     "execution_count": 13,
     "metadata": {},
     "output_type": "execute_result"
    }
   ],
   "source": [
    "legit_text_big = legit_text_big_raw.dropna()\n",
    "legit_text_big.shape"
   ]
  },
  {
   "cell_type": "markdown",
   "id": "d11ad3aa",
   "metadata": {},
   "source": [
    "There are no such computer generated emails with this dataset, so only the duplicates need removal."
   ]
  },
  {
   "cell_type": "code",
   "execution_count": 14,
   "id": "253a3ca2",
   "metadata": {},
   "outputs": [
    {
     "data": {
      "text/plain": [
       "(1972, 1)"
      ]
     },
     "execution_count": 14,
     "metadata": {},
     "output_type": "execute_result"
    }
   ],
   "source": [
    "legit_text_small = legit_text_small[legit_text_small.duplicated(keep='first') == False]\n",
    "legit_text_small.shape"
   ]
  },
  {
   "cell_type": "code",
   "execution_count": 15,
   "id": "d0116356",
   "metadata": {
    "scrolled": true
   },
   "outputs": [
    {
     "data": {
      "text/plain": [
       "(19092, 1)"
      ]
     },
     "execution_count": 15,
     "metadata": {},
     "output_type": "execute_result"
    }
   ],
   "source": [
    "legit_text_big = legit_text_big[legit_text_big.duplicated(keep='first') == False]\n",
    "legit_text_big.shape"
   ]
  },
  {
   "cell_type": "markdown",
   "id": "44ba5688",
   "metadata": {},
   "source": [
    "## Mixed Datasets"
   ]
  },
  {
   "cell_type": "markdown",
   "id": "31b59c1e",
   "metadata": {},
   "source": [
    "Finally, we will create two mixed datasets, adding an extra column that shows the class (phishing or legitimate)."
   ]
  },
  {
   "cell_type": "code",
   "execution_count": 16,
   "id": "f967470e",
   "metadata": {},
   "outputs": [],
   "source": [
    "phishing_text['Class'] = 1"
   ]
  },
  {
   "cell_type": "markdown",
   "id": "b13dcaa0",
   "metadata": {},
   "source": [
    "#### 1:1 ratio"
   ]
  },
  {
   "cell_type": "code",
   "execution_count": 17,
   "id": "65dc8690",
   "metadata": {},
   "outputs": [],
   "source": [
    "legit_text_small = legit_text_small.sample(n=1720) # taking a smaller subset in order to have 1:1 ratio\n",
    "legit_text_small['Class'] = 0"
   ]
  },
  {
   "cell_type": "code",
   "execution_count": 18,
   "id": "9cf601f4",
   "metadata": {},
   "outputs": [],
   "source": [
    "dataset_1 = pd.concat([phishing_text, legit_text_small])\n",
    "dataset_1 = dataset_1.sample(frac=1).reset_index(drop=True) # shuffle the rows and create a new unique index"
   ]
  },
  {
   "cell_type": "code",
   "execution_count": 19,
   "id": "d6c20e37",
   "metadata": {},
   "outputs": [
    {
     "name": "stdout",
     "output_type": "stream",
     "text": [
      "Saving to /home/ichanis/projects/phishing_public/data/csv/dataset_1.csv\n"
     ]
    }
   ],
   "source": [
    "util.save_to_csv(dataset_1, csv_path, 'dataset_1.csv')"
   ]
  },
  {
   "cell_type": "markdown",
   "id": "554995c5",
   "metadata": {},
   "source": [
    "#### 1:10 ratio"
   ]
  },
  {
   "cell_type": "code",
   "execution_count": 20,
   "id": "0421b068",
   "metadata": {},
   "outputs": [],
   "source": [
    "legit_text_big = legit_text_big.sample(n=17200) # taking a smaller subset in order to have 1:10 ratio\n",
    "legit_text_big['Class'] = 0"
   ]
  },
  {
   "cell_type": "code",
   "execution_count": 21,
   "id": "455fe6f0",
   "metadata": {},
   "outputs": [],
   "source": [
    "dataset_2 = pd.concat([phishing_text, legit_text_big])\n",
    "dataset_2 = dataset_2.sample(frac=1).reset_index(drop=True) # shuffle the rows and create a new unique index"
   ]
  },
  {
   "cell_type": "code",
   "execution_count": 22,
   "id": "cd6b8f43",
   "metadata": {},
   "outputs": [
    {
     "name": "stdout",
     "output_type": "stream",
     "text": [
      "Saving to /home/ichanis/projects/phishing_public/data/csv/dataset_2.csv\n"
     ]
    }
   ],
   "source": [
    "util.save_to_csv(dataset_2, csv_path, 'dataset_2.csv')"
   ]
  }
 ],
 "metadata": {
  "kernelspec": {
   "display_name": "Python 3 (ipykernel)",
   "language": "python",
   "name": "python3"
  },
  "language_info": {
   "codemirror_mode": {
    "name": "ipython",
    "version": 3
   },
   "file_extension": ".py",
   "mimetype": "text/x-python",
   "name": "python",
   "nbconvert_exporter": "python",
   "pygments_lexer": "ipython3",
   "version": "3.8.10"
  }
 },
 "nbformat": 4,
 "nbformat_minor": 5
}
