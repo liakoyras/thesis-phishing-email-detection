{
 "cells": [
  {
   "cell_type": "code",
   "execution_count": 1,
   "id": "0c0ae3ca",
   "metadata": {},
   "outputs": [],
   "source": [
    "import os\n",
    "import pandas as pd\n",
    "pd.options.display.max_columns = 250\n",
    "\n",
    "import machine_learning as ml\n",
    "from preprocessing import separate_features_target\n",
    "\n",
    "from ast import literal_eval"
   ]
  },
  {
   "cell_type": "code",
   "execution_count": 2,
   "id": "8c25aaab",
   "metadata": {},
   "outputs": [],
   "source": [
    "# Path\n",
    "cwd = os.getcwd()\n",
    "csv_path = os.path.join(cwd, 'data/csv/')\n",
    "\n",
    "train = {\n",
    "    'tfidf_sel' : ['tfidf_chi2_train_balanced.csv','tfidf_chi2_train_imbalanced.csv'],\n",
    "    'word2vec' : ['word2vec_train_balanced.csv','word2vec_train_imbalanced.csv']\n",
    "}\n",
    "test = {\n",
    "    'tfidf_sel' : ['tfidf_chi2_test_balanced.csv','tfidf_chi2_test_imbalanced.csv'],\n",
    "    'word2vec' : ['word2vec_test_balanced.csv','word2vec_test_imbalanced.csv']\n",
    "}"
   ]
  },
  {
   "cell_type": "markdown",
   "id": "3443f03d",
   "metadata": {},
   "source": [
    "# Balanced Dataset"
   ]
  },
  {
   "cell_type": "markdown",
   "id": "cfe426c1",
   "metadata": {},
   "source": [
    "## Train TF-IDF"
   ]
  },
  {
   "cell_type": "code",
   "execution_count": 3,
   "id": "b8560411",
   "metadata": {},
   "outputs": [],
   "source": [
    "tfidf_train_balanced_complete = pd.read_csv(os.path.join(csv_path, train['tfidf_sel'][0]), index_col=0)\n",
    "tfidf_test_balanced_complete = pd.read_csv(os.path.join(csv_path, test['tfidf_sel'][0]), index_col=0)"
   ]
  },
  {
   "cell_type": "code",
   "execution_count": 4,
   "id": "08db8205",
   "metadata": {},
   "outputs": [],
   "source": [
    "tfidf_train_balanced = separate_features_target(tfidf_train_balanced_complete)\n",
    "tfidf_test_balanced = separate_features_target(tfidf_test_balanced_complete)"
   ]
  },
  {
   "cell_type": "markdown",
   "id": "0a99e597",
   "metadata": {},
   "source": [
    "### Logistic Regression"
   ]
  },
  {
   "cell_type": "code",
   "execution_count": 5,
   "id": "456aa7a0",
   "metadata": {
    "scrolled": true
   },
   "outputs": [
    {
     "name": "stdout",
     "output_type": "stream",
     "text": [
      "Train accuracy: 0.9974016332590943\n"
     ]
    }
   ],
   "source": [
    "lr_tfidf_balanced = ml.train_logistic_regression(tfidf_train_balanced['features'], tfidf_train_balanced['target'], show_train_accuracy=1)\n",
    "lr_tfidf_balanced, lr_tfidf_balanced_scaler = lr_tfidf_balanced['model'], lr_tfidf_balanced['scaler']"
   ]
  },
  {
   "cell_type": "markdown",
   "id": "1ee787fe",
   "metadata": {},
   "source": [
    "### Decision Tree"
   ]
  },
  {
   "cell_type": "code",
   "execution_count": 6,
   "id": "7c503ca0",
   "metadata": {
    "scrolled": true
   },
   "outputs": [
    {
     "name": "stdout",
     "output_type": "stream",
     "text": [
      "Train accuracy: 0.9561989606533037\n"
     ]
    }
   ],
   "source": [
    "dt_tfidf_balanced = ml.train_decision_tree(tfidf_train_balanced['features'], tfidf_train_balanced['target'], show_train_accuracy=1)"
   ]
  },
  {
   "cell_type": "markdown",
   "id": "75920ffc",
   "metadata": {},
   "source": [
    "### Random Forest"
   ]
  },
  {
   "cell_type": "code",
   "execution_count": 7,
   "id": "a3d5ddab",
   "metadata": {
    "scrolled": true
   },
   "outputs": [
    {
     "name": "stdout",
     "output_type": "stream",
     "text": [
      "Train accuracy: 0.9450631031922792\n"
     ]
    }
   ],
   "source": [
    "rf_tfidf_balanced = ml.train_random_forest(tfidf_train_balanced['features'], tfidf_train_balanced['target'], show_train_accuracy=1)"
   ]
  },
  {
   "cell_type": "markdown",
   "id": "c5fcc748",
   "metadata": {},
   "source": [
    "### Gradient Boosting Tree"
   ]
  },
  {
   "cell_type": "code",
   "execution_count": 8,
   "id": "c0b056d5",
   "metadata": {
    "scrolled": true
   },
   "outputs": [
    {
     "name": "stdout",
     "output_type": "stream",
     "text": [
      "Train accuracy: 0.9832962138084632\n"
     ]
    }
   ],
   "source": [
    "gb_tfidf_balanced = ml.train_gradient_boost(tfidf_train_balanced['features'], tfidf_train_balanced['target'], show_train_accuracy=1)"
   ]
  },
  {
   "cell_type": "markdown",
   "id": "f1eb54d7",
   "metadata": {},
   "source": [
    "### Naive Bayes"
   ]
  },
  {
   "cell_type": "code",
   "execution_count": 9,
   "id": "1c32bf84",
   "metadata": {
    "scrolled": false
   },
   "outputs": [
    {
     "name": "stdout",
     "output_type": "stream",
     "text": [
      "Train accuracy: 0.9758723088344469\n"
     ]
    }
   ],
   "source": [
    "nb_tfidf_balanced = ml.train_naive_bayes(tfidf_train_balanced['features'], tfidf_train_balanced['target'], show_train_accuracy=1)\n",
    "nb_tfidf_balanced, nb_tfidf_balanced_scaler = nb_tfidf_balanced['model'], nb_tfidf_balanced['scaler']"
   ]
  },
  {
   "cell_type": "markdown",
   "id": "3056e9da",
   "metadata": {},
   "source": [
    "## Train Word2Vec"
   ]
  },
  {
   "cell_type": "code",
   "execution_count": 10,
   "id": "511f87d5",
   "metadata": {},
   "outputs": [],
   "source": [
    "word2vec_train_balanced_complete = pd.read_csv(os.path.join(csv_path, train['word2vec'][0]), index_col=0)\n",
    "word2vec_test_balanced_complete = pd.read_csv(os.path.join(csv_path, test['word2vec'][0]), index_col=0)"
   ]
  },
  {
   "cell_type": "code",
   "execution_count": 11,
   "id": "ab496a2a",
   "metadata": {},
   "outputs": [],
   "source": [
    "word2vec_train_balanced = separate_features_target(word2vec_train_balanced_complete)\n",
    "word2vec_test_balanced = separate_features_target(word2vec_test_balanced_complete)"
   ]
  },
  {
   "cell_type": "markdown",
   "id": "d20916f3",
   "metadata": {},
   "source": [
    "### Logistic Regression"
   ]
  },
  {
   "cell_type": "code",
   "execution_count": 12,
   "id": "d1695d1a",
   "metadata": {
    "scrolled": true
   },
   "outputs": [
    {
     "name": "stdout",
     "output_type": "stream",
     "text": [
      "Train accuracy: 0.9925760950259837\n"
     ]
    }
   ],
   "source": [
    "lr_word2vec_balanced = ml.train_logistic_regression(word2vec_train_balanced['features'], word2vec_train_balanced['target'], show_train_accuracy=1)\n",
    "lr_word2vec_balanced, lr_word2vec_balanced_scaler = lr_word2vec_balanced['model'], lr_word2vec_balanced['scaler']"
   ]
  },
  {
   "cell_type": "markdown",
   "id": "056f7f52",
   "metadata": {},
   "source": [
    "### Decision Tree"
   ]
  },
  {
   "cell_type": "code",
   "execution_count": 13,
   "id": "52ef191a",
   "metadata": {
    "scrolled": true
   },
   "outputs": [
    {
     "name": "stdout",
     "output_type": "stream",
     "text": [
      "Train accuracy: 0.985894580549369\n"
     ]
    }
   ],
   "source": [
    "dt_word2vec_balanced = ml.train_decision_tree(word2vec_train_balanced['features'], word2vec_train_balanced['target'], show_train_accuracy=1)"
   ]
  },
  {
   "cell_type": "markdown",
   "id": "e41879b7",
   "metadata": {},
   "source": [
    "### Random Forest"
   ]
  },
  {
   "cell_type": "code",
   "execution_count": 14,
   "id": "46f2cf27",
   "metadata": {
    "scrolled": true
   },
   "outputs": [
    {
     "name": "stdout",
     "output_type": "stream",
     "text": [
      "Train accuracy: 0.9851521900519673\n"
     ]
    }
   ],
   "source": [
    "rf_word2vec_balanced = ml.train_random_forest(word2vec_train_balanced['features'], word2vec_train_balanced['target'], show_train_accuracy=1)"
   ]
  },
  {
   "cell_type": "markdown",
   "id": "c951e241",
   "metadata": {},
   "source": [
    "### Gradient Boosting Tree"
   ]
  },
  {
   "cell_type": "code",
   "execution_count": 15,
   "id": "1551be7a",
   "metadata": {
    "scrolled": true
   },
   "outputs": [
    {
     "name": "stdout",
     "output_type": "stream",
     "text": [
      "Train accuracy: 0.9970304380103935\n"
     ]
    }
   ],
   "source": [
    "gb_word2vec_balanced = ml.train_gradient_boost(word2vec_train_balanced['features'], word2vec_train_balanced['target'], show_train_accuracy=1)"
   ]
  },
  {
   "cell_type": "markdown",
   "id": "30870fdd",
   "metadata": {},
   "source": [
    "### Naive Bayes"
   ]
  },
  {
   "cell_type": "code",
   "execution_count": 16,
   "id": "2c563aa5",
   "metadata": {
    "scrolled": false
   },
   "outputs": [
    {
     "name": "stdout",
     "output_type": "stream",
     "text": [
      "Train accuracy: 0.9643652561247216\n"
     ]
    }
   ],
   "source": [
    "nb_word2vec_balanced = ml.train_naive_bayes(word2vec_train_balanced['features'], word2vec_train_balanced['target'], remove_negatives=True, show_train_accuracy=1)\n",
    "nb_word2vec_balanced, nb_word2vec_balanced_scaler = nb_word2vec_balanced['model'], nb_word2vec_balanced['scaler']"
   ]
  },
  {
   "cell_type": "markdown",
   "id": "a79b4ce5",
   "metadata": {},
   "source": [
    "## Results"
   ]
  },
  {
   "cell_type": "markdown",
   "id": "ec76bf94",
   "metadata": {},
   "source": [
    "### TF-IDF"
   ]
  },
  {
   "cell_type": "code",
   "execution_count": 17,
   "id": "f38f957c",
   "metadata": {},
   "outputs": [],
   "source": [
    "models = [lr_tfidf_balanced, dt_tfidf_balanced, rf_tfidf_balanced, gb_tfidf_balanced, nb_tfidf_balanced]\n",
    "names = ['Logistic Regression', 'Decision Tree', 'Random Forest', 'Gradient Boosting Tree', 'Naive Bayes']"
   ]
  },
  {
   "cell_type": "code",
   "execution_count": 18,
   "id": "3090c409",
   "metadata": {},
   "outputs": [],
   "source": [
    "results_tfidf = ml.multi_model_results(models, names, tfidf_test_balanced['features'], tfidf_test_balanced['target'], lr_tfidf_balanced_scaler, nb_tfidf_balanced_scaler)"
   ]
  },
  {
   "cell_type": "code",
   "execution_count": 19,
   "id": "808e6cbb",
   "metadata": {
    "scrolled": true
   },
   "outputs": [
    {
     "data": {
      "text/html": [
       "<div>\n",
       "<style scoped>\n",
       "    .dataframe tbody tr th:only-of-type {\n",
       "        vertical-align: middle;\n",
       "    }\n",
       "\n",
       "    .dataframe tbody tr th {\n",
       "        vertical-align: top;\n",
       "    }\n",
       "\n",
       "    .dataframe thead th {\n",
       "        text-align: right;\n",
       "    }\n",
       "</style>\n",
       "<table border=\"1\" class=\"dataframe\">\n",
       "  <thead>\n",
       "    <tr style=\"text-align: right;\">\n",
       "      <th></th>\n",
       "      <th>Accuracy</th>\n",
       "      <th>Precision</th>\n",
       "      <th>Recall</th>\n",
       "      <th>F1 Score</th>\n",
       "      <th>False Positive Rate</th>\n",
       "      <th>False Negative Rate</th>\n",
       "      <th>Area Under ROC Curve</th>\n",
       "    </tr>\n",
       "  </thead>\n",
       "  <tbody>\n",
       "    <tr>\n",
       "      <th>Logistic Regression</th>\n",
       "      <td>0.959941</td>\n",
       "      <td>0.954674</td>\n",
       "      <td>0.968391</td>\n",
       "      <td>0.961484</td>\n",
       "      <td>0.049080</td>\n",
       "      <td>0.031609</td>\n",
       "      <td>0.978246</td>\n",
       "    </tr>\n",
       "    <tr>\n",
       "      <th>Decision Tree</th>\n",
       "      <td>0.936202</td>\n",
       "      <td>0.920110</td>\n",
       "      <td>0.959770</td>\n",
       "      <td>0.939522</td>\n",
       "      <td>0.088957</td>\n",
       "      <td>0.040230</td>\n",
       "      <td>0.938196</td>\n",
       "    </tr>\n",
       "    <tr>\n",
       "      <th>Random Forest</th>\n",
       "      <td>0.919881</td>\n",
       "      <td>0.953704</td>\n",
       "      <td>0.887931</td>\n",
       "      <td>0.919643</td>\n",
       "      <td>0.046012</td>\n",
       "      <td>0.112069</td>\n",
       "      <td>0.984817</td>\n",
       "    </tr>\n",
       "    <tr>\n",
       "      <th>Gradient Boosting Tree</th>\n",
       "      <td>0.954006</td>\n",
       "      <td>0.946479</td>\n",
       "      <td>0.965517</td>\n",
       "      <td>0.955903</td>\n",
       "      <td>0.058282</td>\n",
       "      <td>0.034483</td>\n",
       "      <td>0.995121</td>\n",
       "    </tr>\n",
       "    <tr>\n",
       "      <th>Naive Bayes</th>\n",
       "      <td>0.976261</td>\n",
       "      <td>0.963687</td>\n",
       "      <td>0.991379</td>\n",
       "      <td>0.977337</td>\n",
       "      <td>0.039877</td>\n",
       "      <td>0.008621</td>\n",
       "      <td>0.996201</td>\n",
       "    </tr>\n",
       "  </tbody>\n",
       "</table>\n",
       "</div>"
      ],
      "text/plain": [
       "                        Accuracy  Precision    Recall  F1 Score  \\\n",
       "Logistic Regression     0.959941   0.954674  0.968391  0.961484   \n",
       "Decision Tree           0.936202   0.920110  0.959770  0.939522   \n",
       "Random Forest           0.919881   0.953704  0.887931  0.919643   \n",
       "Gradient Boosting Tree  0.954006   0.946479  0.965517  0.955903   \n",
       "Naive Bayes             0.976261   0.963687  0.991379  0.977337   \n",
       "\n",
       "                        False Positive Rate  False Negative Rate  \\\n",
       "Logistic Regression                0.049080             0.031609   \n",
       "Decision Tree                      0.088957             0.040230   \n",
       "Random Forest                      0.046012             0.112069   \n",
       "Gradient Boosting Tree             0.058282             0.034483   \n",
       "Naive Bayes                        0.039877             0.008621   \n",
       "\n",
       "                        Area Under ROC Curve  \n",
       "Logistic Regression                 0.978246  \n",
       "Decision Tree                       0.938196  \n",
       "Random Forest                       0.984817  \n",
       "Gradient Boosting Tree              0.995121  \n",
       "Naive Bayes                         0.996201  "
      ]
     },
     "execution_count": 19,
     "metadata": {},
     "output_type": "execute_result"
    }
   ],
   "source": [
    "results_tfidf"
   ]
  },
  {
   "cell_type": "markdown",
   "id": "659f5c89",
   "metadata": {},
   "source": [
    "### Word2Vec"
   ]
  },
  {
   "cell_type": "code",
   "execution_count": 20,
   "id": "039ea068",
   "metadata": {},
   "outputs": [],
   "source": [
    "models = [lr_word2vec_balanced, dt_word2vec_balanced, rf_word2vec_balanced, gb_word2vec_balanced, nb_word2vec_balanced]\n",
    "names = ['Logistic Regression', 'Decision Tree', 'Random Forest', 'Gradient Boosting Tree', 'Naive Bayes']"
   ]
  },
  {
   "cell_type": "code",
   "execution_count": 21,
   "id": "5da4a6a3",
   "metadata": {},
   "outputs": [],
   "source": [
    "results_word2vec = ml.multi_model_results(models, names, word2vec_test_balanced['features'], word2vec_test_balanced['target'], lr_word2vec_balanced_scaler, nb_word2vec_balanced_scaler)"
   ]
  },
  {
   "cell_type": "code",
   "execution_count": 22,
   "id": "1aba61d3",
   "metadata": {
    "scrolled": false
   },
   "outputs": [
    {
     "data": {
      "text/html": [
       "<div>\n",
       "<style scoped>\n",
       "    .dataframe tbody tr th:only-of-type {\n",
       "        vertical-align: middle;\n",
       "    }\n",
       "\n",
       "    .dataframe tbody tr th {\n",
       "        vertical-align: top;\n",
       "    }\n",
       "\n",
       "    .dataframe thead th {\n",
       "        text-align: right;\n",
       "    }\n",
       "</style>\n",
       "<table border=\"1\" class=\"dataframe\">\n",
       "  <thead>\n",
       "    <tr style=\"text-align: right;\">\n",
       "      <th></th>\n",
       "      <th>Accuracy</th>\n",
       "      <th>Precision</th>\n",
       "      <th>Recall</th>\n",
       "      <th>F1 Score</th>\n",
       "      <th>False Positive Rate</th>\n",
       "      <th>False Negative Rate</th>\n",
       "      <th>Area Under ROC Curve</th>\n",
       "    </tr>\n",
       "  </thead>\n",
       "  <tbody>\n",
       "    <tr>\n",
       "      <th>Logistic Regression</th>\n",
       "      <td>0.977745</td>\n",
       "      <td>0.982609</td>\n",
       "      <td>0.974138</td>\n",
       "      <td>0.978355</td>\n",
       "      <td>0.018405</td>\n",
       "      <td>0.025862</td>\n",
       "      <td>0.996324</td>\n",
       "    </tr>\n",
       "    <tr>\n",
       "      <th>Decision Tree</th>\n",
       "      <td>0.952522</td>\n",
       "      <td>0.961988</td>\n",
       "      <td>0.945402</td>\n",
       "      <td>0.953623</td>\n",
       "      <td>0.039877</td>\n",
       "      <td>0.054598</td>\n",
       "      <td>0.939466</td>\n",
       "    </tr>\n",
       "    <tr>\n",
       "      <th>Random Forest</th>\n",
       "      <td>0.968843</td>\n",
       "      <td>0.965812</td>\n",
       "      <td>0.974138</td>\n",
       "      <td>0.969957</td>\n",
       "      <td>0.036810</td>\n",
       "      <td>0.025862</td>\n",
       "      <td>0.995081</td>\n",
       "    </tr>\n",
       "    <tr>\n",
       "      <th>Gradient Boosting Tree</th>\n",
       "      <td>0.977745</td>\n",
       "      <td>0.977077</td>\n",
       "      <td>0.979885</td>\n",
       "      <td>0.978479</td>\n",
       "      <td>0.024540</td>\n",
       "      <td>0.020115</td>\n",
       "      <td>0.996113</td>\n",
       "    </tr>\n",
       "    <tr>\n",
       "      <th>Naive Bayes</th>\n",
       "      <td>0.962908</td>\n",
       "      <td>0.965418</td>\n",
       "      <td>0.962644</td>\n",
       "      <td>0.964029</td>\n",
       "      <td>0.036810</td>\n",
       "      <td>0.037356</td>\n",
       "      <td>0.987254</td>\n",
       "    </tr>\n",
       "  </tbody>\n",
       "</table>\n",
       "</div>"
      ],
      "text/plain": [
       "                        Accuracy  Precision    Recall  F1 Score  \\\n",
       "Logistic Regression     0.977745   0.982609  0.974138  0.978355   \n",
       "Decision Tree           0.952522   0.961988  0.945402  0.953623   \n",
       "Random Forest           0.968843   0.965812  0.974138  0.969957   \n",
       "Gradient Boosting Tree  0.977745   0.977077  0.979885  0.978479   \n",
       "Naive Bayes             0.962908   0.965418  0.962644  0.964029   \n",
       "\n",
       "                        False Positive Rate  False Negative Rate  \\\n",
       "Logistic Regression                0.018405             0.025862   \n",
       "Decision Tree                      0.039877             0.054598   \n",
       "Random Forest                      0.036810             0.025862   \n",
       "Gradient Boosting Tree             0.024540             0.020115   \n",
       "Naive Bayes                        0.036810             0.037356   \n",
       "\n",
       "                        Area Under ROC Curve  \n",
       "Logistic Regression                 0.996324  \n",
       "Decision Tree                       0.939466  \n",
       "Random Forest                       0.995081  \n",
       "Gradient Boosting Tree              0.996113  \n",
       "Naive Bayes                         0.987254  "
      ]
     },
     "execution_count": 22,
     "metadata": {},
     "output_type": "execute_result"
    }
   ],
   "source": [
    "results_word2vec"
   ]
  },
  {
   "cell_type": "markdown",
   "id": "443c6def",
   "metadata": {},
   "source": [
    "# Imbalanced Dataset"
   ]
  },
  {
   "cell_type": "markdown",
   "id": "697dfd09",
   "metadata": {},
   "source": [
    "## Train TF-IDF"
   ]
  },
  {
   "cell_type": "code",
   "execution_count": 23,
   "id": "ab0cc2f8",
   "metadata": {},
   "outputs": [],
   "source": [
    "tfidf_train_imbalanced_complete = pd.read_csv(os.path.join(csv_path, train['tfidf_sel'][1]), index_col=0)\n",
    "tfidf_test_imbalanced_complete = pd.read_csv(os.path.join(csv_path, test['tfidf_sel'][1]), index_col=0)"
   ]
  },
  {
   "cell_type": "code",
   "execution_count": 24,
   "id": "5e04f65c",
   "metadata": {},
   "outputs": [],
   "source": [
    "tfidf_train_imbalanced = separate_features_target(tfidf_train_imbalanced_complete)\n",
    "tfidf_test_imbalanced = separate_features_target(tfidf_test_imbalanced_complete)"
   ]
  },
  {
   "cell_type": "markdown",
   "id": "2b4d2cd1",
   "metadata": {},
   "source": [
    "### Logistic Regression"
   ]
  },
  {
   "cell_type": "code",
   "execution_count": 25,
   "id": "b31b7985",
   "metadata": {
    "scrolled": true
   },
   "outputs": [
    {
     "name": "stdout",
     "output_type": "stream",
     "text": [
      "Train accuracy: 0.9933774834437086\n"
     ]
    },
    {
     "name": "stderr",
     "output_type": "stream",
     "text": [
      "/home/ichanis/.local/lib/python3.8/site-packages/sklearn/linear_model/_logistic.py:444: ConvergenceWarning: lbfgs failed to converge (status=1):\n",
      "STOP: TOTAL NO. of ITERATIONS REACHED LIMIT.\n",
      "\n",
      "Increase the number of iterations (max_iter) or scale the data as shown in:\n",
      "    https://scikit-learn.org/stable/modules/preprocessing.html\n",
      "Please also refer to the documentation for alternative solver options:\n",
      "    https://scikit-learn.org/stable/modules/linear_model.html#logistic-regression\n",
      "  n_iter_i = _check_optimize_result(\n"
     ]
    }
   ],
   "source": [
    "lr_tfidf_imbalanced = ml.train_logistic_regression(tfidf_train_imbalanced['features'], tfidf_train_imbalanced['target'], show_train_accuracy=1)\n",
    "lr_tfidf_imbalanced, lr_tfidf_imbalanced_scaler= lr_tfidf_imbalanced['model'], lr_tfidf_imbalanced['scaler']"
   ]
  },
  {
   "cell_type": "markdown",
   "id": "18eb5ca4",
   "metadata": {},
   "source": [
    "### Decision Tree"
   ]
  },
  {
   "cell_type": "code",
   "execution_count": 26,
   "id": "e25ea614",
   "metadata": {
    "scrolled": true
   },
   "outputs": [
    {
     "name": "stdout",
     "output_type": "stream",
     "text": [
      "Train accuracy: 0.9662116502230031\n"
     ]
    }
   ],
   "source": [
    "dt_tfidf_imbalanced = ml.train_decision_tree(tfidf_train_imbalanced['features'], tfidf_train_imbalanced['target'], show_train_accuracy=1)"
   ]
  },
  {
   "cell_type": "markdown",
   "id": "521655cd",
   "metadata": {},
   "source": [
    "### Random Forest"
   ]
  },
  {
   "cell_type": "code",
   "execution_count": 27,
   "id": "bee84f70",
   "metadata": {
    "scrolled": true
   },
   "outputs": [
    {
     "name": "stdout",
     "output_type": "stream",
     "text": [
      "Train accuracy: 0.9507365860251386\n"
     ]
    }
   ],
   "source": [
    "rf_tfidf_imbalanced = ml.train_random_forest(tfidf_train_imbalanced['features'], tfidf_train_imbalanced['target'], show_train_accuracy=1)"
   ]
  },
  {
   "cell_type": "markdown",
   "id": "15e89d17",
   "metadata": {},
   "source": [
    "### Gradient Boosting Tree"
   ]
  },
  {
   "cell_type": "code",
   "execution_count": 28,
   "id": "1c558739",
   "metadata": {
    "scrolled": true
   },
   "outputs": [
    {
     "name": "stdout",
     "output_type": "stream",
     "text": [
      "Train accuracy: 0.9870252736856332\n"
     ]
    }
   ],
   "source": [
    "gb_tfidf_imbalanced = ml.train_gradient_boost(tfidf_train_imbalanced['features'], tfidf_train_imbalanced['target'], show_train_accuracy=1)"
   ]
  },
  {
   "cell_type": "markdown",
   "id": "5bca4e74",
   "metadata": {},
   "source": [
    "### Naive Bayes"
   ]
  },
  {
   "cell_type": "code",
   "execution_count": 29,
   "id": "c4a63326",
   "metadata": {
    "scrolled": true
   },
   "outputs": [
    {
     "name": "stdout",
     "output_type": "stream",
     "text": [
      "Train accuracy: 0.9789836464387079\n"
     ]
    }
   ],
   "source": [
    "nb_tfidf_imbalanced = ml.train_naive_bayes(tfidf_train_imbalanced['features'], tfidf_train_imbalanced['target'], show_train_accuracy=1)\n",
    "nb_tfidf_imbalanced, nb_tfidf_imbalanced_scaler = nb_tfidf_imbalanced['model'], nb_tfidf_imbalanced['scaler']"
   ]
  },
  {
   "cell_type": "markdown",
   "id": "284d6c45",
   "metadata": {},
   "source": [
    "## Train Word2Vec"
   ]
  },
  {
   "cell_type": "code",
   "execution_count": 30,
   "id": "7565a706",
   "metadata": {},
   "outputs": [],
   "source": [
    "word2vec_train_imbalanced_complete = pd.read_csv(os.path.join(csv_path, train['word2vec'][1]), index_col=0)\n",
    "word2vec_test_imbalanced_complete = pd.read_csv(os.path.join(csv_path, test['word2vec'][1]), index_col=0)"
   ]
  },
  {
   "cell_type": "code",
   "execution_count": 31,
   "id": "a5d62c2e",
   "metadata": {},
   "outputs": [],
   "source": [
    "word2vec_train_imbalanced = separate_features_target(word2vec_train_imbalanced_complete)\n",
    "word2vec_test_imbalanced = separate_features_target(word2vec_test_imbalanced_complete)"
   ]
  },
  {
   "cell_type": "markdown",
   "id": "e1c5dffe",
   "metadata": {},
   "source": [
    "### Logistic Regression"
   ]
  },
  {
   "cell_type": "code",
   "execution_count": 32,
   "id": "1101e16f",
   "metadata": {
    "scrolled": true
   },
   "outputs": [
    {
     "name": "stdout",
     "output_type": "stream",
     "text": [
      "Train accuracy: 0.9920935261521827\n"
     ]
    }
   ],
   "source": [
    "lr_word2vec_imbalanced = ml.train_logistic_regression(word2vec_train_imbalanced['features'], word2vec_train_imbalanced['target'], show_train_accuracy=1)\n",
    "lr_word2vec_imbalanced, lr_word2vec_imbalanced_scaler= lr_word2vec_imbalanced['model'], lr_word2vec_imbalanced['scaler']"
   ]
  },
  {
   "cell_type": "markdown",
   "id": "a9e3e5b5",
   "metadata": {},
   "source": [
    "### Decision Tree"
   ]
  },
  {
   "cell_type": "code",
   "execution_count": 33,
   "id": "d8933f40",
   "metadata": {
    "scrolled": true
   },
   "outputs": [
    {
     "name": "stdout",
     "output_type": "stream",
     "text": [
      "Train accuracy: 0.9846600892012434\n"
     ]
    }
   ],
   "source": [
    "dt_word2vec_imbalanced = ml.train_decision_tree(word2vec_train_imbalanced['features'], word2vec_train_imbalanced['target'], show_train_accuracy=1)"
   ]
  },
  {
   "cell_type": "markdown",
   "id": "93ab7bda",
   "metadata": {},
   "source": [
    "### Random Forest"
   ]
  },
  {
   "cell_type": "code",
   "execution_count": 34,
   "id": "da2b6803",
   "metadata": {
    "scrolled": true
   },
   "outputs": [
    {
     "name": "stdout",
     "output_type": "stream",
     "text": [
      "Train accuracy: 0.9856061629949994\n"
     ]
    }
   ],
   "source": [
    "rf_word2vec_imbalanced = ml.train_random_forest(word2vec_train_imbalanced['features'], word2vec_train_imbalanced['target'], show_train_accuracy=1)"
   ]
  },
  {
   "cell_type": "markdown",
   "id": "f59ae3f3",
   "metadata": {},
   "source": [
    "### Gradient Boosting Tree"
   ]
  },
  {
   "cell_type": "code",
   "execution_count": 35,
   "id": "660e52f3",
   "metadata": {
    "scrolled": true
   },
   "outputs": [
    {
     "name": "stdout",
     "output_type": "stream",
     "text": [
      "Train accuracy: 0.9956750912285444\n"
     ]
    }
   ],
   "source": [
    "gb_word2vec_imbalanced = ml.train_gradient_boost(word2vec_train_imbalanced['features'], word2vec_train_imbalanced['target'], show_train_accuracy=1)"
   ]
  },
  {
   "cell_type": "markdown",
   "id": "48e06f32",
   "metadata": {},
   "source": [
    "### Naive Bayes"
   ]
  },
  {
   "cell_type": "code",
   "execution_count": 36,
   "id": "ad936feb",
   "metadata": {
    "scrolled": true
   },
   "outputs": [
    {
     "name": "stdout",
     "output_type": "stream",
     "text": [
      "Train accuracy: 0.9079605352074605\n"
     ]
    }
   ],
   "source": [
    "nb_word2vec_imbalanced = ml.train_naive_bayes(word2vec_train_imbalanced['features'], word2vec_train_imbalanced['target'], remove_negatives=True, show_train_accuracy=1)\n",
    "nb_word2vec_imbalanced, nb_word2vec_imbalanced_scaler = nb_word2vec_imbalanced['model'], nb_word2vec_imbalanced['scaler']"
   ]
  },
  {
   "cell_type": "markdown",
   "id": "68350090",
   "metadata": {},
   "source": [
    "## Results"
   ]
  },
  {
   "cell_type": "markdown",
   "id": "fbf92efc",
   "metadata": {},
   "source": [
    "### TF-IDF"
   ]
  },
  {
   "cell_type": "code",
   "execution_count": 37,
   "id": "fb488524",
   "metadata": {},
   "outputs": [],
   "source": [
    "models = [lr_tfidf_imbalanced, dt_tfidf_imbalanced, rf_tfidf_imbalanced, gb_tfidf_imbalanced, nb_tfidf_imbalanced]\n",
    "names = ['Logistic Regression', 'Decision Tree', 'Random Forest', 'Gradient Boosting Tree', 'Naive Bayes']"
   ]
  },
  {
   "cell_type": "code",
   "execution_count": 38,
   "id": "2035ce5a",
   "metadata": {},
   "outputs": [],
   "source": [
    "results_tfidf_imbalanced = ml.multi_model_results(models, names, tfidf_test_imbalanced['features'], tfidf_test_imbalanced['target'], lr_tfidf_imbalanced_scaler, nb_tfidf_imbalanced_scaler)"
   ]
  },
  {
   "cell_type": "code",
   "execution_count": 39,
   "id": "8a508641",
   "metadata": {
    "scrolled": false
   },
   "outputs": [
    {
     "data": {
      "text/html": [
       "<div>\n",
       "<style scoped>\n",
       "    .dataframe tbody tr th:only-of-type {\n",
       "        vertical-align: middle;\n",
       "    }\n",
       "\n",
       "    .dataframe tbody tr th {\n",
       "        vertical-align: top;\n",
       "    }\n",
       "\n",
       "    .dataframe thead th {\n",
       "        text-align: right;\n",
       "    }\n",
       "</style>\n",
       "<table border=\"1\" class=\"dataframe\">\n",
       "  <thead>\n",
       "    <tr style=\"text-align: right;\">\n",
       "      <th></th>\n",
       "      <th>Accuracy</th>\n",
       "      <th>Precision</th>\n",
       "      <th>Recall</th>\n",
       "      <th>F1 Score</th>\n",
       "      <th>False Positive Rate</th>\n",
       "      <th>False Negative Rate</th>\n",
       "      <th>Area Under ROC Curve</th>\n",
       "    </tr>\n",
       "  </thead>\n",
       "  <tbody>\n",
       "    <tr>\n",
       "      <th>Logistic Regression</th>\n",
       "      <td>0.985405</td>\n",
       "      <td>0.914110</td>\n",
       "      <td>0.919753</td>\n",
       "      <td>0.916923</td>\n",
       "      <td>0.008294</td>\n",
       "      <td>0.080247</td>\n",
       "      <td>0.995144</td>\n",
       "    </tr>\n",
       "    <tr>\n",
       "      <th>Decision Tree</th>\n",
       "      <td>0.965405</td>\n",
       "      <td>0.874046</td>\n",
       "      <td>0.706790</td>\n",
       "      <td>0.781570</td>\n",
       "      <td>0.009775</td>\n",
       "      <td>0.293210</td>\n",
       "      <td>0.949155</td>\n",
       "    </tr>\n",
       "    <tr>\n",
       "      <th>Random Forest</th>\n",
       "      <td>0.950541</td>\n",
       "      <td>0.993007</td>\n",
       "      <td>0.438272</td>\n",
       "      <td>0.608137</td>\n",
       "      <td>0.000296</td>\n",
       "      <td>0.561728</td>\n",
       "      <td>0.980307</td>\n",
       "    </tr>\n",
       "    <tr>\n",
       "      <th>Gradient Boosting Tree</th>\n",
       "      <td>0.980811</td>\n",
       "      <td>0.946996</td>\n",
       "      <td>0.827160</td>\n",
       "      <td>0.883031</td>\n",
       "      <td>0.004443</td>\n",
       "      <td>0.172840</td>\n",
       "      <td>0.989347</td>\n",
       "    </tr>\n",
       "    <tr>\n",
       "      <th>Naive Bayes</th>\n",
       "      <td>0.979189</td>\n",
       "      <td>0.959108</td>\n",
       "      <td>0.796296</td>\n",
       "      <td>0.870152</td>\n",
       "      <td>0.003258</td>\n",
       "      <td>0.203704</td>\n",
       "      <td>0.994218</td>\n",
       "    </tr>\n",
       "  </tbody>\n",
       "</table>\n",
       "</div>"
      ],
      "text/plain": [
       "                        Accuracy  Precision    Recall  F1 Score  \\\n",
       "Logistic Regression     0.985405   0.914110  0.919753  0.916923   \n",
       "Decision Tree           0.965405   0.874046  0.706790  0.781570   \n",
       "Random Forest           0.950541   0.993007  0.438272  0.608137   \n",
       "Gradient Boosting Tree  0.980811   0.946996  0.827160  0.883031   \n",
       "Naive Bayes             0.979189   0.959108  0.796296  0.870152   \n",
       "\n",
       "                        False Positive Rate  False Negative Rate  \\\n",
       "Logistic Regression                0.008294             0.080247   \n",
       "Decision Tree                      0.009775             0.293210   \n",
       "Random Forest                      0.000296             0.561728   \n",
       "Gradient Boosting Tree             0.004443             0.172840   \n",
       "Naive Bayes                        0.003258             0.203704   \n",
       "\n",
       "                        Area Under ROC Curve  \n",
       "Logistic Regression                 0.995144  \n",
       "Decision Tree                       0.949155  \n",
       "Random Forest                       0.980307  \n",
       "Gradient Boosting Tree              0.989347  \n",
       "Naive Bayes                         0.994218  "
      ]
     },
     "execution_count": 39,
     "metadata": {},
     "output_type": "execute_result"
    }
   ],
   "source": [
    "results_tfidf_imbalanced"
   ]
  },
  {
   "cell_type": "markdown",
   "id": "5517f31e",
   "metadata": {},
   "source": [
    "### Word2Vec"
   ]
  },
  {
   "cell_type": "code",
   "execution_count": 40,
   "id": "4c76965f",
   "metadata": {},
   "outputs": [],
   "source": [
    "models = [lr_word2vec_imbalanced, dt_word2vec_imbalanced, rf_word2vec_imbalanced, gb_word2vec_imbalanced, nb_word2vec_imbalanced]\n",
    "names = ['Logistic Regression', 'Decision Tree', 'Random Forest', 'Gradient Boosting Tree', 'Naive Bayes']"
   ]
  },
  {
   "cell_type": "code",
   "execution_count": 41,
   "id": "f9744de6",
   "metadata": {},
   "outputs": [
    {
     "name": "stderr",
     "output_type": "stream",
     "text": [
      "/home/ichanis/.local/lib/python3.8/site-packages/sklearn/metrics/_classification.py:1334: UndefinedMetricWarning: Precision is ill-defined and being set to 0.0 due to no predicted samples. Use `zero_division` parameter to control this behavior.\n",
      "  _warn_prf(average, modifier, msg_start, len(result))\n"
     ]
    }
   ],
   "source": [
    "results_word2vec_imbalanced = ml.multi_model_results(models, names, word2vec_test_imbalanced['features'], word2vec_test_imbalanced['target'], lr_word2vec_imbalanced_scaler, nb_word2vec_imbalanced_scaler)"
   ]
  },
  {
   "cell_type": "code",
   "execution_count": 42,
   "id": "c88eee36",
   "metadata": {
    "scrolled": true
   },
   "outputs": [
    {
     "data": {
      "text/html": [
       "<div>\n",
       "<style scoped>\n",
       "    .dataframe tbody tr th:only-of-type {\n",
       "        vertical-align: middle;\n",
       "    }\n",
       "\n",
       "    .dataframe tbody tr th {\n",
       "        vertical-align: top;\n",
       "    }\n",
       "\n",
       "    .dataframe thead th {\n",
       "        text-align: right;\n",
       "    }\n",
       "</style>\n",
       "<table border=\"1\" class=\"dataframe\">\n",
       "  <thead>\n",
       "    <tr style=\"text-align: right;\">\n",
       "      <th></th>\n",
       "      <th>Accuracy</th>\n",
       "      <th>Precision</th>\n",
       "      <th>Recall</th>\n",
       "      <th>F1 Score</th>\n",
       "      <th>False Positive Rate</th>\n",
       "      <th>False Negative Rate</th>\n",
       "      <th>Area Under ROC Curve</th>\n",
       "    </tr>\n",
       "  </thead>\n",
       "  <tbody>\n",
       "    <tr>\n",
       "      <th>Logistic Regression</th>\n",
       "      <td>0.990270</td>\n",
       "      <td>0.961538</td>\n",
       "      <td>0.925926</td>\n",
       "      <td>0.943396</td>\n",
       "      <td>0.003555</td>\n",
       "      <td>0.074074</td>\n",
       "      <td>0.997795</td>\n",
       "    </tr>\n",
       "    <tr>\n",
       "      <th>Decision Tree</th>\n",
       "      <td>0.978919</td>\n",
       "      <td>0.891720</td>\n",
       "      <td>0.864198</td>\n",
       "      <td>0.877743</td>\n",
       "      <td>0.010071</td>\n",
       "      <td>0.135802</td>\n",
       "      <td>0.974495</td>\n",
       "    </tr>\n",
       "    <tr>\n",
       "      <th>Random Forest</th>\n",
       "      <td>0.984324</td>\n",
       "      <td>0.968310</td>\n",
       "      <td>0.848765</td>\n",
       "      <td>0.904605</td>\n",
       "      <td>0.002666</td>\n",
       "      <td>0.151235</td>\n",
       "      <td>0.994936</td>\n",
       "    </tr>\n",
       "    <tr>\n",
       "      <th>Gradient Boosting Tree</th>\n",
       "      <td>0.989459</td>\n",
       "      <td>0.952381</td>\n",
       "      <td>0.925926</td>\n",
       "      <td>0.938967</td>\n",
       "      <td>0.004443</td>\n",
       "      <td>0.074074</td>\n",
       "      <td>0.998024</td>\n",
       "    </tr>\n",
       "    <tr>\n",
       "      <th>Naive Bayes</th>\n",
       "      <td>0.912432</td>\n",
       "      <td>0.000000</td>\n",
       "      <td>0.000000</td>\n",
       "      <td>0.000000</td>\n",
       "      <td>0.000000</td>\n",
       "      <td>1.000000</td>\n",
       "      <td>0.989869</td>\n",
       "    </tr>\n",
       "  </tbody>\n",
       "</table>\n",
       "</div>"
      ],
      "text/plain": [
       "                        Accuracy  Precision    Recall  F1 Score  \\\n",
       "Logistic Regression     0.990270   0.961538  0.925926  0.943396   \n",
       "Decision Tree           0.978919   0.891720  0.864198  0.877743   \n",
       "Random Forest           0.984324   0.968310  0.848765  0.904605   \n",
       "Gradient Boosting Tree  0.989459   0.952381  0.925926  0.938967   \n",
       "Naive Bayes             0.912432   0.000000  0.000000  0.000000   \n",
       "\n",
       "                        False Positive Rate  False Negative Rate  \\\n",
       "Logistic Regression                0.003555             0.074074   \n",
       "Decision Tree                      0.010071             0.135802   \n",
       "Random Forest                      0.002666             0.151235   \n",
       "Gradient Boosting Tree             0.004443             0.074074   \n",
       "Naive Bayes                        0.000000             1.000000   \n",
       "\n",
       "                        Area Under ROC Curve  \n",
       "Logistic Regression                 0.997795  \n",
       "Decision Tree                       0.974495  \n",
       "Random Forest                       0.994936  \n",
       "Gradient Boosting Tree              0.998024  \n",
       "Naive Bayes                         0.989869  "
      ]
     },
     "execution_count": 42,
     "metadata": {},
     "output_type": "execute_result"
    }
   ],
   "source": [
    "results_word2vec_imbalanced"
   ]
  },
  {
   "cell_type": "markdown",
   "id": "bca62cf7",
   "metadata": {},
   "source": [
    "# Specific emails"
   ]
  },
  {
   "cell_type": "markdown",
   "id": "72e091a0",
   "metadata": {},
   "source": [
    "It is possible to see the predictions of each algorithm with Word2Vec features (since those performed the best) for selected emails (some of which were also seen previously)."
   ]
  },
  {
   "cell_type": "code",
   "execution_count": 43,
   "id": "29c6e550",
   "metadata": {},
   "outputs": [],
   "source": [
    "models = [lr_word2vec_balanced, dt_word2vec_balanced, rf_word2vec_balanced, gb_word2vec_balanced, nb_word2vec_balanced]\n",
    "names = ['Logistic Regression', 'Decision Tree', 'Random Forest', 'Gradient Boosting Tree', 'Naive Bayes']"
   ]
  },
  {
   "cell_type": "code",
   "execution_count": 45,
   "id": "868b7151",
   "metadata": {},
   "outputs": [
    {
     "data": {
      "text/html": [
       "<div>\n",
       "<style scoped>\n",
       "    .dataframe tbody tr th:only-of-type {\n",
       "        vertical-align: middle;\n",
       "    }\n",
       "\n",
       "    .dataframe tbody tr th {\n",
       "        vertical-align: top;\n",
       "    }\n",
       "\n",
       "    .dataframe thead th {\n",
       "        text-align: right;\n",
       "    }\n",
       "</style>\n",
       "<table border=\"1\" class=\"dataframe\">\n",
       "  <thead>\n",
       "    <tr style=\"text-align: right;\">\n",
       "      <th></th>\n",
       "      <th>Email ID</th>\n",
       "      <th>True Class</th>\n",
       "      <th>Logistic Regression</th>\n",
       "      <th>Decision Tree</th>\n",
       "      <th>Random Forest</th>\n",
       "      <th>Gradient Boosting Tree</th>\n",
       "      <th>Naive Bayes</th>\n",
       "    </tr>\n",
       "  </thead>\n",
       "  <tbody>\n",
       "    <tr>\n",
       "      <th>0</th>\n",
       "      <td>17</td>\n",
       "      <td>True</td>\n",
       "      <td>True</td>\n",
       "      <td>True</td>\n",
       "      <td>True</td>\n",
       "      <td>True</td>\n",
       "      <td>True</td>\n",
       "    </tr>\n",
       "    <tr>\n",
       "      <th>1</th>\n",
       "      <td>1379</td>\n",
       "      <td>True</td>\n",
       "      <td>True</td>\n",
       "      <td>False</td>\n",
       "      <td>False</td>\n",
       "      <td>False</td>\n",
       "      <td>False</td>\n",
       "    </tr>\n",
       "    <tr>\n",
       "      <th>2</th>\n",
       "      <td>5</td>\n",
       "      <td>False</td>\n",
       "      <td>False</td>\n",
       "      <td>False</td>\n",
       "      <td>False</td>\n",
       "      <td>False</td>\n",
       "      <td>False</td>\n",
       "    </tr>\n",
       "  </tbody>\n",
       "</table>\n",
       "</div>"
      ],
      "text/plain": [
       "   Email ID  True Class  Logistic Regression  Decision Tree  Random Forest  \\\n",
       "0        17        True                 True           True           True   \n",
       "1      1379        True                 True          False          False   \n",
       "2         5       False                False          False          False   \n",
       "\n",
       "   Gradient Boosting Tree  Naive Bayes  \n",
       "0                    True         True  \n",
       "1                   False        False  \n",
       "2                   False        False  "
      ]
     },
     "execution_count": 45,
     "metadata": {},
     "output_type": "execute_result"
    }
   ],
   "source": [
    "ml.results_by_id(models, names, word2vec_test_balanced_complete, [5, 17, 1379], lr_word2vec_balanced_scaler, nb_word2vec_balanced_scaler)"
   ]
  },
  {
   "cell_type": "markdown",
   "id": "e023859a",
   "metadata": {},
   "source": [
    "We see that the emails with `id: 17` was correctly identified as phishing by all algorithms and, similarly, the email with `id: 5` was unanimously correctly identified as legitimate.<br>\n",
    "\n",
    "On the other hand, the email with `id: 1379` was misclassified by all of the algorithms except Logistic Regression.\n",
    "```\n",
    "Hello,\n",
    " I hope you are safe from the Covid 19.\n",
    " We are currently back to work and our company hope to place our urgent orders as previously discussed before the lockdown.\n",
    "Kindly find below our attached order via Wetransfer and confirm availability of all products.\n",
    "\n",
    "\n",
    " https://wetransfer.com/downloads\n",
    "\n",
    "\n",
    "\n",
    " Kindly send in your best quote and shortest delivery time.\n",
    " -\n",
    "\n",
    "\n",
    " Greetings!\n",
    "Maria Pietrygas (Import Manager)\n",
    "Nautril Holdings\n",
    "Athens Gr\n",
    "Tel.08872917845\n",
    "```\n",
    "Indeed, while it is a phishing email, it appears to be legitimate (despite the fact that this company does not even exist). Apart from a sense of urgency, none of the other usual phishing markers are present."
   ]
  },
  {
   "cell_type": "markdown",
   "id": "3348e9c5",
   "metadata": {},
   "source": [
    "# Conclusions"
   ]
  },
  {
   "cell_type": "markdown",
   "id": "cb0b8da7",
   "metadata": {},
   "source": [
    "- As expected, the algorithms performed better on the balanced dataset.\n",
    "- The best performing algorithms were Gradient Boosting and Logistic Regression. Gradient Boosting was a bit more consistent and achieved the best results in the balanced dataset, but Logistic Regression outperformed it in on the imbalanced set.\n",
    "- Naive Bayes (despite achieving the best results in balanced TF-IDF) is not very well suited to such classification problems, and is especially bad with imbalanced datasets.\n",
    "- Wor2Vec features definitely outperformed TF-IDF, both in balanced and imbalanced datasets."
   ]
  }
 ],
 "metadata": {
  "kernelspec": {
   "display_name": "Python 3 (ipykernel)",
   "language": "python",
   "name": "python3"
  },
  "language_info": {
   "codemirror_mode": {
    "name": "ipython",
    "version": 3
   },
   "file_extension": ".py",
   "mimetype": "text/x-python",
   "name": "python",
   "nbconvert_exporter": "python",
   "pygments_lexer": "ipython3",
   "version": "3.8.10"
  }
 },
 "nbformat": 4,
 "nbformat_minor": 5
}
