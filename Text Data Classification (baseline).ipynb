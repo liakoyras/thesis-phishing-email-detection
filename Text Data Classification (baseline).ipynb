{
 "cells": [
  {
   "cell_type": "code",
   "execution_count": 1,
   "id": "0c0ae3ca",
   "metadata": {},
   "outputs": [],
   "source": [
    "import os\n",
    "import pandas as pd\n",
    "pd.options.display.max_columns = 250\n",
    "\n",
    "import machine_learning as ml\n",
    "from preprocessing import separate_features_target\n",
    "\n",
    "from ast import literal_eval"
   ]
  },
  {
   "cell_type": "code",
   "execution_count": 2,
   "id": "8c25aaab",
   "metadata": {},
   "outputs": [],
   "source": [
    "# Path\n",
    "cwd = os.getcwd()\n",
    "csv_path = os.path.join(cwd, 'data/csv/')\n",
    "\n",
    "train = {\n",
    "    'tfidf_sel' : ['tfidf_chi2_train_balanced.csv','tfidf_chi2_train_imbalanced.csv'],\n",
    "    'word2vec' : ['word2vec_train_balanced.csv','word2vec_train_imbalanced.csv']\n",
    "}\n",
    "test = {\n",
    "    'tfidf_sel' : ['tfidf_chi2_test_balanced.csv','tfidf_chi2_test_imbalanced.csv'],\n",
    "    'word2vec' : ['word2vec_test_balanced.csv','word2vec_test_imbalanced.csv']\n",
    "}"
   ]
  },
  {
   "cell_type": "markdown",
   "id": "3443f03d",
   "metadata": {},
   "source": [
    "# Balanced Dataset"
   ]
  },
  {
   "cell_type": "markdown",
   "id": "cfe426c1",
   "metadata": {},
   "source": [
    "## Train TF-IDF"
   ]
  },
  {
   "cell_type": "code",
   "execution_count": 3,
   "id": "b8560411",
   "metadata": {},
   "outputs": [],
   "source": [
    "tfidf_train_balanced = pd.read_csv(os.path.join(csv_path, train['tfidf_sel'][0]), index_col=0)\n",
    "tfidf_test_balanced = pd.read_csv(os.path.join(csv_path, test['tfidf_sel'][0]), index_col=0)"
   ]
  },
  {
   "cell_type": "code",
   "execution_count": 4,
   "id": "08db8205",
   "metadata": {},
   "outputs": [],
   "source": [
    "tfidf_train_balanced = separate_features_target(tfidf_train_balanced)\n",
    "tfidf_test_balanced = separate_features_target(tfidf_test_balanced)"
   ]
  },
  {
   "cell_type": "markdown",
   "id": "0a99e597",
   "metadata": {},
   "source": [
    "### Logistic Regression"
   ]
  },
  {
   "cell_type": "code",
   "execution_count": 5,
   "id": "456aa7a0",
   "metadata": {
    "scrolled": true
   },
   "outputs": [
    {
     "name": "stdout",
     "output_type": "stream",
     "text": [
      "Train accuracy: 0.9911039223615042\n"
     ]
    }
   ],
   "source": [
    "lr_tfidf_balanced = ml.train_logistic_regression(tfidf_train_balanced['features'], tfidf_train_balanced['target'], show_train_accuracy=1)\n",
    "lr_tfidf_balanced, lr_tfidf_balanced_scaler = lr_tfidf_balanced['model'], lr_tfidf_balanced['scaler']"
   ]
  },
  {
   "cell_type": "markdown",
   "id": "1ee787fe",
   "metadata": {},
   "source": [
    "### Decision Tree"
   ]
  },
  {
   "cell_type": "code",
   "execution_count": 6,
   "id": "7c503ca0",
   "metadata": {
    "scrolled": true
   },
   "outputs": [
    {
     "name": "stdout",
     "output_type": "stream",
     "text": [
      "Train accuracy: 0.9255964415689446\n"
     ]
    }
   ],
   "source": [
    "dt_tfidf_balanced = ml.train_decision_tree(tfidf_train_balanced['features'], tfidf_train_balanced['target'], show_train_accuracy=1)"
   ]
  },
  {
   "cell_type": "markdown",
   "id": "75920ffc",
   "metadata": {},
   "source": [
    "### Random Forest"
   ]
  },
  {
   "cell_type": "code",
   "execution_count": 7,
   "id": "a3d5ddab",
   "metadata": {
    "scrolled": true
   },
   "outputs": [
    {
     "name": "stdout",
     "output_type": "stream",
     "text": [
      "Train accuracy: 0.9397492923574605\n"
     ]
    }
   ],
   "source": [
    "rf_tfidf_balanced = ml.train_random_forest(tfidf_train_balanced['features'], tfidf_train_balanced['target'], show_train_accuracy=1)"
   ]
  },
  {
   "cell_type": "markdown",
   "id": "c5fcc748",
   "metadata": {},
   "source": [
    "### Gradient Boosting Tree"
   ]
  },
  {
   "cell_type": "code",
   "execution_count": 8,
   "id": "c0b056d5",
   "metadata": {
    "scrolled": true
   },
   "outputs": [
    {
     "name": "stdout",
     "output_type": "stream",
     "text": [
      "Train accuracy: 0.976546704407602\n"
     ]
    }
   ],
   "source": [
    "gb_tfidf_balanced = ml.train_gradient_boost(tfidf_train_balanced['features'], tfidf_train_balanced['target'], show_train_accuracy=1)"
   ]
  },
  {
   "cell_type": "markdown",
   "id": "f1eb54d7",
   "metadata": {},
   "source": [
    "### Naive Bayes"
   ]
  },
  {
   "cell_type": "code",
   "execution_count": 9,
   "id": "1c32bf84",
   "metadata": {
    "scrolled": false
   },
   "outputs": [
    {
     "name": "stdout",
     "output_type": "stream",
     "text": [
      "Train accuracy: 0.9627982207844723\n"
     ]
    }
   ],
   "source": [
    "nb_tfidf_balanced = ml.train_naive_bayes(tfidf_train_balanced['features'], tfidf_train_balanced['target'], show_train_accuracy=1)"
   ]
  },
  {
   "cell_type": "markdown",
   "id": "3056e9da",
   "metadata": {},
   "source": [
    "## Train Word2Vec"
   ]
  },
  {
   "cell_type": "code",
   "execution_count": 10,
   "id": "511f87d5",
   "metadata": {},
   "outputs": [],
   "source": [
    "word2vec_train_balanced = pd.read_csv(os.path.join(csv_path, train['word2vec'][0]), index_col=0)\n",
    "word2vec_test_balanced = pd.read_csv(os.path.join(csv_path, test['word2vec'][0]), index_col=0)"
   ]
  },
  {
   "cell_type": "code",
   "execution_count": 11,
   "id": "ab496a2a",
   "metadata": {},
   "outputs": [],
   "source": [
    "word2vec_train_balanced = separate_features_target(word2vec_train_balanced)\n",
    "word2vec_test_balanced = separate_features_target(word2vec_test_balanced)"
   ]
  },
  {
   "cell_type": "markdown",
   "id": "d20916f3",
   "metadata": {},
   "source": [
    "### Logistic Regression"
   ]
  },
  {
   "cell_type": "code",
   "execution_count": 12,
   "id": "d1695d1a",
   "metadata": {
    "scrolled": true
   },
   "outputs": [
    {
     "name": "stdout",
     "output_type": "stream",
     "text": [
      "Train accuracy: 0.9951475940153659\n"
     ]
    },
    {
     "name": "stderr",
     "output_type": "stream",
     "text": [
      "/home/ichanis/.local/lib/python3.8/site-packages/sklearn/linear_model/_logistic.py:444: ConvergenceWarning: lbfgs failed to converge (status=1):\n",
      "STOP: TOTAL NO. of ITERATIONS REACHED LIMIT.\n",
      "\n",
      "Increase the number of iterations (max_iter) or scale the data as shown in:\n",
      "    https://scikit-learn.org/stable/modules/preprocessing.html\n",
      "Please also refer to the documentation for alternative solver options:\n",
      "    https://scikit-learn.org/stable/modules/linear_model.html#logistic-regression\n",
      "  n_iter_i = _check_optimize_result(\n"
     ]
    }
   ],
   "source": [
    "lr_word2vec_balanced = ml.train_logistic_regression(word2vec_train_balanced['features'], word2vec_train_balanced['target'], show_train_accuracy=1)\n",
    "lr_word2vec_balanced, lr_word2vec_balanced_scaler = lr_word2vec_balanced['model'], lr_word2vec_balanced['scaler']"
   ]
  },
  {
   "cell_type": "markdown",
   "id": "056f7f52",
   "metadata": {},
   "source": [
    "### Decision Tree"
   ]
  },
  {
   "cell_type": "code",
   "execution_count": 13,
   "id": "52ef191a",
   "metadata": {
    "scrolled": true
   },
   "outputs": [
    {
     "name": "stdout",
     "output_type": "stream",
     "text": [
      "Train accuracy: 0.9781641730691468\n"
     ]
    }
   ],
   "source": [
    "dt_word2vec_balanced = ml.train_decision_tree(word2vec_train_balanced['features'], word2vec_train_balanced['target'], show_train_accuracy=1)"
   ]
  },
  {
   "cell_type": "markdown",
   "id": "e41879b7",
   "metadata": {},
   "source": [
    "### Random Forest"
   ]
  },
  {
   "cell_type": "code",
   "execution_count": 14,
   "id": "46f2cf27",
   "metadata": {
    "scrolled": true
   },
   "outputs": [
    {
     "name": "stdout",
     "output_type": "stream",
     "text": [
      "Train accuracy: 0.978568540234533\n"
     ]
    }
   ],
   "source": [
    "rf_word2vec_balanced = ml.train_random_forest(word2vec_train_balanced['features'], word2vec_train_balanced['target'], show_train_accuracy=1)"
   ]
  },
  {
   "cell_type": "markdown",
   "id": "c951e241",
   "metadata": {},
   "source": [
    "### Gradient Boosting Tree"
   ]
  },
  {
   "cell_type": "code",
   "execution_count": 15,
   "id": "1551be7a",
   "metadata": {
    "scrolled": true
   },
   "outputs": [
    {
     "name": "stdout",
     "output_type": "stream",
     "text": [
      "Train accuracy: 0.9943388596845936\n"
     ]
    }
   ],
   "source": [
    "gb_word2vec_balanced = ml.train_gradient_boost(word2vec_train_balanced['features'], word2vec_train_balanced['target'], show_train_accuracy=1)"
   ]
  },
  {
   "cell_type": "markdown",
   "id": "30870fdd",
   "metadata": {},
   "source": [
    "### Naive Bayes"
   ]
  },
  {
   "cell_type": "code",
   "execution_count": 16,
   "id": "2c563aa5",
   "metadata": {
    "scrolled": true
   },
   "outputs": [
    {
     "name": "stdout",
     "output_type": "stream",
     "text": [
      "Train accuracy: 0.9320663162151234\n"
     ]
    }
   ],
   "source": [
    "nb_word2vec_balanced = ml.train_naive_bayes(word2vec_train_balanced['features'], word2vec_train_balanced['target'], remove_negatives=True, show_train_accuracy=1)"
   ]
  },
  {
   "cell_type": "markdown",
   "id": "a79b4ce5",
   "metadata": {},
   "source": [
    "## Results"
   ]
  },
  {
   "cell_type": "markdown",
   "id": "ec76bf94",
   "metadata": {},
   "source": [
    "### TF-IDF"
   ]
  },
  {
   "cell_type": "code",
   "execution_count": 17,
   "id": "f38f957c",
   "metadata": {},
   "outputs": [],
   "source": [
    "models = [lr_tfidf_balanced, dt_tfidf_balanced, rf_tfidf_balanced, gb_tfidf_balanced, nb_tfidf_balanced]\n",
    "names = ['Logistic Regression', 'Decision Tree', 'Random Forest', 'Gradient Boosting Tree', 'Naive Bayes']"
   ]
  },
  {
   "cell_type": "code",
   "execution_count": 18,
   "id": "3090c409",
   "metadata": {},
   "outputs": [],
   "source": [
    "results_tfidf = ml.multi_model_results(models, names, tfidf_test_balanced['features'], tfidf_test_balanced['target'], lr_tfidf_balanced_scaler)"
   ]
  },
  {
   "cell_type": "code",
   "execution_count": 19,
   "id": "808e6cbb",
   "metadata": {
    "scrolled": true
   },
   "outputs": [
    {
     "data": {
      "text/html": [
       "<div>\n",
       "<style scoped>\n",
       "    .dataframe tbody tr th:only-of-type {\n",
       "        vertical-align: middle;\n",
       "    }\n",
       "\n",
       "    .dataframe tbody tr th {\n",
       "        vertical-align: top;\n",
       "    }\n",
       "\n",
       "    .dataframe thead th {\n",
       "        text-align: right;\n",
       "    }\n",
       "</style>\n",
       "<table border=\"1\" class=\"dataframe\">\n",
       "  <thead>\n",
       "    <tr style=\"text-align: right;\">\n",
       "      <th></th>\n",
       "      <th>Accuracy</th>\n",
       "      <th>Precision</th>\n",
       "      <th>Recall</th>\n",
       "      <th>F1 Score</th>\n",
       "      <th>False Positive Rate</th>\n",
       "      <th>False Negative Rate</th>\n",
       "      <th>Area Under ROC Curve</th>\n",
       "    </tr>\n",
       "  </thead>\n",
       "  <tbody>\n",
       "    <tr>\n",
       "      <th>Logistic Regression</th>\n",
       "      <td>0.951535</td>\n",
       "      <td>0.953333</td>\n",
       "      <td>0.947020</td>\n",
       "      <td>0.950166</td>\n",
       "      <td>0.044164</td>\n",
       "      <td>0.052980</td>\n",
       "      <td>0.951428</td>\n",
       "    </tr>\n",
       "    <tr>\n",
       "      <th>Decision Tree</th>\n",
       "      <td>0.914378</td>\n",
       "      <td>0.936842</td>\n",
       "      <td>0.884106</td>\n",
       "      <td>0.909710</td>\n",
       "      <td>0.056782</td>\n",
       "      <td>0.115894</td>\n",
       "      <td>0.913662</td>\n",
       "    </tr>\n",
       "    <tr>\n",
       "      <th>Random Forest</th>\n",
       "      <td>0.928918</td>\n",
       "      <td>0.944828</td>\n",
       "      <td>0.907285</td>\n",
       "      <td>0.925676</td>\n",
       "      <td>0.050473</td>\n",
       "      <td>0.092715</td>\n",
       "      <td>0.928406</td>\n",
       "    </tr>\n",
       "    <tr>\n",
       "      <th>Gradient Boosting Tree</th>\n",
       "      <td>0.946688</td>\n",
       "      <td>0.946844</td>\n",
       "      <td>0.943709</td>\n",
       "      <td>0.945274</td>\n",
       "      <td>0.050473</td>\n",
       "      <td>0.056291</td>\n",
       "      <td>0.946618</td>\n",
       "    </tr>\n",
       "    <tr>\n",
       "      <th>Naive Bayes</th>\n",
       "      <td>0.956381</td>\n",
       "      <td>0.931034</td>\n",
       "      <td>0.983444</td>\n",
       "      <td>0.956522</td>\n",
       "      <td>0.069401</td>\n",
       "      <td>0.016556</td>\n",
       "      <td>0.957022</td>\n",
       "    </tr>\n",
       "  </tbody>\n",
       "</table>\n",
       "</div>"
      ],
      "text/plain": [
       "                        Accuracy  Precision    Recall  F1 Score  \\\n",
       "Logistic Regression     0.951535   0.953333  0.947020  0.950166   \n",
       "Decision Tree           0.914378   0.936842  0.884106  0.909710   \n",
       "Random Forest           0.928918   0.944828  0.907285  0.925676   \n",
       "Gradient Boosting Tree  0.946688   0.946844  0.943709  0.945274   \n",
       "Naive Bayes             0.956381   0.931034  0.983444  0.956522   \n",
       "\n",
       "                        False Positive Rate  False Negative Rate  \\\n",
       "Logistic Regression                0.044164             0.052980   \n",
       "Decision Tree                      0.056782             0.115894   \n",
       "Random Forest                      0.050473             0.092715   \n",
       "Gradient Boosting Tree             0.050473             0.056291   \n",
       "Naive Bayes                        0.069401             0.016556   \n",
       "\n",
       "                        Area Under ROC Curve  \n",
       "Logistic Regression                 0.951428  \n",
       "Decision Tree                       0.913662  \n",
       "Random Forest                       0.928406  \n",
       "Gradient Boosting Tree              0.946618  \n",
       "Naive Bayes                         0.957022  "
      ]
     },
     "execution_count": 19,
     "metadata": {},
     "output_type": "execute_result"
    }
   ],
   "source": [
    "results_tfidf"
   ]
  },
  {
   "cell_type": "markdown",
   "id": "659f5c89",
   "metadata": {},
   "source": [
    "### Word2Vec"
   ]
  },
  {
   "cell_type": "code",
   "execution_count": 20,
   "id": "039ea068",
   "metadata": {},
   "outputs": [],
   "source": [
    "models = [lr_word2vec_balanced, dt_word2vec_balanced, rf_word2vec_balanced, gb_word2vec_balanced, nb_word2vec_balanced]\n",
    "names = ['Logistic Regression', 'Decision Tree', 'Random Forest', 'Gradient Boosting Tree', 'Naive Bayes']"
   ]
  },
  {
   "cell_type": "code",
   "execution_count": 21,
   "id": "5da4a6a3",
   "metadata": {},
   "outputs": [],
   "source": [
    "results_word2vec = ml.multi_model_results(models, names, word2vec_test_balanced['features'], word2vec_test_balanced['target'], lr_word2vec_balanced_scaler)"
   ]
  },
  {
   "cell_type": "code",
   "execution_count": 22,
   "id": "1aba61d3",
   "metadata": {
    "scrolled": false
   },
   "outputs": [
    {
     "data": {
      "text/html": [
       "<div>\n",
       "<style scoped>\n",
       "    .dataframe tbody tr th:only-of-type {\n",
       "        vertical-align: middle;\n",
       "    }\n",
       "\n",
       "    .dataframe tbody tr th {\n",
       "        vertical-align: top;\n",
       "    }\n",
       "\n",
       "    .dataframe thead th {\n",
       "        text-align: right;\n",
       "    }\n",
       "</style>\n",
       "<table border=\"1\" class=\"dataframe\">\n",
       "  <thead>\n",
       "    <tr style=\"text-align: right;\">\n",
       "      <th></th>\n",
       "      <th>Accuracy</th>\n",
       "      <th>Precision</th>\n",
       "      <th>Recall</th>\n",
       "      <th>F1 Score</th>\n",
       "      <th>False Positive Rate</th>\n",
       "      <th>False Negative Rate</th>\n",
       "      <th>Area Under ROC Curve</th>\n",
       "    </tr>\n",
       "  </thead>\n",
       "  <tbody>\n",
       "    <tr>\n",
       "      <th>Logistic Regression</th>\n",
       "      <td>0.961228</td>\n",
       "      <td>0.945513</td>\n",
       "      <td>0.976821</td>\n",
       "      <td>0.960912</td>\n",
       "      <td>0.053628</td>\n",
       "      <td>0.023179</td>\n",
       "      <td>0.961597</td>\n",
       "    </tr>\n",
       "    <tr>\n",
       "      <th>Decision Tree</th>\n",
       "      <td>0.951535</td>\n",
       "      <td>0.947368</td>\n",
       "      <td>0.953642</td>\n",
       "      <td>0.950495</td>\n",
       "      <td>0.050473</td>\n",
       "      <td>0.046358</td>\n",
       "      <td>0.951585</td>\n",
       "    </tr>\n",
       "    <tr>\n",
       "      <th>Random Forest</th>\n",
       "      <td>0.969305</td>\n",
       "      <td>0.954984</td>\n",
       "      <td>0.983444</td>\n",
       "      <td>0.969005</td>\n",
       "      <td>0.044164</td>\n",
       "      <td>0.016556</td>\n",
       "      <td>0.969640</td>\n",
       "    </tr>\n",
       "    <tr>\n",
       "      <th>Gradient Boosting Tree</th>\n",
       "      <td>0.972536</td>\n",
       "      <td>0.961165</td>\n",
       "      <td>0.983444</td>\n",
       "      <td>0.972177</td>\n",
       "      <td>0.037855</td>\n",
       "      <td>0.016556</td>\n",
       "      <td>0.972794</td>\n",
       "    </tr>\n",
       "    <tr>\n",
       "      <th>Naive Bayes</th>\n",
       "      <td>0.634895</td>\n",
       "      <td>0.572797</td>\n",
       "      <td>0.990066</td>\n",
       "      <td>0.725728</td>\n",
       "      <td>0.703470</td>\n",
       "      <td>0.009934</td>\n",
       "      <td>0.643298</td>\n",
       "    </tr>\n",
       "  </tbody>\n",
       "</table>\n",
       "</div>"
      ],
      "text/plain": [
       "                        Accuracy  Precision    Recall  F1 Score  \\\n",
       "Logistic Regression     0.961228   0.945513  0.976821  0.960912   \n",
       "Decision Tree           0.951535   0.947368  0.953642  0.950495   \n",
       "Random Forest           0.969305   0.954984  0.983444  0.969005   \n",
       "Gradient Boosting Tree  0.972536   0.961165  0.983444  0.972177   \n",
       "Naive Bayes             0.634895   0.572797  0.990066  0.725728   \n",
       "\n",
       "                        False Positive Rate  False Negative Rate  \\\n",
       "Logistic Regression                0.053628             0.023179   \n",
       "Decision Tree                      0.050473             0.046358   \n",
       "Random Forest                      0.044164             0.016556   \n",
       "Gradient Boosting Tree             0.037855             0.016556   \n",
       "Naive Bayes                        0.703470             0.009934   \n",
       "\n",
       "                        Area Under ROC Curve  \n",
       "Logistic Regression                 0.961597  \n",
       "Decision Tree                       0.951585  \n",
       "Random Forest                       0.969640  \n",
       "Gradient Boosting Tree              0.972794  \n",
       "Naive Bayes                         0.643298  "
      ]
     },
     "execution_count": 22,
     "metadata": {},
     "output_type": "execute_result"
    }
   ],
   "source": [
    "results_word2vec"
   ]
  },
  {
   "cell_type": "markdown",
   "id": "443c6def",
   "metadata": {},
   "source": [
    "# Imbalanced Dataset"
   ]
  },
  {
   "cell_type": "markdown",
   "id": "697dfd09",
   "metadata": {},
   "source": [
    "## Train TF-IDF"
   ]
  },
  {
   "cell_type": "code",
   "execution_count": 23,
   "id": "ab0cc2f8",
   "metadata": {},
   "outputs": [],
   "source": [
    "tfidf_train_imbalanced = pd.read_csv(os.path.join(csv_path, train['tfidf_sel'][1]), index_col=0)\n",
    "tfidf_test_imbalanced = pd.read_csv(os.path.join(csv_path, test['tfidf_sel'][1]), index_col=0)"
   ]
  },
  {
   "cell_type": "code",
   "execution_count": 24,
   "id": "5e04f65c",
   "metadata": {},
   "outputs": [],
   "source": [
    "tfidf_train_imbalanced = separate_features_target(tfidf_train_imbalanced)\n",
    "tfidf_test_imbalanced = separate_features_target(tfidf_test_imbalanced)"
   ]
  },
  {
   "cell_type": "markdown",
   "id": "2b4d2cd1",
   "metadata": {},
   "source": [
    "### Logistic Regression"
   ]
  },
  {
   "cell_type": "code",
   "execution_count": 25,
   "id": "b31b7985",
   "metadata": {
    "scrolled": true
   },
   "outputs": [
    {
     "name": "stdout",
     "output_type": "stream",
     "text": [
      "Train accuracy: 0.9907271121577863\n"
     ]
    },
    {
     "name": "stderr",
     "output_type": "stream",
     "text": [
      "/home/ichanis/.local/lib/python3.8/site-packages/sklearn/linear_model/_logistic.py:444: ConvergenceWarning: lbfgs failed to converge (status=1):\n",
      "STOP: TOTAL NO. of ITERATIONS REACHED LIMIT.\n",
      "\n",
      "Increase the number of iterations (max_iter) or scale the data as shown in:\n",
      "    https://scikit-learn.org/stable/modules/preprocessing.html\n",
      "Please also refer to the documentation for alternative solver options:\n",
      "    https://scikit-learn.org/stable/modules/linear_model.html#logistic-regression\n",
      "  n_iter_i = _check_optimize_result(\n"
     ]
    }
   ],
   "source": [
    "lr_tfidf_imbalanced = ml.train_logistic_regression(tfidf_train_imbalanced['features'], tfidf_train_imbalanced['target'], show_train_accuracy=1)\n",
    "lr_tfidf_imbalanced, lr_tfidf_imbalanced_scaler= lr_tfidf_imbalanced['model'], lr_tfidf_imbalanced['scaler']"
   ]
  },
  {
   "cell_type": "markdown",
   "id": "18eb5ca4",
   "metadata": {},
   "source": [
    "### Decision Tree"
   ]
  },
  {
   "cell_type": "code",
   "execution_count": 26,
   "id": "e25ea614",
   "metadata": {
    "scrolled": true
   },
   "outputs": [
    {
     "name": "stdout",
     "output_type": "stream",
     "text": [
      "Train accuracy: 0.966588166028849\n"
     ]
    }
   ],
   "source": [
    "dt_tfidf_imbalanced = ml.train_decision_tree(tfidf_train_imbalanced['features'], tfidf_train_imbalanced['target'], show_train_accuracy=1)"
   ]
  },
  {
   "cell_type": "markdown",
   "id": "521655cd",
   "metadata": {},
   "source": [
    "### Random Forest"
   ]
  },
  {
   "cell_type": "code",
   "execution_count": 27,
   "id": "bee84f70",
   "metadata": {
    "scrolled": true
   },
   "outputs": [
    {
     "name": "stdout",
     "output_type": "stream",
     "text": [
      "Train accuracy: 0.9514277303503091\n"
     ]
    }
   ],
   "source": [
    "rf_tfidf_imbalanced = ml.train_random_forest(tfidf_train_imbalanced['features'], tfidf_train_imbalanced['target'], show_train_accuracy=1)"
   ]
  },
  {
   "cell_type": "markdown",
   "id": "15e89d17",
   "metadata": {},
   "source": [
    "### Gradient Boosting Tree"
   ]
  },
  {
   "cell_type": "code",
   "execution_count": 28,
   "id": "1c558739",
   "metadata": {
    "scrolled": true
   },
   "outputs": [
    {
     "name": "stdout",
     "output_type": "stream",
     "text": [
      "Train accuracy: 0.9840300264939653\n"
     ]
    }
   ],
   "source": [
    "gb_tfidf_imbalanced = ml.train_gradient_boost(tfidf_train_imbalanced['features'], tfidf_train_imbalanced['target'], show_train_accuracy=1)"
   ]
  },
  {
   "cell_type": "markdown",
   "id": "5bca4e74",
   "metadata": {},
   "source": [
    "### Naive Bayes"
   ]
  },
  {
   "cell_type": "code",
   "execution_count": 29,
   "id": "c4a63326",
   "metadata": {
    "scrolled": true
   },
   "outputs": [
    {
     "name": "stdout",
     "output_type": "stream",
     "text": [
      "Train accuracy: 0.9765969973506035\n"
     ]
    }
   ],
   "source": [
    "nb_tfidf_imbalanced = ml.train_naive_bayes(tfidf_train_imbalanced['features'], tfidf_train_imbalanced['target'], show_train_accuracy=1)"
   ]
  },
  {
   "cell_type": "markdown",
   "id": "284d6c45",
   "metadata": {},
   "source": [
    "## Train Word2Vec"
   ]
  },
  {
   "cell_type": "code",
   "execution_count": 30,
   "id": "7565a706",
   "metadata": {},
   "outputs": [],
   "source": [
    "word2vec_train_imbalanced = pd.read_csv(os.path.join(csv_path, train['word2vec'][1]), index_col=0)\n",
    "word2vec_test_imbalanced = pd.read_csv(os.path.join(csv_path, test['word2vec'][1]), index_col=0)"
   ]
  },
  {
   "cell_type": "code",
   "execution_count": 31,
   "id": "a5d62c2e",
   "metadata": {},
   "outputs": [],
   "source": [
    "word2vec_train_imbalanced = separate_features_target(word2vec_train_imbalanced)\n",
    "word2vec_test_imbalanced = separate_features_target(word2vec_test_imbalanced)"
   ]
  },
  {
   "cell_type": "markdown",
   "id": "e1c5dffe",
   "metadata": {},
   "source": [
    "### Logistic Regression"
   ]
  },
  {
   "cell_type": "code",
   "execution_count": 32,
   "id": "1101e16f",
   "metadata": {
    "scrolled": true
   },
   "outputs": [
    {
     "name": "stdout",
     "output_type": "stream",
     "text": [
      "Train accuracy: 0.9871945834559905\n"
     ]
    }
   ],
   "source": [
    "lr_word2vec_imbalanced = ml.train_logistic_regression(word2vec_train_imbalanced['features'], word2vec_train_imbalanced['target'], show_train_accuracy=1)\n",
    "lr_word2vec_imbalanced, lr_word2vec_imbalanced_scaler= lr_word2vec_imbalanced['model'], lr_word2vec_imbalanced['scaler']"
   ]
  },
  {
   "cell_type": "markdown",
   "id": "a9e3e5b5",
   "metadata": {},
   "source": [
    "### Decision Tree"
   ]
  },
  {
   "cell_type": "code",
   "execution_count": 33,
   "id": "d8933f40",
   "metadata": {
    "scrolled": true
   },
   "outputs": [
    {
     "name": "stdout",
     "output_type": "stream",
     "text": [
      "Train accuracy: 0.9798351486605829\n"
     ]
    }
   ],
   "source": [
    "dt_word2vec_imbalanced = ml.train_decision_tree(word2vec_train_imbalanced['features'], word2vec_train_imbalanced['target'], show_train_accuracy=1)"
   ]
  },
  {
   "cell_type": "markdown",
   "id": "93ab7bda",
   "metadata": {},
   "source": [
    "### Random Forest"
   ]
  },
  {
   "cell_type": "code",
   "execution_count": 34,
   "id": "da2b6803",
   "metadata": {
    "scrolled": true
   },
   "outputs": [
    {
     "name": "stdout",
     "output_type": "stream",
     "text": [
      "Train accuracy: 0.9813806299676184\n"
     ]
    }
   ],
   "source": [
    "rf_word2vec_imbalanced = ml.train_random_forest(word2vec_train_imbalanced['features'], word2vec_train_imbalanced['target'], show_train_accuracy=1)"
   ]
  },
  {
   "cell_type": "markdown",
   "id": "f59ae3f3",
   "metadata": {},
   "source": [
    "### Gradient Boosting Tree"
   ]
  },
  {
   "cell_type": "code",
   "execution_count": 35,
   "id": "660e52f3",
   "metadata": {
    "scrolled": true
   },
   "outputs": [
    {
     "name": "stdout",
     "output_type": "stream",
     "text": [
      "Train accuracy: 0.9938180747718576\n"
     ]
    }
   ],
   "source": [
    "gb_word2vec_imbalanced = ml.train_gradient_boost(word2vec_train_imbalanced['features'], word2vec_train_imbalanced['target'], show_train_accuracy=1)"
   ]
  },
  {
   "cell_type": "markdown",
   "id": "48e06f32",
   "metadata": {},
   "source": [
    "### Naive Bayes"
   ]
  },
  {
   "cell_type": "code",
   "execution_count": 36,
   "id": "ad936feb",
   "metadata": {
    "scrolled": true
   },
   "outputs": [
    {
     "name": "stdout",
     "output_type": "stream",
     "text": [
      "Train accuracy: 0.9096261407123933\n"
     ]
    }
   ],
   "source": [
    "nb_word2vec_imbalanced = ml.train_naive_bayes(word2vec_train_imbalanced['features'], word2vec_train_imbalanced['target'], remove_negatives=True, show_train_accuracy=1)"
   ]
  },
  {
   "cell_type": "markdown",
   "id": "68350090",
   "metadata": {},
   "source": [
    "## Results"
   ]
  },
  {
   "cell_type": "markdown",
   "id": "fbf92efc",
   "metadata": {},
   "source": [
    "### TF-IDF"
   ]
  },
  {
   "cell_type": "code",
   "execution_count": 37,
   "id": "fb488524",
   "metadata": {},
   "outputs": [],
   "source": [
    "models = [lr_tfidf_imbalanced, dt_tfidf_imbalanced, rf_tfidf_imbalanced, gb_tfidf_imbalanced, nb_tfidf_imbalanced]\n",
    "names = ['Logistic Regression', 'Decision Tree', 'Random Forest', 'Gradient Boosting Tree', 'Naive Bayes']"
   ]
  },
  {
   "cell_type": "code",
   "execution_count": 38,
   "id": "2035ce5a",
   "metadata": {},
   "outputs": [],
   "source": [
    "results_tfidf_imbalanced = ml.multi_model_results(models, names, tfidf_test_imbalanced['features'], tfidf_test_imbalanced['target'], lr_tfidf_imbalanced_scaler)"
   ]
  },
  {
   "cell_type": "code",
   "execution_count": 39,
   "id": "8a508641",
   "metadata": {
    "scrolled": false
   },
   "outputs": [
    {
     "data": {
      "text/html": [
       "<div>\n",
       "<style scoped>\n",
       "    .dataframe tbody tr th:only-of-type {\n",
       "        vertical-align: middle;\n",
       "    }\n",
       "\n",
       "    .dataframe tbody tr th {\n",
       "        vertical-align: top;\n",
       "    }\n",
       "\n",
       "    .dataframe thead th {\n",
       "        text-align: right;\n",
       "    }\n",
       "</style>\n",
       "<table border=\"1\" class=\"dataframe\">\n",
       "  <thead>\n",
       "    <tr style=\"text-align: right;\">\n",
       "      <th></th>\n",
       "      <th>Accuracy</th>\n",
       "      <th>Precision</th>\n",
       "      <th>Recall</th>\n",
       "      <th>F1 Score</th>\n",
       "      <th>False Positive Rate</th>\n",
       "      <th>False Negative Rate</th>\n",
       "      <th>Area Under ROC Curve</th>\n",
       "    </tr>\n",
       "  </thead>\n",
       "  <tbody>\n",
       "    <tr>\n",
       "      <th>Logistic Regression</th>\n",
       "      <td>0.983809</td>\n",
       "      <td>0.923323</td>\n",
       "      <td>0.903125</td>\n",
       "      <td>0.913112</td>\n",
       "      <td>0.007800</td>\n",
       "      <td>0.096875</td>\n",
       "      <td>0.947663</td>\n",
       "    </tr>\n",
       "    <tr>\n",
       "      <th>Decision Tree</th>\n",
       "      <td>0.964675</td>\n",
       "      <td>0.875940</td>\n",
       "      <td>0.728125</td>\n",
       "      <td>0.795222</td>\n",
       "      <td>0.010725</td>\n",
       "      <td>0.271875</td>\n",
       "      <td>0.858700</td>\n",
       "    </tr>\n",
       "    <tr>\n",
       "      <th>Random Forest</th>\n",
       "      <td>0.945540</td>\n",
       "      <td>1.000000</td>\n",
       "      <td>0.421875</td>\n",
       "      <td>0.593407</td>\n",
       "      <td>0.000000</td>\n",
       "      <td>0.578125</td>\n",
       "      <td>0.710938</td>\n",
       "    </tr>\n",
       "    <tr>\n",
       "      <th>Gradient Boosting Tree</th>\n",
       "      <td>0.976155</td>\n",
       "      <td>0.944238</td>\n",
       "      <td>0.793750</td>\n",
       "      <td>0.862479</td>\n",
       "      <td>0.004875</td>\n",
       "      <td>0.206250</td>\n",
       "      <td>0.894438</td>\n",
       "    </tr>\n",
       "    <tr>\n",
       "      <th>Naive Bayes</th>\n",
       "      <td>0.979688</td>\n",
       "      <td>0.966543</td>\n",
       "      <td>0.812500</td>\n",
       "      <td>0.882852</td>\n",
       "      <td>0.002925</td>\n",
       "      <td>0.187500</td>\n",
       "      <td>0.904788</td>\n",
       "    </tr>\n",
       "  </tbody>\n",
       "</table>\n",
       "</div>"
      ],
      "text/plain": [
       "                        Accuracy  Precision    Recall  F1 Score  \\\n",
       "Logistic Regression     0.983809   0.923323  0.903125  0.913112   \n",
       "Decision Tree           0.964675   0.875940  0.728125  0.795222   \n",
       "Random Forest           0.945540   1.000000  0.421875  0.593407   \n",
       "Gradient Boosting Tree  0.976155   0.944238  0.793750  0.862479   \n",
       "Naive Bayes             0.979688   0.966543  0.812500  0.882852   \n",
       "\n",
       "                        False Positive Rate  False Negative Rate  \\\n",
       "Logistic Regression                0.007800             0.096875   \n",
       "Decision Tree                      0.010725             0.271875   \n",
       "Random Forest                      0.000000             0.578125   \n",
       "Gradient Boosting Tree             0.004875             0.206250   \n",
       "Naive Bayes                        0.002925             0.187500   \n",
       "\n",
       "                        Area Under ROC Curve  \n",
       "Logistic Regression                 0.947663  \n",
       "Decision Tree                       0.858700  \n",
       "Random Forest                       0.710938  \n",
       "Gradient Boosting Tree              0.894438  \n",
       "Naive Bayes                         0.904788  "
      ]
     },
     "execution_count": 39,
     "metadata": {},
     "output_type": "execute_result"
    }
   ],
   "source": [
    "results_tfidf_imbalanced"
   ]
  },
  {
   "cell_type": "markdown",
   "id": "5517f31e",
   "metadata": {},
   "source": [
    "### Word2Vec"
   ]
  },
  {
   "cell_type": "code",
   "execution_count": 40,
   "id": "4c76965f",
   "metadata": {},
   "outputs": [],
   "source": [
    "models = [lr_word2vec_imbalanced, dt_word2vec_imbalanced, rf_word2vec_imbalanced, gb_word2vec_imbalanced, nb_word2vec_imbalanced]\n",
    "names = ['Logistic Regression', 'Decision Tree', 'Random Forest', 'Gradient Boosting Tree', 'Naive Bayes']"
   ]
  },
  {
   "cell_type": "code",
   "execution_count": 41,
   "id": "f9744de6",
   "metadata": {},
   "outputs": [],
   "source": [
    "results_word2vec_imbalanced = ml.multi_model_results(models, names, word2vec_test_imbalanced['features'], word2vec_test_imbalanced['target'], lr_word2vec_imbalanced_scaler)"
   ]
  },
  {
   "cell_type": "code",
   "execution_count": 42,
   "id": "c88eee36",
   "metadata": {
    "scrolled": true
   },
   "outputs": [
    {
     "data": {
      "text/html": [
       "<div>\n",
       "<style scoped>\n",
       "    .dataframe tbody tr th:only-of-type {\n",
       "        vertical-align: middle;\n",
       "    }\n",
       "\n",
       "    .dataframe tbody tr th {\n",
       "        vertical-align: top;\n",
       "    }\n",
       "\n",
       "    .dataframe thead th {\n",
       "        text-align: right;\n",
       "    }\n",
       "</style>\n",
       "<table border=\"1\" class=\"dataframe\">\n",
       "  <thead>\n",
       "    <tr style=\"text-align: right;\">\n",
       "      <th></th>\n",
       "      <th>Accuracy</th>\n",
       "      <th>Precision</th>\n",
       "      <th>Recall</th>\n",
       "      <th>F1 Score</th>\n",
       "      <th>False Positive Rate</th>\n",
       "      <th>False Negative Rate</th>\n",
       "      <th>Area Under ROC Curve</th>\n",
       "    </tr>\n",
       "  </thead>\n",
       "  <tbody>\n",
       "    <tr>\n",
       "      <th>Logistic Regression</th>\n",
       "      <td>0.986753</td>\n",
       "      <td>0.931034</td>\n",
       "      <td>0.928125</td>\n",
       "      <td>0.929577</td>\n",
       "      <td>0.007150</td>\n",
       "      <td>0.071875</td>\n",
       "      <td>0.960488</td>\n",
       "    </tr>\n",
       "    <tr>\n",
       "      <th>Decision Tree</th>\n",
       "      <td>0.977922</td>\n",
       "      <td>0.891374</td>\n",
       "      <td>0.871875</td>\n",
       "      <td>0.881517</td>\n",
       "      <td>0.011050</td>\n",
       "      <td>0.128125</td>\n",
       "      <td>0.930413</td>\n",
       "    </tr>\n",
       "    <tr>\n",
       "      <th>Random Forest</th>\n",
       "      <td>0.981160</td>\n",
       "      <td>0.960432</td>\n",
       "      <td>0.834375</td>\n",
       "      <td>0.892977</td>\n",
       "      <td>0.003575</td>\n",
       "      <td>0.165625</td>\n",
       "      <td>0.915400</td>\n",
       "    </tr>\n",
       "    <tr>\n",
       "      <th>Gradient Boosting Tree</th>\n",
       "      <td>0.986459</td>\n",
       "      <td>0.941935</td>\n",
       "      <td>0.912500</td>\n",
       "      <td>0.926984</td>\n",
       "      <td>0.005850</td>\n",
       "      <td>0.087500</td>\n",
       "      <td>0.953325</td>\n",
       "    </tr>\n",
       "    <tr>\n",
       "      <th>Naive Bayes</th>\n",
       "      <td>0.947012</td>\n",
       "      <td>0.652838</td>\n",
       "      <td>0.934375</td>\n",
       "      <td>0.768638</td>\n",
       "      <td>0.051674</td>\n",
       "      <td>0.065625</td>\n",
       "      <td>0.941351</td>\n",
       "    </tr>\n",
       "  </tbody>\n",
       "</table>\n",
       "</div>"
      ],
      "text/plain": [
       "                        Accuracy  Precision    Recall  F1 Score  \\\n",
       "Logistic Regression     0.986753   0.931034  0.928125  0.929577   \n",
       "Decision Tree           0.977922   0.891374  0.871875  0.881517   \n",
       "Random Forest           0.981160   0.960432  0.834375  0.892977   \n",
       "Gradient Boosting Tree  0.986459   0.941935  0.912500  0.926984   \n",
       "Naive Bayes             0.947012   0.652838  0.934375  0.768638   \n",
       "\n",
       "                        False Positive Rate  False Negative Rate  \\\n",
       "Logistic Regression                0.007150             0.071875   \n",
       "Decision Tree                      0.011050             0.128125   \n",
       "Random Forest                      0.003575             0.165625   \n",
       "Gradient Boosting Tree             0.005850             0.087500   \n",
       "Naive Bayes                        0.051674             0.065625   \n",
       "\n",
       "                        Area Under ROC Curve  \n",
       "Logistic Regression                 0.960488  \n",
       "Decision Tree                       0.930413  \n",
       "Random Forest                       0.915400  \n",
       "Gradient Boosting Tree              0.953325  \n",
       "Naive Bayes                         0.941351  "
      ]
     },
     "execution_count": 42,
     "metadata": {},
     "output_type": "execute_result"
    }
   ],
   "source": [
    "results_word2vec_imbalanced"
   ]
  }
 ],
 "metadata": {
  "kernelspec": {
   "display_name": "Python 3 (ipykernel)",
   "language": "python",
   "name": "python3"
  },
  "language_info": {
   "codemirror_mode": {
    "name": "ipython",
    "version": 3
   },
   "file_extension": ".py",
   "mimetype": "text/x-python",
   "name": "python",
   "nbconvert_exporter": "python",
   "pygments_lexer": "ipython3",
   "version": "3.8.10"
  }
 },
 "nbformat": 4,
 "nbformat_minor": 5
}
