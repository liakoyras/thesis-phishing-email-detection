{
 "cells": [
  {
   "cell_type": "code",
   "execution_count": 1,
   "id": "58b3da25",
   "metadata": {},
   "outputs": [],
   "source": [
    "import os\n",
    "import pandas as pd\n",
    "pd.options.display.max_colwidth = 160\n",
    "\n",
    "import preprocessing as util\n",
    "from raw_utils import save_to_csv"
   ]
  },
  {
   "cell_type": "code",
   "execution_count": 2,
   "id": "bb049d94",
   "metadata": {},
   "outputs": [],
   "source": [
    "# Path\n",
    "cwd = os.getcwd()\n",
    "csv_path = os.path.join(cwd, 'data/csv/')\n",
    "\n",
    "data_files = ['balanced.csv', 'imbalanced.csv']"
   ]
  },
  {
   "cell_type": "code",
   "execution_count": 3,
   "id": "978ee912",
   "metadata": {
    "scrolled": true
   },
   "outputs": [
    {
     "name": "stdout",
     "output_type": "stream",
     "text": [
      "<class 'pandas.core.frame.DataFrame'>\n",
      "Int64Index: 3376 entries, 0 to 3375\n",
      "Data columns (total 3 columns):\n",
      " #   Column  Non-Null Count  Dtype \n",
      "---  ------  --------------  ----- \n",
      " 0   id      3376 non-null   int16 \n",
      " 1   body    3376 non-null   object\n",
      " 2   class   3376 non-null   bool  \n",
      "dtypes: bool(1), int16(1), object(1)\n",
      "memory usage: 62.6+ KB\n"
     ]
    }
   ],
   "source": [
    "balanced = pd.read_csv(os.path.join(csv_path, data_files[0]), index_col=0, dtype={'body': 'object', 'class': 'bool', 'id': 'int16'})\n",
    "balanced.info()"
   ]
  },
  {
   "cell_type": "code",
   "execution_count": 4,
   "id": "04b1c78e",
   "metadata": {
    "scrolled": true
   },
   "outputs": [
    {
     "name": "stdout",
     "output_type": "stream",
     "text": [
      "<class 'pandas.core.frame.DataFrame'>\n",
      "Int64Index: 18568 entries, 0 to 18567\n",
      "Data columns (total 3 columns):\n",
      " #   Column  Non-Null Count  Dtype \n",
      "---  ------  --------------  ----- \n",
      " 0   id      18568 non-null  int16 \n",
      " 1   body    18568 non-null  object\n",
      " 2   class   18568 non-null  bool  \n",
      "dtypes: bool(1), int16(1), object(1)\n",
      "memory usage: 344.5+ KB\n"
     ]
    }
   ],
   "source": [
    "imbalanced = pd.read_csv(os.path.join(csv_path, data_files[1]), index_col=0, dtype={'body': 'object', 'class': 'bool', 'id': 'int16'})\n",
    "imbalanced.info()"
   ]
  },
  {
   "cell_type": "markdown",
   "id": "86972269",
   "metadata": {},
   "source": [
    "### Initial Data"
   ]
  },
  {
   "cell_type": "markdown",
   "id": "9d86f2e8",
   "metadata": {},
   "source": [
    "This is the initial state of the data, along with some representative examples of phishing and legitimate emails."
   ]
  },
  {
   "cell_type": "code",
   "execution_count": 5,
   "id": "1c01d25d",
   "metadata": {
    "scrolled": true
   },
   "outputs": [
    {
     "data": {
      "text/html": [
       "<div>\n",
       "<style scoped>\n",
       "    .dataframe tbody tr th:only-of-type {\n",
       "        vertical-align: middle;\n",
       "    }\n",
       "\n",
       "    .dataframe tbody tr th {\n",
       "        vertical-align: top;\n",
       "    }\n",
       "\n",
       "    .dataframe thead th {\n",
       "        text-align: right;\n",
       "    }\n",
       "</style>\n",
       "<table border=\"1\" class=\"dataframe\">\n",
       "  <thead>\n",
       "    <tr style=\"text-align: right;\">\n",
       "      <th></th>\n",
       "      <th>id</th>\n",
       "      <th>body</th>\n",
       "      <th>class</th>\n",
       "    </tr>\n",
       "  </thead>\n",
       "  <tbody>\n",
       "    <tr>\n",
       "      <th>0</th>\n",
       "      <td>0</td>\n",
       "      <td>Dear jose\\nYour E-mail jose@monkey.org would be blocked from sending and receiving emails.if you have not update your account in our New 2020 security datab...</td>\n",
       "      <td>True</td>\n",
       "    </tr>\n",
       "    <tr>\n",
       "      <th>1</th>\n",
       "      <td>1</td>\n",
       "      <td>Enron Still Target in California Amid Other Problems (Update1)\\n2001-10-26 16:15 (New York)\\n\\nEnron Still Target in California Amid Other Problems (Update1...</td>\n",
       "      <td>False</td>\n",
       "    </tr>\n",
       "    <tr>\n",
       "      <th>2</th>\n",
       "      <td>2</td>\n",
       "      <td>PLEASE SEND ME YOUR PHONE NUMBER!.  We need to set up a short conference call \\nto understand the counterparty.  Thanks.  Sara\\n\\n\\n\\n\\t\"Susan Hopkinson\" &lt;s...</td>\n",
       "      <td>False</td>\n",
       "    </tr>\n",
       "    <tr>\n",
       "      <th>3</th>\n",
       "      <td>3</td>\n",
       "      <td>Stinson-san &amp; Co,\\n\\nWe may become famous in Japan. Please, see the message below.\\n\\nVince\\n\\n---------------------- Forwarded by Vince J Kaminski/HOU/ECT ...</td>\n",
       "      <td>False</td>\n",
       "    </tr>\n",
       "    <tr>\n",
       "      <th>4</th>\n",
       "      <td>4</td>\n",
       "      <td>In English this means that even if a book has no positions or value,  if it \\nhas any deals with a counterparty it needs to be officialized so that credit \\...</td>\n",
       "      <td>False</td>\n",
       "    </tr>\n",
       "    <tr>\n",
       "      <th>5</th>\n",
       "      <td>5</td>\n",
       "      <td>Jim:\\n\\nI agree.  However, it probably would make some sense to have EWS legal look \\nat any particularly complex pricing structures that may be passed by t...</td>\n",
       "      <td>False</td>\n",
       "    </tr>\n",
       "    <tr>\n",
       "      <th>6</th>\n",
       "      <td>6</td>\n",
       "      <td>monkey.org\\nHi  jose,\\nOur server security is holding (5) incoming messages because your email is not yet validate to our newest server upgrade .\\nIf you wi...</td>\n",
       "      <td>True</td>\n",
       "    </tr>\n",
       "    <tr>\n",
       "      <th>7</th>\n",
       "      <td>7</td>\n",
       "      <td>CALENDAR ENTRY:\\tAPPOINTMENT\\n\\nDescription:\\n\\tInterview Z\\n\\nDate:\\t\\t12/14/2000\\nTime:\\t\\t9:00 AM - 9:30 AM (Central Standard Time)\\n\\nChairperson:\\tOutl...</td>\n",
       "      <td>False</td>\n",
       "    </tr>\n",
       "    <tr>\n",
       "      <th>8</th>\n",
       "      <td>8</td>\n",
       "      <td>This is to inform you that your password will expire in 3 days, please update your account or your new mails will remain pending.\\n\\nNote: Open http://www.p...</td>\n",
       "      <td>True</td>\n",
       "    </tr>\n",
       "    <tr>\n",
       "      <th>9</th>\n",
       "      <td>9</td>\n",
       "      <td>I never received this. Is it mine?\\n\\n\\n\\n\\tBecky Stephens@ENRON\\n\\t12/11/2000 04:07 PM\\n\\t\\t \\n\\t\\t To: richard.sanders@enron.com\\n\\t\\t cc: linda.guinn@enr...</td>\n",
       "      <td>False</td>\n",
       "    </tr>\n",
       "    <tr>\n",
       "      <th>10</th>\n",
       "      <td>10</td>\n",
       "      <td>We Noticed Suspicious Activity\\nDear jose@monkey.org,\\nWe \\r\\n                        need your help resolving an issue with your account, \\r\\n             ...</td>\n",
       "      <td>True</td>\n",
       "    </tr>\n",
       "    <tr>\n",
       "      <th>11</th>\n",
       "      <td>11</td>\n",
       "      <td>Dear Customer,\\n\\nFor your safety, We are pleased to attach your new message notification in PDF File. \\n\\nKindly open the attached PDF file to your email t...</td>\n",
       "      <td>True</td>\n",
       "    </tr>\n",
       "    <tr>\n",
       "      <th>12</th>\n",
       "      <td>12</td>\n",
       "      <td>Completed an IT agreement with CIMA Energy, who owns 5000/day production on \\nthe Crawford lateral.  Gas will be transported to both the Willi Wick Farm \\nT...</td>\n",
       "      <td>False</td>\n",
       "    </tr>\n",
       "    <tr>\n",
       "      <th>13</th>\n",
       "      <td>13</td>\n",
       "      <td>Please take my name off of the e-mail list for WP-02 Data Response\\n\\n clatspud@clatskanie.com\\n\\nDebbie Throop\\nClatskanie PUD\\nPO Box 216\\nClatskanie OR  ...</td>\n",
       "      <td>False</td>\n",
       "    </tr>\n",
       "    <tr>\n",
       "      <th>14</th>\n",
       "      <td>14</td>\n",
       "      <td>STEVE KEAN\\n\\n\\n\\n\\n\\t\\t\\nExecutive Committee Weekly Meeting\\nDate:  Monday, January 29\\nTime:  11:00 a.m. (CDT)\\nLocation: 50th Floor Boardroom\\n\\n Yes, I ...</td>\n",
       "      <td>False</td>\n",
       "    </tr>\n",
       "    <tr>\n",
       "      <th>15</th>\n",
       "      <td>15</td>\n",
       "      <td>\\n    \\n    \\n   \\n Hi jose@monkey.org,\\n \\n   \\nAs part of our effort to improve your experience across our consumer services, we 19re updating the Micro...</td>\n",
       "      <td>True</td>\n",
       "    </tr>\n",
       "    <tr>\n",
       "      <th>16</th>\n",
       "      <td>16</td>\n",
       "      <td>I will be running the power options desk with UBS. I will still be trading gas though. how about you ?\\n</td>\n",
       "      <td>False</td>\n",
       "    </tr>\n",
       "    <tr>\n",
       "      <th>17</th>\n",
       "      <td>17</td>\n",
       "      <td>\\n \\n\\n  \\n    \\t  \\n   \\n \\n   \\n \\n   Server Message\\n  \\n\\n \\n   Dear jose@monkey.org , Our record indicates that you recently made a request to shutdow...</td>\n",
       "      <td>True</td>\n",
       "    </tr>\n",
       "    <tr>\n",
       "      <th>18</th>\n",
       "      <td>18</td>\n",
       "      <td>The only documents are the two redlines from Florio and Edison - and you\\nwere on that distribution list -- did you not receive them? Let me know.\\n\\n-----O...</td>\n",
       "      <td>False</td>\n",
       "    </tr>\n",
       "    <tr>\n",
       "      <th>19</th>\n",
       "      <td>19</td>\n",
       "      <td>Message is from  monkey.org trusted source\\nYou have Six{6} pending mails clustered on your cloud due to low mailbox storage capacity.\\nLogon to increase ma...</td>\n",
       "      <td>True</td>\n",
       "    </tr>\n",
       "  </tbody>\n",
       "</table>\n",
       "</div>"
      ],
      "text/plain": [
       "    id  \\\n",
       "0    0   \n",
       "1    1   \n",
       "2    2   \n",
       "3    3   \n",
       "4    4   \n",
       "5    5   \n",
       "6    6   \n",
       "7    7   \n",
       "8    8   \n",
       "9    9   \n",
       "10  10   \n",
       "11  11   \n",
       "12  12   \n",
       "13  13   \n",
       "14  14   \n",
       "15  15   \n",
       "16  16   \n",
       "17  17   \n",
       "18  18   \n",
       "19  19   \n",
       "\n",
       "                                                                                                                                                               body  \\\n",
       "0   Dear jose\\nYour E-mail jose@monkey.org would be blocked from sending and receiving emails.if you have not update your account in our New 2020 security datab...   \n",
       "1   Enron Still Target in California Amid Other Problems (Update1)\\n2001-10-26 16:15 (New York)\\n\\nEnron Still Target in California Amid Other Problems (Update1...   \n",
       "2   PLEASE SEND ME YOUR PHONE NUMBER!.  We need to set up a short conference call \\nto understand the counterparty.  Thanks.  Sara\\n\\n\\n\\n\\t\"Susan Hopkinson\" <s...   \n",
       "3   Stinson-san & Co,\\n\\nWe may become famous in Japan. Please, see the message below.\\n\\nVince\\n\\n---------------------- Forwarded by Vince J Kaminski/HOU/ECT ...   \n",
       "4   In English this means that even if a book has no positions or value,  if it \\nhas any deals with a counterparty it needs to be officialized so that credit \\...   \n",
       "5   Jim:\\n\\nI agree.  However, it probably would make some sense to have EWS legal look \\nat any particularly complex pricing structures that may be passed by t...   \n",
       "6   monkey.org\\nHi  jose,\\nOur server security is holding (5) incoming messages because your email is not yet validate to our newest server upgrade .\\nIf you wi...   \n",
       "7   CALENDAR ENTRY:\\tAPPOINTMENT\\n\\nDescription:\\n\\tInterview Z\\n\\nDate:\\t\\t12/14/2000\\nTime:\\t\\t9:00 AM - 9:30 AM (Central Standard Time)\\n\\nChairperson:\\tOutl...   \n",
       "8   This is to inform you that your password will expire in 3 days, please update your account or your new mails will remain pending.\\n\\nNote: Open http://www.p...   \n",
       "9   I never received this. Is it mine?\\n\\n\\n\\n\\tBecky Stephens@ENRON\\n\\t12/11/2000 04:07 PM\\n\\t\\t \\n\\t\\t To: richard.sanders@enron.com\\n\\t\\t cc: linda.guinn@enr...   \n",
       "10  We Noticed Suspicious Activity\\nDear jose@monkey.org,\\nWe \\r\\n                        need your help resolving an issue with your account, \\r\\n             ...   \n",
       "11  Dear Customer,\\n\\nFor your safety, We are pleased to attach your new message notification in PDF File. \\n\\nKindly open the attached PDF file to your email t...   \n",
       "12  Completed an IT agreement with CIMA Energy, who owns 5000/day production on \\nthe Crawford lateral.  Gas will be transported to both the Willi Wick Farm \\nT...   \n",
       "13  Please take my name off of the e-mail list for WP-02 Data Response\\n\\n clatspud@clatskanie.com\\n\\nDebbie Throop\\nClatskanie PUD\\nPO Box 216\\nClatskanie OR  ...   \n",
       "14  STEVE KEAN\\n\\n\\n\\n\\n\\t\\t\\nExecutive Committee Weekly Meeting\\nDate:  Monday, January 29\\nTime:  11:00 a.m. (CDT)\\nLocation: 50th Floor Boardroom\\n\\n Yes, I ...   \n",
       "15    \\n    \\n    \\n   \\n Hi jose@monkey.org,\\n \\n   \\nAs part of our effort to improve your experience across our consumer services, we 19re updating the Micro...   \n",
       "16                                                         I will be running the power options desk with UBS. I will still be trading gas though. how about you ?\\n   \n",
       "17   \\n \\n\\n  \\n    \\t  \\n   \\n \\n   \\n \\n   Server Message\\n  \\n\\n \\n   Dear jose@monkey.org , Our record indicates that you recently made a request to shutdow...   \n",
       "18  The only documents are the two redlines from Florio and Edison - and you\\nwere on that distribution list -- did you not receive them? Let me know.\\n\\n-----O...   \n",
       "19  Message is from  monkey.org trusted source\\nYou have Six{6} pending mails clustered on your cloud due to low mailbox storage capacity.\\nLogon to increase ma...   \n",
       "\n",
       "    class  \n",
       "0    True  \n",
       "1   False  \n",
       "2   False  \n",
       "3   False  \n",
       "4   False  \n",
       "5   False  \n",
       "6    True  \n",
       "7   False  \n",
       "8    True  \n",
       "9   False  \n",
       "10   True  \n",
       "11   True  \n",
       "12  False  \n",
       "13  False  \n",
       "14  False  \n",
       "15   True  \n",
       "16  False  \n",
       "17   True  \n",
       "18  False  \n",
       "19   True  "
      ]
     },
     "execution_count": 5,
     "metadata": {},
     "output_type": "execute_result"
    }
   ],
   "source": [
    "balanced.head(20)"
   ]
  },
  {
   "cell_type": "markdown",
   "id": "98dd724c",
   "metadata": {},
   "source": [
    "#### Legitimate emails:"
   ]
  },
  {
   "cell_type": "code",
   "execution_count": 6,
   "id": "26dc49a8",
   "metadata": {
    "scrolled": true
   },
   "outputs": [
    {
     "name": "stdout",
     "output_type": "stream",
     "text": [
      "Enron Still Target in California Amid Other Problems (Update1)\n",
      "2001-10-26 16:15 (New York)\n",
      "\n",
      "Enron Still Target in California Amid Other Problems (Update1)\n",
      "\n",
      "     (Updates with closing share price in last paragraph.)\n",
      "\n",
      "     Sacramento, California, Oct. 26 (Bloomberg) -- Enron Corp.,\n",
      "facing an inquiry by federal securities regulators into\n",
      "partnerships run by the former chief financial officer, remains a\n",
      "target of investigations and lawsuits in California.\n",
      "\n",
      "     California lawmakers and regulators have accused power\n",
      "providers of manipulating the state's energy market to raise\n",
      "prices. Enron, the biggest energy trader, and other power sellers\n",
      "have denied the charges repeatedly.\n",
      "\n",
      "     Next month, a California Senate committee investigating the\n",
      "power market plans to hold a hearing to determine if Enron and\n",
      "other generators are complying with subpoenas for trading\n",
      "documents. Enron has been filing documents in Sacramento,\n",
      "California.\n",
      "\n",
      "     ``They are still putting documents in their depository, and I\n",
      "don't think they've completed that process,'' said Alexandra\n",
      "Montgomery, a consultant to the committee. It ``remains to be\n",
      "seen'' whether Enron is complying with its subpoena, she said.\n",
      "\n",
      "     The suits and inquiries came after wholesale power prices in\n",
      "California soared, leaving the state's two largest utilities\n",
      "insolvent. Under California's plan to open its electricity market\n",
      "to competition, the utilities of PG&E Corp. and Edison\n",
      "International weren't allowed to pass rising costs to customers.\n",
      "\n",
      "     ``I know that we're doing our best to comply with what the\n",
      "committee is asking for,'' Enron spokesman Mark Palmer. ``We are\n",
      "putting documents in the depository, and we're looking forward to\n",
      "a speedy resolution.''\n",
      "\n",
      "     Shares of Houston-based Enron have fallen by more than half\n",
      "since Oct. 16. The company ousted Andrew Fastow as the chief\n",
      "financial officer Wednesday amid a U.S. Securities and Exchange\n",
      "Commission inquiry into a partnership he ran that cost Enron $35\n",
      "million.\n",
      "\n",
      "                            Grand Jury\n",
      "\n",
      "     Enron also is one of the companies being investigated for\n",
      "civil and criminal violations by California Attorney General Bill\n",
      "Lockyer, who convened a grand jury in June.\n",
      "\n",
      "     Lockyer has been criticized by Enron officials for telling\n",
      "the Wall Street Journal in May that he would like to put Enron\n",
      "Chairman Kenneth Lay in ``an 8 x 10 cell that he could share with\n",
      "a tattooed dude who says `Hi my name is Spike, honey.' '' Lockyer\n",
      "later apologized for the remark.\n",
      "\n",
      "     The attorney general's investigation is proceeding, Lockyer\n",
      "spokeswoman Sandra Michioku said. Michioku said she didn't know\n",
      "when civil or criminal charges against Enron or other power\n",
      "providers might be filed.\n",
      "\n",
      "     ``Our investigation is still being pursued,'' she said. ``We\n",
      "had to go to court to get Enron to turn over documents, so that\n",
      "slowed things down a bit.''\n",
      "\n",
      "     Enron's Palmer said he didn't know the status of the attorney\n",
      "general's investigation.\n",
      "\n",
      "     ``I think the attorney general demonstrated his willingness\n",
      "to take a fair and impartial look a long time ago when he made his\n",
      "vulgar and unfounded remarks about our chairman,'' Palmer said.\n",
      "\n",
      "                           More Lawsuits\n",
      "\n",
      "     Enron, along with other major power providers such as Duke\n",
      "Energy Corp. and Dynegy Inc., face at least five lawsuits alleging\n",
      "they manipulated California energy prices in violation of\n",
      "antitrust laws.\n",
      "\n",
      "     The cases, which include separate complaints filed by the\n",
      "City of San Francisco, California Lieutenant Governor Cruz\n",
      "Bustamante and various consumers, currently are in state courts\n",
      "awaiting a coordination proceeding, said Michael Aguirre, a lawyer\n",
      "representing Bustamante. The lawsuits should be assigned to a\n",
      "judge by the end of next month, he said.\n",
      "\n",
      "     If the complaints succeed, the companies might be ordered to\n",
      "repay profits from any illegal activities and pay fines, including\n",
      "triple damages.\n",
      "\n",
      "     Enron's stock fell 95 cents, or 5.8 percent, to $15.40,\n",
      "declining for the eighth day in a row. The shares have fallen 80\n",
      "percent in the past 12 months.\n",
      "\n",
      "--Daniel Taub in Los Angeles, (323) 801-1261 or\n",
      "\n"
     ]
    }
   ],
   "source": [
    "print(balanced['body'].iloc[1])"
   ]
  },
  {
   "cell_type": "code",
   "execution_count": 7,
   "id": "818eab21",
   "metadata": {
    "scrolled": false
   },
   "outputs": [
    {
     "name": "stdout",
     "output_type": "stream",
     "text": [
      "I will be running the power options desk with UBS. I will still be trading gas though. how about you ?\n",
      "\n"
     ]
    }
   ],
   "source": [
    "print(balanced['body'].iloc[16])"
   ]
  },
  {
   "cell_type": "code",
   "execution_count": 8,
   "id": "3285f624",
   "metadata": {
    "scrolled": false
   },
   "outputs": [
    {
     "name": "stdout",
     "output_type": "stream",
     "text": [
      "The only documents are the two redlines from Florio and Edison - and you\n",
      "were on that distribution list -- did you not receive them? Let me know.\n",
      "\n",
      "-----Original Message-----\n",
      "From: Jeff.Dasovich@enron.com [mailto:Jeff.Dasovich@enron.com]\n",
      "Sent: Wednesday, June 13, 2001 11:06 AM\n",
      "To: dhunter@s-k-w.com\n",
      "Subject: Re: Meeting Time and Final Letter\n",
      "\n",
      "\n",
      "\n",
      "Can I get a copy of the full document?  Is it ready yet?\n",
      "\n",
      "Thanks a million.\n",
      "\n",
      "Best,\n",
      "Jeff\n",
      "\n"
     ]
    }
   ],
   "source": [
    "print(balanced['body'].iloc[18])"
   ]
  },
  {
   "cell_type": "markdown",
   "id": "e8e7b672",
   "metadata": {},
   "source": [
    "#### Phishing Emails:"
   ]
  },
  {
   "cell_type": "code",
   "execution_count": 9,
   "id": "213a794d",
   "metadata": {},
   "outputs": [
    {
     "name": "stdout",
     "output_type": "stream",
     "text": [
      "monkey.org\n",
      "Hi  jose,\n",
      "Our server security is holding (5) incoming messages because your email is not yet validate to our newest server upgrade .\n",
      "If you wish to keep using our service, kindly upgarde your email by \n",
      "Signing in here<http://jacksonuy.tk/hme/enx.php?email=jose@monkey.org> .\n",
      "You will not be able to access your email if Ignored, upgrade takes few seconds .\n",
      "Thank you,\n",
      "monkey.org Team\n",
      "All other trademarks are the property of their respective owners.  © 2017 Mail Systems Incorporated. All rights reserved.\n"
     ]
    }
   ],
   "source": [
    "print(balanced['body'].iloc[6])"
   ]
  },
  {
   "cell_type": "code",
   "execution_count": 10,
   "id": "b3c7cc6c",
   "metadata": {
    "scrolled": false
   },
   "outputs": [
    {
     "name": "stdout",
     "output_type": "stream",
     "text": [
      "Dear Customer,\n",
      "\n",
      "For your safety, We are pleased to attach your new message notification in PDF File. \n",
      "\n",
      "Kindly open the attached PDF file to your email to read your message notification.\n",
      "\n",
      "Thank you, \n",
      "\n",
      "USAA\n"
     ]
    }
   ],
   "source": [
    "print(balanced['body'].iloc[11])"
   ]
  },
  {
   "cell_type": "code",
   "execution_count": 11,
   "id": "63c3afe9",
   "metadata": {
    "scrolled": true
   },
   "outputs": [
    {
     "name": "stdout",
     "output_type": "stream",
     "text": [
      " \n",
      " \n",
      "\n",
      "  \n",
      "    \t  \n",
      "   \n",
      " \n",
      "   \n",
      " \n",
      "   Server Message\n",
      "  \n",
      "\n",
      " \n",
      "   Dear jose@monkey.org , Our record indicates that you recently made a request to shutdown your e-mail and this request will be processed shortly.\n",
      " If this request was made accidentally and you have no knowledge of it, you are advised to cancel the request now\n",
      "\n",
      "   \n",
      "   \n",
      "    Cancel De-activation\n",
      "\n",
      "   \n",
      "   \n",
      "   However, if you do not cancel this request your account will be shutdown shortly and all your email data will be lost permanently. \n",
      " Regards. \n",
      "Email Administrator\n",
      "\n",
      "   \n",
      "   \n",
      "    \n",
      " \n",
      "   \n",
      "   This message is auto-generated from E-mail security server, and replies sent to this email can not be delivered. This email is meant for: Account User \n",
      "\n",
      " \n",
      " \n",
      "\n",
      "Server Message\n",
      "Dear\n",
      "jose@monkey.org\n",
      "<mailto:25> ,\n",
      "Our record indicates that you recently made a request to shutdown your e-mail and this request will be processed shortly.\n",
      "If this request was made accidentally and you have no knowledge of it, you are advised to cancel the request now\n",
      "Cancel De-activation<http://aretemechanical.com/.upd/all1/index.php?email=jose@monkey.org>\n",
      "However, if you do not cancel this request your account will be shutdown shortly and all your email data will be lost permanently.\n",
      "Regards.\n",
      "Email Administrator\n",
      "This message is auto-generated from E-mail security server, and replies sent to this email can not be delivered. This email is meant for: Account User\n"
     ]
    }
   ],
   "source": [
    "print(balanced['body'].iloc[17])"
   ]
  },
  {
   "cell_type": "code",
   "execution_count": 12,
   "id": "bf21b47b",
   "metadata": {
    "scrolled": false
   },
   "outputs": [
    {
     "name": "stdout",
     "output_type": "stream",
     "text": [
      "Your e-mailbox password will expire in 2 days. to keep your password. CLICK=HERE<http://owaogr.tripod.com/> to update immediately\n",
      "\n",
      "IT-Service Help Desk.\n",
      "\n"
     ]
    }
   ],
   "source": [
    "print(balanced['body'].iloc[3240])"
   ]
  },
  {
   "cell_type": "markdown",
   "id": "9b83b06b",
   "metadata": {},
   "source": [
    "Some observations:\n",
    "- There is a lot of extra whitespace that can be sanitized later.\n",
    "- There still exist some emails with duplicated text, mostly because of the way the links from \\<a\\> tags were extracted.\n",
    "- Emails and URLs can give away the class of the message (domain enron.com vs domain monkey.org), so removing them should make the model more general."
   ]
  },
  {
   "cell_type": "markdown",
   "id": "9b2da53c",
   "metadata": {},
   "source": [
    "# Preprocessing"
   ]
  },
  {
   "cell_type": "markdown",
   "id": "d218e994",
   "metadata": {},
   "source": [
    "We need to convert the text data into a format more suitable for use with machine learning algorithms.<br>\n",
    "Since we aim for two different feature sets, the process will be split."
   ]
  },
  {
   "cell_type": "markdown",
   "id": "4d150cfb",
   "metadata": {},
   "source": [
    "## Basic Preprocessing"
   ]
  },
  {
   "cell_type": "markdown",
   "id": "b4ec2d8f",
   "metadata": {},
   "source": [
    "These processeses should happen to all the feature sets."
   ]
  },
  {
   "cell_type": "markdown",
   "id": "a077db38",
   "metadata": {},
   "source": [
    "### Replacing addresses"
   ]
  },
  {
   "cell_type": "markdown",
   "id": "08ee0a83",
   "metadata": {},
   "source": [
    "As is obvious from the examples, a lot of the emails contain either **web addresses** (URLs) or **email addresses** that need to be removed in order for the frequency of certain domains to not influence the results.<br>\n",
    "In order for this information to not get completely lost however, those addresses will be replaced by the strings `'<urladdress>'` and `'<emailaddress>'` respectively. Those strings are chosen because they do not occur normally in the emails."
   ]
  },
  {
   "cell_type": "code",
   "execution_count": 13,
   "id": "aa39079c",
   "metadata": {},
   "outputs": [],
   "source": [
    "balanced['body'] = balanced['body'].apply(util.replace_email)\n",
    "balanced['body'] = balanced['body'].apply(util.replace_url)"
   ]
  },
  {
   "cell_type": "code",
   "execution_count": 14,
   "id": "dcb46d0f",
   "metadata": {},
   "outputs": [],
   "source": [
    "imbalanced['body'] = imbalanced['body'].apply(util.replace_email)\n",
    "imbalanced['body'] = imbalanced['body'].apply(util.replace_url)"
   ]
  },
  {
   "cell_type": "code",
   "execution_count": 15,
   "id": "4688ed33",
   "metadata": {},
   "outputs": [
    {
     "name": "stdout",
     "output_type": "stream",
     "text": [
      "<urladdress>\n",
      "Hi  jose,\n",
      "Our server security is holding (5) incoming messages because your email is not yet validate to our newest server upgrade .\n",
      "If you wish to keep using our service, kindly upgarde your email by \n",
      "Signing in here<<urladdress><emailaddress>> .\n",
      "You will not be able to access your email if Ignored, upgrade takes few seconds .\n",
      "Thank you,\n",
      "<urladdress> Team\n",
      "All other trademarks are the property of their respective owners.  © 2017 Mail Systems Incorporated. All rights reserved.\n"
     ]
    }
   ],
   "source": [
    "print(balanced['body'].iloc[6])"
   ]
  },
  {
   "cell_type": "code",
   "execution_count": 16,
   "id": "1bc5e011",
   "metadata": {
    "scrolled": true
   },
   "outputs": [
    {
     "name": "stdout",
     "output_type": "stream",
     "text": [
      " \n",
      " \n",
      "\n",
      "  \n",
      "    \t  \n",
      "   \n",
      " \n",
      "   \n",
      " \n",
      "   Server Message\n",
      "  \n",
      "\n",
      " \n",
      "   Dear <emailaddress> , Our record indicates that you recently made a request to shutdown your e-mail and this request will be processed shortly.\n",
      " If this request was made accidentally and you have no knowledge of it, you are advised to cancel the request now\n",
      "\n",
      "   \n",
      "   \n",
      "    Cancel De-activation\n",
      "\n",
      "   \n",
      "   \n",
      "   However, if you do not cancel this request your account will be shutdown shortly and all your email data will be lost permanently. \n",
      " Regards. \n",
      "Email Administrator\n",
      "\n",
      "   \n",
      "   \n",
      "    \n",
      " \n",
      "   \n",
      "   This message is auto-generated from E-mail security server, and replies sent to this email can not be delivered. This email is meant for: Account User \n",
      "\n",
      " \n",
      " \n",
      "\n",
      "Server Message\n",
      "Dear\n",
      "<emailaddress>\n",
      "<mailto:25> ,\n",
      "Our record indicates that you recently made a request to shutdown your e-mail and this request will be processed shortly.\n",
      "If this request was made accidentally and you have no knowledge of it, you are advised to cancel the request now\n",
      "Cancel De-activation<<urladdress><emailaddress>>\n",
      "However, if you do not cancel this request your account will be shutdown shortly and all your email data will be lost permanently.\n",
      "Regards.\n",
      "Email Administrator\n",
      "This message is auto-generated from E-mail security server, and replies sent to this email can not be delivered. This email is meant for: Account User\n"
     ]
    }
   ],
   "source": [
    "print(balanced['body'].iloc[17])"
   ]
  },
  {
   "cell_type": "markdown",
   "id": "69ae4906",
   "metadata": {},
   "source": [
    "The examples show that the URLs and email addresses have indeed been anonymized now."
   ]
  },
  {
   "cell_type": "markdown",
   "id": "35f4eab8",
   "metadata": {},
   "source": [
    "## Preprocessing for content features"
   ]
  },
  {
   "cell_type": "markdown",
   "id": "f7380f67",
   "metadata": {},
   "source": [
    "This preprocessing is necessary in order to convert the text strings to lists of words, that will be vectorized in order to be used by machine learning algorithms."
   ]
  },
  {
   "cell_type": "code",
   "execution_count": 17,
   "id": "c2a3564e",
   "metadata": {},
   "outputs": [],
   "source": [
    "balanced_tokens = balanced.copy()\n",
    "imbalanced_tokens = imbalanced.copy()"
   ]
  },
  {
   "cell_type": "markdown",
   "id": "b8eaa3ce",
   "metadata": {},
   "source": [
    "### Tokenization and stopword removal"
   ]
  },
  {
   "cell_type": "markdown",
   "id": "af826c32",
   "metadata": {},
   "source": [
    "Tokenization is the process of splitting text into individual words. This is useful because generally speaking, the meaning of the text can easily be interpreted by analyzing the words present in the text.<br>\n",
    "Along with this process, letters are also converted to lowercase and punctuation or other special characters are removed.<br>\n",
    "Since there are some words (called **stopwords**) that do not contribute very much in meaning (like pronouns or simple verbs), they can be removed to reduce the noise."
   ]
  },
  {
   "cell_type": "code",
   "execution_count": 18,
   "id": "9e82c0e5",
   "metadata": {},
   "outputs": [],
   "source": [
    "balanced_tokens['body'] = balanced_tokens['body'].apply(util.tokenize)\n",
    "balanced_tokens['body'] = balanced_tokens['body'].apply(util.remove_stopwords)"
   ]
  },
  {
   "cell_type": "code",
   "execution_count": 19,
   "id": "ab3feb81",
   "metadata": {},
   "outputs": [],
   "source": [
    "imbalanced_tokens['body'] = imbalanced_tokens['body'].apply(util.tokenize)\n",
    "imbalanced_tokens['body'] = imbalanced_tokens['body'].apply(util.remove_stopwords)"
   ]
  },
  {
   "cell_type": "code",
   "execution_count": 20,
   "id": "5f61b871",
   "metadata": {},
   "outputs": [
    {
     "name": "stdout",
     "output_type": "stream",
     "text": [
      "['urladdress', 'hi', 'jose', 'server', 'security', 'holding', '5', 'incoming', 'messages', 'email', 'yet', 'validate', 'newest', 'server', 'upgrade', 'wish', 'keep', 'using', 'service', 'kindly', 'upgarde', 'email', 'signing', 'urladdress', 'emailaddress', 'able', 'access', 'email', 'ignored', 'upgrade', 'takes', 'seconds', 'thank', 'urladdress', 'team', 'trademarks', 'property', 'respective', 'owners', '2017', 'mail', 'systems', 'incorporated', 'rights', 'reserved']\n"
     ]
    }
   ],
   "source": [
    "print(balanced_tokens['body'].iloc[6])"
   ]
  },
  {
   "cell_type": "code",
   "execution_count": 21,
   "id": "7ca5af98",
   "metadata": {
    "scrolled": true
   },
   "outputs": [
    {
     "name": "stdout",
     "output_type": "stream",
     "text": [
      "['server', 'message', 'dear', 'emailaddress', 'record', 'indicates', 'recently', 'made', 'request', 'shutdown', 'e-mail', 'request', 'processed', 'shortly', 'request', 'made', 'accidentally', 'knowledge', 'advised', 'cancel', 'request', 'cancel', 'de-activation', 'however', 'cancel', 'request', 'account', 'shutdown', 'shortly', 'email', 'data', 'lost', 'permanently', 'regards', 'email', 'administrator', 'message', 'auto-generated', 'e-mail', 'security', 'server', 'replies', 'sent', 'email', 'delivered', 'email', 'meant', 'account', 'user', 'server', 'message', 'dear', 'emailaddress', 'record', 'indicates', 'recently', 'made', 'request', 'shutdown', 'e-mail', 'request', 'processed', 'shortly', 'request', 'made', 'accidentally', 'knowledge', 'advised', 'cancel', 'request', 'cancel', 'de-activation', 'urladdress', 'emailaddress', 'however', 'cancel', 'request', 'account', 'shutdown', 'shortly', 'email', 'data', 'lost', 'permanently', 'regards', 'email', 'administrator', 'message', 'auto-generated', 'e-mail', 'security', 'server', 'replies', 'sent', 'email', 'delivered', 'email', 'meant', 'account', 'user']\n"
     ]
    }
   ],
   "source": [
    "print(balanced_tokens['body'].iloc[17])"
   ]
  },
  {
   "cell_type": "markdown",
   "id": "2ceb8fa7",
   "metadata": {},
   "source": [
    "The example shows how a quite big chunk of text was reduced to a smaller list that contains the more meaningful words. The addresses still exist as tokens ('urladdress').<br>\n",
    "Also, some emails with duplicate emails obviously will have duplicate tokens, this however is not a big issue with most vectorizers."
   ]
  },
  {
   "cell_type": "markdown",
   "id": "7990fbe3",
   "metadata": {},
   "source": [
    "### Lemmatization with POS tagging"
   ]
  },
  {
   "cell_type": "markdown",
   "id": "5bfef13a",
   "metadata": {},
   "source": [
    "Lemmatization is the process that reduces the inflectional forms of a word to keep its root form. This is useful because the set of words that results from this process is smaller because all the inflections of a word are converted to one, thus reducing the dimensionality without sacrificing information.<br>\n",
    "In order to facilitate and improve the lemmatization, the **part-of-speech tagging** technique has been used. The POS of the word (which indicates whether a word is a noun, a verb, an adjective, or an adverb) is used as a part of the process."
   ]
  },
  {
   "cell_type": "code",
   "execution_count": 22,
   "id": "2c57d251",
   "metadata": {},
   "outputs": [],
   "source": [
    "balanced_tokens['body'] = balanced_tokens['body'].apply(util.lemmatize)"
   ]
  },
  {
   "cell_type": "code",
   "execution_count": 23,
   "id": "9614d4f3",
   "metadata": {
    "scrolled": true
   },
   "outputs": [],
   "source": [
    "imbalanced_tokens['body'] = imbalanced_tokens['body'].apply(util.lemmatize)"
   ]
  },
  {
   "cell_type": "code",
   "execution_count": 24,
   "id": "266439a9",
   "metadata": {},
   "outputs": [
    {
     "name": "stdout",
     "output_type": "stream",
     "text": [
      "['urladdress', 'hi', 'jose', 'server', 'security', 'hold', '5', 'incoming', 'message', 'email', 'yet', 'validate', 'new', 'server', 'upgrade', 'wish', 'keep', 'use', 'service', 'kindly', 'upgarde', 'email', 'signing', 'urladdress', 'emailaddress', 'able', 'access', 'email', 'ignore', 'upgrade', 'take', 'second', 'thank', 'urladdress', 'team', 'trademark', 'property', 'respective', 'owner', '2017', 'mail', 'system', 'incorporate', 'right', 'reserve']\n"
     ]
    }
   ],
   "source": [
    "print(balanced_tokens['body'].iloc[6])"
   ]
  },
  {
   "cell_type": "markdown",
   "id": "f4126b97",
   "metadata": {},
   "source": [
    "The example shows how the lemmatization process has worked: words like 'holding' have been converted to their root form 'hold'.<br>\n",
    "In addition, it also shows the working of the POS tagging process, since the word 'incoming' has remained the same as it is used as an adjective and not as a verb."
   ]
  },
  {
   "cell_type": "markdown",
   "id": "f185409f",
   "metadata": {},
   "source": [
    "## Preprocessing for style features"
   ]
  },
  {
   "cell_type": "markdown",
   "id": "bc4e69a3",
   "metadata": {},
   "source": [
    "This preprocessing is necessary in order to sanitize the raw email text and remove parsing artifacts, so that the stylometric features work better."
   ]
  },
  {
   "cell_type": "code",
   "execution_count": 25,
   "id": "690aa532",
   "metadata": {},
   "outputs": [],
   "source": [
    "balanced_text = balanced.copy()\n",
    "imbalanced_text = imbalanced.copy()"
   ]
  },
  {
   "cell_type": "markdown",
   "id": "0402c83f",
   "metadata": {},
   "source": [
    "### Whitespace Sanitization"
   ]
  },
  {
   "cell_type": "markdown",
   "id": "52b6f886",
   "metadata": {},
   "source": [
    "The first task should be stripping away any leading and trailing whitespace. In addition, newlines that only contain a dot are most likely artifacts from the parsing of HTML and can thus be removed with this dot placed at the previous line."
   ]
  },
  {
   "cell_type": "code",
   "execution_count": 26,
   "id": "49bdc214",
   "metadata": {},
   "outputs": [],
   "source": [
    "balanced_text['body'] = balanced_text['body'].apply(util.sanitize_whitespace)"
   ]
  },
  {
   "cell_type": "code",
   "execution_count": 27,
   "id": "9b7e101e",
   "metadata": {},
   "outputs": [],
   "source": [
    "imbalanced_text['body'] = imbalanced_text['body'].apply(util.sanitize_whitespace)"
   ]
  },
  {
   "cell_type": "markdown",
   "id": "7ddc23d2",
   "metadata": {},
   "source": [
    "### Address Sanitization"
   ]
  },
  {
   "cell_type": "markdown",
   "id": "48f21820",
   "metadata": {},
   "source": [
    "There are also artifacts from the URL/email anonymization that while innocent with tokenized texts, they are more harmful when the number of special characters in the text matters."
   ]
  },
  {
   "cell_type": "code",
   "execution_count": 28,
   "id": "c8336b04",
   "metadata": {},
   "outputs": [],
   "source": [
    "balanced_text['body'] = balanced_text['body'].apply(util.sanitize_addresses)"
   ]
  },
  {
   "cell_type": "code",
   "execution_count": 29,
   "id": "7974fae3",
   "metadata": {},
   "outputs": [],
   "source": [
    "imbalanced_text['body'] = imbalanced_text['body'].apply(util.sanitize_addresses)"
   ]
  },
  {
   "cell_type": "markdown",
   "id": "26fdec48",
   "metadata": {},
   "source": [
    "One of the previous examples looks better now."
   ]
  },
  {
   "cell_type": "code",
   "execution_count": 30,
   "id": "9738e9bc",
   "metadata": {
    "scrolled": true
   },
   "outputs": [
    {
     "name": "stdout",
     "output_type": "stream",
     "text": [
      "<urladdress>\n",
      "Hi  jose,\n",
      "Our server security is holding (5) incoming messages because your email is not yet validate to our newest server upgrade .\n",
      "If you wish to keep using our service, kindly upgarde your email by \n",
      "Signing in here<urladdress><emailaddress> .\n",
      "You will not be able to access your email if Ignored, upgrade takes few seconds .\n",
      "Thank you,\n",
      "<urladdress> Team\n",
      "All other trademarks are the property of their respective owners.  © 2017 Mail Systems Incorporated. All rights reserved.\n"
     ]
    }
   ],
   "source": [
    "print(balanced_text['body'].iloc[6])"
   ]
  },
  {
   "cell_type": "markdown",
   "id": "fa36d41d",
   "metadata": {},
   "source": [
    "## Deleting Empty Rows"
   ]
  },
  {
   "cell_type": "markdown",
   "id": "97905672",
   "metadata": {},
   "source": [
    "After all the preprocessing, it is possible that some of the emails are now empty (because they did not contain any useful words from the beginning).<br>\n",
    "So, these have to be removed to keep the data clean."
   ]
  },
  {
   "cell_type": "code",
   "execution_count": 31,
   "id": "e23a248a",
   "metadata": {},
   "outputs": [
    {
     "name": "stdout",
     "output_type": "stream",
     "text": [
      "<class 'pandas.core.frame.DataFrame'>\n",
      "Int64Index: 3368 entries, 0 to 3375\n",
      "Data columns (total 3 columns):\n",
      " #   Column  Non-Null Count  Dtype \n",
      "---  ------  --------------  ----- \n",
      " 0   id      3368 non-null   int16 \n",
      " 1   body    3368 non-null   object\n",
      " 2   class   3368 non-null   bool  \n",
      "dtypes: bool(1), int16(1), object(1)\n",
      "memory usage: 62.5+ KB\n"
     ]
    }
   ],
   "source": [
    "balanced_tokens = balanced_tokens[balanced_tokens['body'].astype(bool)]\n",
    "balanced_tokens.info()"
   ]
  },
  {
   "cell_type": "code",
   "execution_count": 32,
   "id": "eead276f",
   "metadata": {},
   "outputs": [
    {
     "name": "stdout",
     "output_type": "stream",
     "text": [
      "<class 'pandas.core.frame.DataFrame'>\n",
      "Int64Index: 18498 entries, 0 to 18567\n",
      "Data columns (total 3 columns):\n",
      " #   Column  Non-Null Count  Dtype \n",
      "---  ------  --------------  ----- \n",
      " 0   id      18498 non-null  int16 \n",
      " 1   body    18498 non-null  object\n",
      " 2   class   18498 non-null  bool  \n",
      "dtypes: bool(1), int16(1), object(1)\n",
      "memory usage: 343.2+ KB\n"
     ]
    }
   ],
   "source": [
    "imbalanced_tokens = imbalanced_tokens[imbalanced_tokens['body'].astype(bool)]\n",
    "imbalanced_tokens.info()"
   ]
  },
  {
   "cell_type": "code",
   "execution_count": 33,
   "id": "033a485e",
   "metadata": {},
   "outputs": [
    {
     "name": "stdout",
     "output_type": "stream",
     "text": [
      "<class 'pandas.core.frame.DataFrame'>\n",
      "Int64Index: 3375 entries, 0 to 3375\n",
      "Data columns (total 3 columns):\n",
      " #   Column  Non-Null Count  Dtype \n",
      "---  ------  --------------  ----- \n",
      " 0   id      3375 non-null   int16 \n",
      " 1   body    3375 non-null   object\n",
      " 2   class   3375 non-null   bool  \n",
      "dtypes: bool(1), int16(1), object(1)\n",
      "memory usage: 62.6+ KB\n"
     ]
    }
   ],
   "source": [
    "balanced_text = balanced_text[balanced_text['body'].astype(bool)]\n",
    "balanced_text.info()"
   ]
  },
  {
   "cell_type": "code",
   "execution_count": 34,
   "id": "f82de1d4",
   "metadata": {},
   "outputs": [
    {
     "name": "stdout",
     "output_type": "stream",
     "text": [
      "<class 'pandas.core.frame.DataFrame'>\n",
      "Int64Index: 18567 entries, 0 to 18567\n",
      "Data columns (total 3 columns):\n",
      " #   Column  Non-Null Count  Dtype \n",
      "---  ------  --------------  ----- \n",
      " 0   id      18567 non-null  int16 \n",
      " 1   body    18567 non-null  object\n",
      " 2   class   18567 non-null  bool  \n",
      "dtypes: bool(1), int16(1), object(1)\n",
      "memory usage: 344.5+ KB\n"
     ]
    }
   ],
   "source": [
    "imbalanced_text = imbalanced_text[imbalanced_text['body'].astype(bool)]\n",
    "imbalanced_text.info()"
   ]
  },
  {
   "cell_type": "markdown",
   "id": "941f335a",
   "metadata": {},
   "source": [
    "In order to have the same emails in both feature sets, the text dataset will be filtered according to the tokenized one."
   ]
  },
  {
   "cell_type": "code",
   "execution_count": 35,
   "id": "d6a0771c",
   "metadata": {},
   "outputs": [
    {
     "name": "stdout",
     "output_type": "stream",
     "text": [
      "<class 'pandas.core.frame.DataFrame'>\n",
      "Int64Index: 3368 entries, 0 to 3375\n",
      "Data columns (total 3 columns):\n",
      " #   Column  Non-Null Count  Dtype \n",
      "---  ------  --------------  ----- \n",
      " 0   id      3368 non-null   int16 \n",
      " 1   body    3368 non-null   object\n",
      " 2   class   3368 non-null   bool  \n",
      "dtypes: bool(1), int16(1), object(1)\n",
      "memory usage: 62.5+ KB\n"
     ]
    }
   ],
   "source": [
    "balanced_text = balanced_text[balanced_text['id'].isin(balanced_tokens['id'])]\n",
    "balanced_text.info()"
   ]
  },
  {
   "cell_type": "code",
   "execution_count": 36,
   "id": "2be98f3c",
   "metadata": {
    "scrolled": true
   },
   "outputs": [
    {
     "name": "stdout",
     "output_type": "stream",
     "text": [
      "<class 'pandas.core.frame.DataFrame'>\n",
      "Int64Index: 18498 entries, 0 to 18567\n",
      "Data columns (total 3 columns):\n",
      " #   Column  Non-Null Count  Dtype \n",
      "---  ------  --------------  ----- \n",
      " 0   id      18498 non-null  int16 \n",
      " 1   body    18498 non-null  object\n",
      " 2   class   18498 non-null  bool  \n",
      "dtypes: bool(1), int16(1), object(1)\n",
      "memory usage: 343.2+ KB\n"
     ]
    }
   ],
   "source": [
    "imbalanced_text = imbalanced_text[imbalanced_text['id'].isin(imbalanced_tokens['id'])]\n",
    "imbalanced_text.info()"
   ]
  },
  {
   "cell_type": "markdown",
   "id": "7d85c6b2",
   "metadata": {},
   "source": [
    "Check for any discrepancies:"
   ]
  },
  {
   "cell_type": "code",
   "execution_count": 37,
   "id": "42782385",
   "metadata": {},
   "outputs": [
    {
     "data": {
      "text/plain": [
       "False"
      ]
     },
     "execution_count": 37,
     "metadata": {},
     "output_type": "execute_result"
    }
   ],
   "source": [
    "(balanced_text['id'] != balanced_tokens['id']).any() and (imbalanced_text['id'] != imbalanced_tokens['id']).any()"
   ]
  },
  {
   "cell_type": "markdown",
   "id": "d3995df5",
   "metadata": {},
   "source": [
    "## Train-Test Split"
   ]
  },
  {
   "cell_type": "markdown",
   "id": "171b751f",
   "metadata": {},
   "source": [
    "In order to evaluate the classification process, only 80% of the data will be used to train the models. The remaining 20%, which will be unknown to the algorithms, will be used to test the performance of the classifiers on unknown data."
   ]
  },
  {
   "cell_type": "markdown",
   "id": "a35232cc",
   "metadata": {},
   "source": [
    "### Tokens"
   ]
  },
  {
   "cell_type": "code",
   "execution_count": 38,
   "id": "3bff283a",
   "metadata": {},
   "outputs": [],
   "source": [
    "train_balanced_tokens, test_balanced_tokens = util.dataset_split(balanced_tokens, percent=20)"
   ]
  },
  {
   "cell_type": "code",
   "execution_count": 39,
   "id": "782451e7",
   "metadata": {},
   "outputs": [],
   "source": [
    "train_imbalanced_tokens, test_imbalanced_tokens = util.dataset_split(imbalanced_tokens, percent=20)"
   ]
  },
  {
   "cell_type": "code",
   "execution_count": 40,
   "id": "d2b1f4d3",
   "metadata": {
    "scrolled": true
   },
   "outputs": [
    {
     "data": {
      "text/html": [
       "<div>\n",
       "<style scoped>\n",
       "    .dataframe tbody tr th:only-of-type {\n",
       "        vertical-align: middle;\n",
       "    }\n",
       "\n",
       "    .dataframe tbody tr th {\n",
       "        vertical-align: top;\n",
       "    }\n",
       "\n",
       "    .dataframe thead th {\n",
       "        text-align: right;\n",
       "    }\n",
       "</style>\n",
       "<table border=\"1\" class=\"dataframe\">\n",
       "  <thead>\n",
       "    <tr style=\"text-align: right;\">\n",
       "      <th></th>\n",
       "      <th>id</th>\n",
       "      <th>body</th>\n",
       "      <th>class</th>\n",
       "    </tr>\n",
       "  </thead>\n",
       "  <tbody>\n",
       "    <tr>\n",
       "      <th>2089</th>\n",
       "      <td>6</td>\n",
       "      <td>[urladdress, hi, jose, server, security, hold, 5, incoming, message, email, yet, validate, new, server, upgrade, wish, keep, use, service, kindly, upgarde, ...</td>\n",
       "      <td>True</td>\n",
       "    </tr>\n",
       "  </tbody>\n",
       "</table>\n",
       "</div>"
      ],
      "text/plain": [
       "      id  \\\n",
       "2089   6   \n",
       "\n",
       "                                                                                                                                                                 body  \\\n",
       "2089  [urladdress, hi, jose, server, security, hold, 5, incoming, message, email, yet, validate, new, server, upgrade, wish, keep, use, service, kindly, upgarde, ...   \n",
       "\n",
       "      class  \n",
       "2089   True  "
      ]
     },
     "execution_count": 40,
     "metadata": {},
     "output_type": "execute_result"
    }
   ],
   "source": [
    "train_balanced_tokens[train_balanced_tokens['id'] == 6]"
   ]
  },
  {
   "cell_type": "code",
   "execution_count": 41,
   "id": "f3202506",
   "metadata": {
    "scrolled": true
   },
   "outputs": [
    {
     "data": {
      "text/html": [
       "<div>\n",
       "<style scoped>\n",
       "    .dataframe tbody tr th:only-of-type {\n",
       "        vertical-align: middle;\n",
       "    }\n",
       "\n",
       "    .dataframe tbody tr th {\n",
       "        vertical-align: top;\n",
       "    }\n",
       "\n",
       "    .dataframe thead th {\n",
       "        text-align: right;\n",
       "    }\n",
       "</style>\n",
       "<table border=\"1\" class=\"dataframe\">\n",
       "  <thead>\n",
       "    <tr style=\"text-align: right;\">\n",
       "      <th></th>\n",
       "      <th>id</th>\n",
       "      <th>body</th>\n",
       "      <th>class</th>\n",
       "    </tr>\n",
       "  </thead>\n",
       "  <tbody>\n",
       "    <tr>\n",
       "      <th>278</th>\n",
       "      <td>17</td>\n",
       "      <td>[server, message, dear, emailaddress, record, indicate, recently, make, request, shutdown, e-mail, request, process, shortly, request, make, accidentally, k...</td>\n",
       "      <td>True</td>\n",
       "    </tr>\n",
       "  </tbody>\n",
       "</table>\n",
       "</div>"
      ],
      "text/plain": [
       "     id  \\\n",
       "278  17   \n",
       "\n",
       "                                                                                                                                                                body  \\\n",
       "278  [server, message, dear, emailaddress, record, indicate, recently, make, request, shutdown, e-mail, request, process, shortly, request, make, accidentally, k...   \n",
       "\n",
       "     class  \n",
       "278   True  "
      ]
     },
     "execution_count": 41,
     "metadata": {},
     "output_type": "execute_result"
    }
   ],
   "source": [
    "test_balanced_tokens[test_balanced_tokens['id'] == 17]"
   ]
  },
  {
   "cell_type": "markdown",
   "id": "1bcd7bd6",
   "metadata": {},
   "source": [
    "One of the examples is on the train set while the other is on the test set."
   ]
  },
  {
   "cell_type": "markdown",
   "id": "84c2ad08",
   "metadata": {},
   "source": [
    "### Text"
   ]
  },
  {
   "cell_type": "code",
   "execution_count": 42,
   "id": "f6903a3e",
   "metadata": {},
   "outputs": [],
   "source": [
    "train_balanced_text, test_balanced_text = util.dataset_split(balanced_text, percent=20)"
   ]
  },
  {
   "cell_type": "code",
   "execution_count": 43,
   "id": "3a5b5b98",
   "metadata": {},
   "outputs": [],
   "source": [
    "train_imbalanced_text, test_imbalanced_text = util.dataset_split(imbalanced_text, percent=20)"
   ]
  },
  {
   "cell_type": "markdown",
   "id": "f9d4d588",
   "metadata": {},
   "source": [
    "Confirm that the train and test datasets do not have any different emails:"
   ]
  },
  {
   "cell_type": "code",
   "execution_count": 44,
   "id": "52599477",
   "metadata": {},
   "outputs": [
    {
     "data": {
      "text/plain": [
       "False"
      ]
     },
     "execution_count": 44,
     "metadata": {},
     "output_type": "execute_result"
    }
   ],
   "source": [
    "(train_balanced_text['id'] != train_balanced_tokens['id']).any() and (train_imbalanced_text['id'] != train_imbalanced_tokens['id']).any() and (test_balanced_text['id'] != test_balanced_tokens['id']).any() and (test_imbalanced_text['id'] != test_imbalanced_tokens['id']).any()"
   ]
  },
  {
   "cell_type": "markdown",
   "id": "c6acead1",
   "metadata": {},
   "source": [
    "### Saving the Results"
   ]
  },
  {
   "cell_type": "markdown",
   "id": "1d841ffd",
   "metadata": {},
   "source": [
    "#### Tokens"
   ]
  },
  {
   "cell_type": "code",
   "execution_count": 45,
   "id": "15d3c59b",
   "metadata": {},
   "outputs": [
    {
     "name": "stdout",
     "output_type": "stream",
     "text": [
      "Saving to /home/ichanis/projects/phishing_public/data/csv/train_balanced_tokens.csv\n",
      "Saving to /home/ichanis/projects/phishing_public/data/csv/test_balanced_tokens.csv\n"
     ]
    }
   ],
   "source": [
    "save_to_csv(train_balanced_tokens, csv_path, 'train_balanced_tokens.csv')\n",
    "save_to_csv(test_balanced_tokens, csv_path, 'test_balanced_tokens.csv')"
   ]
  },
  {
   "cell_type": "code",
   "execution_count": 46,
   "id": "6e564015",
   "metadata": {},
   "outputs": [
    {
     "name": "stdout",
     "output_type": "stream",
     "text": [
      "Saving to /home/ichanis/projects/phishing_public/data/csv/train_imbalanced_tokens.csv\n",
      "Saving to /home/ichanis/projects/phishing_public/data/csv/test_imbalanced_tokens.csv\n"
     ]
    }
   ],
   "source": [
    "save_to_csv(train_imbalanced_tokens, csv_path, 'train_imbalanced_tokens.csv')\n",
    "save_to_csv(test_imbalanced_tokens, csv_path, 'test_imbalanced_tokens.csv')"
   ]
  },
  {
   "cell_type": "markdown",
   "id": "89e8c8bb",
   "metadata": {},
   "source": [
    "#### Text"
   ]
  },
  {
   "cell_type": "code",
   "execution_count": 47,
   "id": "c877e846",
   "metadata": {},
   "outputs": [
    {
     "name": "stdout",
     "output_type": "stream",
     "text": [
      "Saving to /home/ichanis/projects/phishing_public/data/csv/train_balanced_text.csv\n",
      "Saving to /home/ichanis/projects/phishing_public/data/csv/test_balanced_text.csv\n"
     ]
    }
   ],
   "source": [
    "save_to_csv(train_balanced_text, csv_path, 'train_balanced_text.csv')\n",
    "save_to_csv(test_balanced_text, csv_path, 'test_balanced_text.csv')"
   ]
  },
  {
   "cell_type": "code",
   "execution_count": 48,
   "id": "60c055ba",
   "metadata": {},
   "outputs": [
    {
     "name": "stdout",
     "output_type": "stream",
     "text": [
      "Saving to /home/ichanis/projects/phishing_public/data/csv/train_imbalanced_text.csv\n",
      "Saving to /home/ichanis/projects/phishing_public/data/csv/test_imbalanced_text.csv\n"
     ]
    }
   ],
   "source": [
    "save_to_csv(train_imbalanced_text, csv_path, 'train_imbalanced_text.csv')\n",
    "save_to_csv(test_imbalanced_text, csv_path, 'test_imbalanced_text.csv')"
   ]
  }
 ],
 "metadata": {
  "kernelspec": {
   "display_name": "Python 3 (ipykernel)",
   "language": "python",
   "name": "python3"
  },
  "language_info": {
   "codemirror_mode": {
    "name": "ipython",
    "version": 3
   },
   "file_extension": ".py",
   "mimetype": "text/x-python",
   "name": "python",
   "nbconvert_exporter": "python",
   "pygments_lexer": "ipython3",
   "version": "3.8.10"
  }
 },
 "nbformat": 4,
 "nbformat_minor": 5
}
