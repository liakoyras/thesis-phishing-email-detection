{
 "cells": [
  {
   "cell_type": "code",
   "execution_count": 1,
   "id": "f8c85fb7",
   "metadata": {},
   "outputs": [],
   "source": [
    "import os\n",
    "import pandas as pd\n",
    "\n",
    "import preprocessing as util"
   ]
  },
  {
   "cell_type": "code",
   "execution_count": 2,
   "id": "733537e5",
   "metadata": {},
   "outputs": [],
   "source": [
    "# Path\n",
    "cwd = os.getcwd()\n",
    "csv_path = os.path.join(cwd, 'data/csv/')\n",
    "\n",
    "data_files = ['dataset_1.csv', 'dataset_2.csv']"
   ]
  },
  {
   "cell_type": "code",
   "execution_count": 3,
   "id": "6a529ed1",
   "metadata": {},
   "outputs": [
    {
     "name": "stdout",
     "output_type": "stream",
     "text": [
      "<class 'pandas.core.frame.DataFrame'>\n",
      "Int64Index: 3440 entries, 0 to 3439\n",
      "Data columns (total 2 columns):\n",
      " #   Column  Non-Null Count  Dtype \n",
      "---  ------  --------------  ----- \n",
      " 0   Body    3440 non-null   object\n",
      " 1   Class   3440 non-null   bool  \n",
      "dtypes: bool(1), object(1)\n",
      "memory usage: 57.1+ KB\n"
     ]
    }
   ],
   "source": [
    "dataset_1 = pd.read_csv(os.path.join(csv_path, data_files[0]), index_col=0, encoding='latin-1', dtype={'Body': 'object', 'Class': 'bool'})\n",
    "dataset_1.info()"
   ]
  },
  {
   "cell_type": "code",
   "execution_count": 4,
   "id": "fe1618d6",
   "metadata": {},
   "outputs": [
    {
     "name": "stdout",
     "output_type": "stream",
     "text": [
      "<class 'pandas.core.frame.DataFrame'>\n",
      "Int64Index: 18920 entries, 0 to 18919\n",
      "Data columns (total 2 columns):\n",
      " #   Column  Non-Null Count  Dtype \n",
      "---  ------  --------------  ----- \n",
      " 0   Body    18920 non-null  object\n",
      " 1   Class   18920 non-null  bool  \n",
      "dtypes: bool(1), object(1)\n",
      "memory usage: 314.1+ KB\n"
     ]
    }
   ],
   "source": [
    "dataset_2 = pd.read_csv(os.path.join(csv_path, data_files[1]), index_col=0, encoding='latin-1', dtype={'Body': 'object', 'Class': 'bool'})\n",
    "dataset_2.info()"
   ]
  },
  {
   "cell_type": "markdown",
   "id": "94e41312",
   "metadata": {},
   "source": [
    "## Preprocessing"
   ]
  },
  {
   "cell_type": "markdown",
   "id": "e77955b7",
   "metadata": {},
   "source": [
    "We need to convert the text data into a format more suitable for use with machine learning algorithms.<br>\n",
    "The process will follow the steps below:"
   ]
  },
  {
   "cell_type": "markdown",
   "id": "337c6134",
   "metadata": {},
   "source": [
    "### 1. Cleanup HTML and whitespace"
   ]
  },
  {
   "cell_type": "markdown",
   "id": "71ab5a30",
   "metadata": {},
   "source": [
    "A percentage of the emails extracted are either in HTML format or they have the same message in both plaintext and HTML, as part of a `multipart/alternative` content-type message.<br>\n",
    "In order to extract the text, the HTML formatting has to be removed, along with unnecessary whitespace any duplicated text created by the aforementioned multipart emails."
   ]
  },
  {
   "cell_type": "code",
   "execution_count": 5,
   "id": "47959ac8",
   "metadata": {},
   "outputs": [],
   "source": [
    "dataset_1['Body'] = util.strip_characters(dataset_1['Body'])\n",
    "dataset_1['Body'] = dataset_1['Body'].apply(util.deduplicate_text)"
   ]
  },
  {
   "cell_type": "code",
   "execution_count": 6,
   "id": "5eb2b127",
   "metadata": {},
   "outputs": [],
   "source": [
    "dataset_2['Body'] = util.strip_characters(dataset_2['Body'])\n",
    "dataset_2['Body'] = dataset_2['Body'].apply(util.deduplicate_text)"
   ]
  }
 ],
 "metadata": {
  "kernelspec": {
   "display_name": "Python 3 (ipykernel)",
   "language": "python",
   "name": "python3"
  },
  "language_info": {
   "codemirror_mode": {
    "name": "ipython",
    "version": 3
   },
   "file_extension": ".py",
   "mimetype": "text/x-python",
   "name": "python",
   "nbconvert_exporter": "python",
   "pygments_lexer": "ipython3",
   "version": "3.8.10"
  }
 },
 "nbformat": 4,
 "nbformat_minor": 5
}
