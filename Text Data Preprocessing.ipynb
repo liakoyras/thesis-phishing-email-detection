{
 "cells": [
  {
   "cell_type": "code",
   "execution_count": 1,
   "id": "58b3da25",
   "metadata": {},
   "outputs": [],
   "source": [
    "import os\n",
    "import pandas as pd\n",
    "pd.options.display.max_colwidth = 160\n",
    "\n",
    "import preprocessing as util\n",
    "from raw_utils import save_to_csv"
   ]
  },
  {
   "cell_type": "code",
   "execution_count": 2,
   "id": "bb049d94",
   "metadata": {},
   "outputs": [],
   "source": [
    "# Path\n",
    "cwd = os.getcwd()\n",
    "csv_path = os.path.join(cwd, 'data/csv/')\n",
    "\n",
    "data_files = ['balanced.csv', 'imbalanced.csv']"
   ]
  },
  {
   "cell_type": "code",
   "execution_count": 3,
   "id": "978ee912",
   "metadata": {
    "scrolled": true
   },
   "outputs": [
    {
     "name": "stdout",
     "output_type": "stream",
     "text": [
      "<class 'pandas.core.frame.DataFrame'>\n",
      "Int64Index: 3100 entries, 0 to 3099\n",
      "Data columns (total 3 columns):\n",
      " #   Column  Non-Null Count  Dtype \n",
      "---  ------  --------------  ----- \n",
      " 0   id      3100 non-null   int16 \n",
      " 1   body    3100 non-null   object\n",
      " 2   class   3100 non-null   bool  \n",
      "dtypes: bool(1), int16(1), object(1)\n",
      "memory usage: 57.5+ KB\n"
     ]
    }
   ],
   "source": [
    "balanced = pd.read_csv(os.path.join(csv_path, data_files[0]), index_col=0, dtype={'body': 'object', 'class': 'bool', 'id': 'int16'})\n",
    "balanced.info()"
   ]
  },
  {
   "cell_type": "code",
   "execution_count": 4,
   "id": "04b1c78e",
   "metadata": {
    "scrolled": true
   },
   "outputs": [
    {
     "name": "stdout",
     "output_type": "stream",
     "text": [
      "<class 'pandas.core.frame.DataFrame'>\n",
      "Int64Index: 17050 entries, 0 to 17049\n",
      "Data columns (total 3 columns):\n",
      " #   Column  Non-Null Count  Dtype \n",
      "---  ------  --------------  ----- \n",
      " 0   id      17050 non-null  int16 \n",
      " 1   body    17050 non-null  object\n",
      " 2   class   17050 non-null  bool  \n",
      "dtypes: bool(1), int16(1), object(1)\n",
      "memory usage: 316.4+ KB\n"
     ]
    }
   ],
   "source": [
    "imbalanced = pd.read_csv(os.path.join(csv_path, data_files[1]), index_col=0, dtype={'body': 'object', 'class': 'bool', 'id': 'int16'})\n",
    "imbalanced.info()"
   ]
  },
  {
   "cell_type": "markdown",
   "id": "86972269",
   "metadata": {},
   "source": [
    "### Initial Data"
   ]
  },
  {
   "cell_type": "markdown",
   "id": "9d86f2e8",
   "metadata": {},
   "source": [
    "This is the initial state of the data, along with some representative examples of phishing and legitimate emails."
   ]
  },
  {
   "cell_type": "code",
   "execution_count": 5,
   "id": "1c01d25d",
   "metadata": {
    "scrolled": true
   },
   "outputs": [
    {
     "data": {
      "text/html": [
       "<div>\n",
       "<style scoped>\n",
       "    .dataframe tbody tr th:only-of-type {\n",
       "        vertical-align: middle;\n",
       "    }\n",
       "\n",
       "    .dataframe tbody tr th {\n",
       "        vertical-align: top;\n",
       "    }\n",
       "\n",
       "    .dataframe thead th {\n",
       "        text-align: right;\n",
       "    }\n",
       "</style>\n",
       "<table border=\"1\" class=\"dataframe\">\n",
       "  <thead>\n",
       "    <tr style=\"text-align: right;\">\n",
       "      <th></th>\n",
       "      <th>id</th>\n",
       "      <th>body</th>\n",
       "      <th>class</th>\n",
       "    </tr>\n",
       "  </thead>\n",
       "  <tbody>\n",
       "    <tr>\n",
       "      <th>0</th>\n",
       "      <td>0</td>\n",
       "      <td>Your message\\n\\n  To:      OMeara, Dina; Edmiston, John; Gas Daily (E-mail); Iferc1\\n(E-mail); Iferc2 (E-mail); NGI (E-mail)\\n  Sent:    Fri, 19 Oct 2001 15...</td>\n",
       "      <td>False</td>\n",
       "    </tr>\n",
       "    <tr>\n",
       "      <th>1</th>\n",
       "      <td>1</td>\n",
       "      <td>\\n   Note: This is a service message with information related to your Chase account(s). It may include specific details about transactions, products or o...</td>\n",
       "      <td>True</td>\n",
       "    </tr>\n",
       "    <tr>\n",
       "      <th>2</th>\n",
       "      <td>2</td>\n",
       "      <td>\\n\\n \\t  \\n \\n  \\n \\n  Server Message  \\n \\n  \\n\\n \\n   Dear jose@monkey.org    Our record indicates that you recently made a request to deactivate email A...</td>\n",
       "      <td>True</td>\n",
       "    </tr>\n",
       "    <tr>\n",
       "      <th>3</th>\n",
       "      <td>3</td>\n",
       "      <td>Absa’s ChatBanking on WhatsApp is now fully available to SA customers\\nTo\\nWhom\\nIt\\nMay\\nConcern:\\nPlease find attached a copy of your payment notification...</td>\n",
       "      <td>True</td>\n",
       "    </tr>\n",
       "    <tr>\n",
       "      <th>4</th>\n",
       "      <td>4</td>\n",
       "      <td>Your Microsoft Outlook Password will expire today. You are to click on this link http://site9423341.92.webydo.com/?v=1  immediately and fill the form correc...</td>\n",
       "      <td>True</td>\n",
       "    </tr>\n",
       "    <tr>\n",
       "      <th>5</th>\n",
       "      <td>5</td>\n",
       "      <td>\\n\\nx\\n\\neWebmailAlert#\\n\\n\\n Take note of this important update that our new web mail has been improved with a new messaging system for outlook which also ...</td>\n",
       "      <td>True</td>\n",
       "    </tr>\n",
       "    <tr>\n",
       "      <th>6</th>\n",
       "      <td>6</td>\n",
       "      <td>Hi Jose\\n\\nWe discovered unusual activities on your account.\\n\\nTo be better protected against virus and spywares.\\n\\nYou need enroll for our new security f...</td>\n",
       "      <td>True</td>\n",
       "    </tr>\n",
       "    <tr>\n",
       "      <th>7</th>\n",
       "      <td>7</td>\n",
       "      <td>Dear folks,\\n\\nApril 17 sounds OK to me.  Just wondering so I can make arrangements: How long should I plan to be in town?  Is the class for just one day? A...</td>\n",
       "      <td>False</td>\n",
       "    </tr>\n",
       "    <tr>\n",
       "      <th>8</th>\n",
       "      <td>8</td>\n",
       "      <td>Dear\\njose\\n,\\nDomain Admin provider\\n(SQL)\\nhave sent you several notice.\\nsetup our latest security or\\nYou will be deactivated from using this service.\\n...</td>\n",
       "      <td>True</td>\n",
       "    </tr>\n",
       "    <tr>\n",
       "      <th>9</th>\n",
       "      <td>9</td>\n",
       "      <td>Account\\nVerification\\nRequired\\nDear jose\\nOn 9th December monkey.org record indicates\\njose@monkey.org\\nis not yet verified in our system and this will ab...</td>\n",
       "      <td>True</td>\n",
       "    </tr>\n",
       "  </tbody>\n",
       "</table>\n",
       "</div>"
      ],
      "text/plain": [
       "   id  \\\n",
       "0   0   \n",
       "1   1   \n",
       "2   2   \n",
       "3   3   \n",
       "4   4   \n",
       "5   5   \n",
       "6   6   \n",
       "7   7   \n",
       "8   8   \n",
       "9   9   \n",
       "\n",
       "                                                                                                                                                              body  \\\n",
       "0  Your message\\n\\n  To:      OMeara, Dina; Edmiston, John; Gas Daily (E-mail); Iferc1\\n(E-mail); Iferc2 (E-mail); NGI (E-mail)\\n  Sent:    Fri, 19 Oct 2001 15...   \n",
       "1     \\n   Note: This is a service message with information related to your Chase account(s). It may include specific details about transactions, products or o...   \n",
       "2   \\n\\n \\t  \\n \\n  \\n \\n  Server Message  \\n \\n  \\n\\n \\n   Dear jose@monkey.org    Our record indicates that you recently made a request to deactivate email A...   \n",
       "3  Absa’s ChatBanking on WhatsApp is now fully available to SA customers\\nTo\\nWhom\\nIt\\nMay\\nConcern:\\nPlease find attached a copy of your payment notification...   \n",
       "4  Your Microsoft Outlook Password will expire today. You are to click on this link http://site9423341.92.webydo.com/?v=1  immediately and fill the form correc...   \n",
       "5  \\n\\nx\\n\\neWebmailAlert#\\n\\n\\n Take note of this important update that our new web mail has been improved with a new messaging system for outlook which also ...   \n",
       "6  Hi Jose\\n\\nWe discovered unusual activities on your account.\\n\\nTo be better protected against virus and spywares.\\n\\nYou need enroll for our new security f...   \n",
       "7  Dear folks,\\n\\nApril 17 sounds OK to me.  Just wondering so I can make arrangements: How long should I plan to be in town?  Is the class for just one day? A...   \n",
       "8  Dear\\njose\\n,\\nDomain Admin provider\\n(SQL)\\nhave sent you several notice.\\nsetup our latest security or\\nYou will be deactivated from using this service.\\n...   \n",
       "9  Account\\nVerification\\nRequired\\nDear jose\\nOn 9th December monkey.org record indicates\\njose@monkey.org\\nis not yet verified in our system and this will ab...   \n",
       "\n",
       "   class  \n",
       "0  False  \n",
       "1   True  \n",
       "2   True  \n",
       "3   True  \n",
       "4   True  \n",
       "5   True  \n",
       "6   True  \n",
       "7  False  \n",
       "8   True  \n",
       "9   True  "
      ]
     },
     "execution_count": 5,
     "metadata": {},
     "output_type": "execute_result"
    }
   ],
   "source": [
    "balanced.head(10)"
   ]
  },
  {
   "cell_type": "markdown",
   "id": "98dd724c",
   "metadata": {},
   "source": [
    "#### Legitimate emails:"
   ]
  },
  {
   "cell_type": "code",
   "execution_count": 6,
   "id": "26dc49a8",
   "metadata": {
    "scrolled": false
   },
   "outputs": [
    {
     "name": "stdout",
     "output_type": "stream",
     "text": [
      "Shubh,\n",
      "\n",
      "How are you doing through all of the uncertainty associated with DPC these days? Are we still waiting for the lenders to decide whether or not they will continue funding the project? What is the MSEB's current position?\n",
      "\n",
      "I'll give you a call Wednesday morning (Mumbai time).\n",
      "\n",
      "Best Regards,\n",
      "\n",
      "Paul\n",
      "\n"
     ]
    }
   ],
   "source": [
    "print(balanced['body'].iloc[12])"
   ]
  },
  {
   "cell_type": "code",
   "execution_count": 7,
   "id": "818eab21",
   "metadata": {},
   "outputs": [
    {
     "name": "stdout",
     "output_type": "stream",
     "text": [
      "\n",
      "Are you Ready2Go ?\n",
      "Have you ever experienced problems accessing the network remotely when traveling on business or when trying to work from home on your laptop?  Would you like someone to test and customize the dial-up access on your laptop before you head out of town on your next trip? \n",
      "\n",
      "We have identified a need and are now supplying a new service for Enron Wholesale Services and EBS employee's...\n",
      "\n",
      "\tIt's just for you and it's called Ready2Go !\n",
      "\n",
      "This new service has been established to test, modify, and update the dial-up software on your laptop.\n",
      "\n",
      "How it works:\n",
      "A calendar has been created on ITCentral at <http://itcentral.enron.com/Data/Services/Ready2Go>\n",
      "You can go to the site and schedule a time that is convenient for you. Then, you will need to bring your laptop to our testing site, (either at 3AC1631D or EB2249B).  We will examine your system, update your software (if needed) and even customize it for the next location you will be traveling to.  We'll also provide a brief training session in accessing the network remotely with your laptop.\n",
      "\n",
      "If you are interested in participating, simply access the web site and schedule an appointment.\n",
      "\n",
      "Thank you for your time.\n",
      "\n",
      "  \n",
      "\n"
     ]
    }
   ],
   "source": [
    "print(balanced['body'].iloc[18])"
   ]
  },
  {
   "cell_type": "markdown",
   "id": "e8e7b672",
   "metadata": {},
   "source": [
    "#### Phishing Emails:"
   ]
  },
  {
   "cell_type": "code",
   "execution_count": 8,
   "id": "213a794d",
   "metadata": {},
   "outputs": [
    {
     "name": "stdout",
     "output_type": "stream",
     "text": [
      " \n",
      "\n",
      " \t  \n",
      " \n",
      "  \n",
      " \n",
      "  Server Message  \n",
      " \n",
      "  \n",
      "\n",
      " \n",
      "   Dear jose@monkey.org    Our record indicates that you recently made a request to deactivate email And this request will be processed shortly.  If this request was made accidentally or you have no knowledge of it, you are advised to cancel the request now  \n",
      " \n",
      " \n",
      "  \n",
      "    Cancel De-activation    \n",
      " \n",
      " \n",
      "  \n",
      "  However, if you do not cancel this request, the deactivation will be effected \n",
      " and all email data be lost permanently.  Regards.\n",
      " Email Administrator  \n",
      " \n",
      " \n",
      "  \n",
      " \n",
      " \n",
      " \n",
      "  \n",
      "  This message is auto-generated from E-mail security server, and replies sent to this email can not be delivered. \n",
      " This email is meant for: jose@monkey.org  \n",
      " \n",
      " \n",
      "  \n",
      " \t \t \n",
      " \n"
     ]
    }
   ],
   "source": [
    "print(balanced['body'].iloc[2])"
   ]
  },
  {
   "cell_type": "code",
   "execution_count": 9,
   "id": "b3c7cc6c",
   "metadata": {
    "scrolled": true
   },
   "outputs": [
    {
     "name": "stdout",
     "output_type": "stream",
     "text": [
      "Your e-mailbox password will expire in 2 days. to keep your password. CLICK=HERE<http://owaogr.tripod.com/> to update immediately\n",
      "\n",
      "IT-Service Help Desk.\n",
      "\n",
      "Your e-mailbox password will expire in 2 days. to keep your password.\n",
      "CLICK=HERE\n",
      "to update immediately\n",
      "IT-Service\n",
      "Help Desk\n",
      ".\n"
     ]
    }
   ],
   "source": [
    "print(balanced['body'].iloc[19])"
   ]
  },
  {
   "cell_type": "markdown",
   "id": "9b83b06b",
   "metadata": {},
   "source": [
    "Some observations:\n",
    "- There is a lot of extra whitespace that can be sanitized later.\n",
    "- There still exist some emails with duplicated text (this example was because the source url from the html was inside the `<a>` tag and not part of the text that was extracted).\n",
    "- Emails and URLs can give away the class of the message (domain enron.com vs domain monkey.org), so removing them should make the model more general."
   ]
  },
  {
   "cell_type": "markdown",
   "id": "9b2da53c",
   "metadata": {},
   "source": [
    "# Preprocessing"
   ]
  },
  {
   "cell_type": "markdown",
   "id": "d218e994",
   "metadata": {},
   "source": [
    "We need to convert the text data into a format more suitable for use with machine learning algorithms.<br>\n",
    "Since we aim for two different feature sets, the process will be split."
   ]
  },
  {
   "cell_type": "markdown",
   "id": "4d150cfb",
   "metadata": {},
   "source": [
    "## Basic Preprocessing"
   ]
  },
  {
   "cell_type": "markdown",
   "id": "b4ec2d8f",
   "metadata": {},
   "source": [
    "These processeses should happen to all the feature sets."
   ]
  },
  {
   "cell_type": "markdown",
   "id": "a077db38",
   "metadata": {},
   "source": [
    "### Replacing addresses"
   ]
  },
  {
   "cell_type": "markdown",
   "id": "08ee0a83",
   "metadata": {},
   "source": [
    "As is obvious from the examples, a lot of the emails contain either **web addresses** (URLs) or **email addresses** that need to be removed in order for the frequency of certain domains to not influence the results.<br>\n",
    "In order for this information to not get completely lost however, those addresses will be replaced by the strings `'<urladdress>'` and `'<emailaddress>'` respectively. Those strings are chosen because they do not occur normally in the emails."
   ]
  },
  {
   "cell_type": "code",
   "execution_count": 10,
   "id": "aa39079c",
   "metadata": {},
   "outputs": [],
   "source": [
    "balanced['body'] = balanced['body'].apply(util.replace_email)\n",
    "balanced['body'] = balanced['body'].apply(util.replace_url)"
   ]
  },
  {
   "cell_type": "code",
   "execution_count": 11,
   "id": "dcb46d0f",
   "metadata": {},
   "outputs": [],
   "source": [
    "imbalanced['body'] = imbalanced['body'].apply(util.replace_email)\n",
    "imbalanced['body'] = imbalanced['body'].apply(util.replace_url)"
   ]
  },
  {
   "cell_type": "code",
   "execution_count": 12,
   "id": "2d4bf12a",
   "metadata": {},
   "outputs": [
    {
     "name": "stdout",
     "output_type": "stream",
     "text": [
      " \n",
      "\n",
      " \t  \n",
      " \n",
      "  \n",
      " \n",
      "  Server Message  \n",
      " \n",
      "  \n",
      "\n",
      " \n",
      "   Dear <emailaddress>    Our record indicates that you recently made a request to deactivate email And this request will be processed shortly.  If this request was made accidentally or you have no knowledge of it, you are advised to cancel the request now  \n",
      " \n",
      " \n",
      "  \n",
      "    Cancel De-activation    \n",
      " \n",
      " \n",
      "  \n",
      "  However, if you do not cancel this request, the deactivation will be effected \n",
      " and all email data be lost permanently.  Regards.\n",
      " Email Administrator  \n",
      " \n",
      " \n",
      "  \n",
      " \n",
      " \n",
      " \n",
      "  \n",
      "  This message is auto-generated from E-mail security server, and replies sent to this email can not be delivered. \n",
      " This email is meant for: <emailaddress>  \n",
      " \n",
      " \n",
      "  \n",
      " \t \t \n",
      " \n"
     ]
    }
   ],
   "source": [
    "print(balanced['body'].iloc[2])"
   ]
  },
  {
   "cell_type": "code",
   "execution_count": 13,
   "id": "1bc5e011",
   "metadata": {},
   "outputs": [
    {
     "name": "stdout",
     "output_type": "stream",
     "text": [
      "Your e-mailbox password will expire in 2 days. to keep your password. CLICK=HERE<<urladdress>> to update immediately\n",
      "\n",
      "IT-Service Help Desk.\n",
      "\n",
      "Your e-mailbox password will expire in 2 days. to keep your password.\n",
      "CLICK=HERE\n",
      "to update immediately\n",
      "IT-Service\n",
      "Help Desk\n",
      ".\n"
     ]
    }
   ],
   "source": [
    "print(balanced['body'].iloc[19])"
   ]
  },
  {
   "cell_type": "markdown",
   "id": "69ae4906",
   "metadata": {},
   "source": [
    "The examples show that the URLs and email addresses have indeed been anonymized now."
   ]
  },
  {
   "cell_type": "markdown",
   "id": "35f4eab8",
   "metadata": {},
   "source": [
    "## Preprocessing for content features"
   ]
  },
  {
   "cell_type": "markdown",
   "id": "f7380f67",
   "metadata": {},
   "source": [
    "This preprocessing is necessary in order to convert the text strings to lists of words, that will be vectorized in order to be used by machine learning algorithms."
   ]
  },
  {
   "cell_type": "markdown",
   "id": "b8eaa3ce",
   "metadata": {},
   "source": [
    "### Tokenization and stopword removal"
   ]
  },
  {
   "cell_type": "markdown",
   "id": "af826c32",
   "metadata": {},
   "source": [
    "Tokenization is the process of splitting text into individual words. This is useful because generally speaking, the meaning of the text can easily be interpreted by analyzing the words present in the text.<br>\n",
    "Along with this process, letters are also converted to lowercase and punctuation or other special characters are removed.<br>\n",
    "Since there are some words (called **stopwords**) that do not contribute very much in meaning (like pronouns or simple verbs), they can be removed to reduce the noise."
   ]
  },
  {
   "cell_type": "code",
   "execution_count": 14,
   "id": "9e82c0e5",
   "metadata": {},
   "outputs": [],
   "source": [
    "balanced['body'] = balanced['body'].apply(util.tokenize)\n",
    "balanced['body'] = balanced['body'].apply(util.remove_stopwords)"
   ]
  },
  {
   "cell_type": "code",
   "execution_count": 15,
   "id": "ab3feb81",
   "metadata": {},
   "outputs": [],
   "source": [
    "imbalanced['body'] = imbalanced['body'].apply(util.tokenize)\n",
    "imbalanced['body'] = imbalanced['body'].apply(util.remove_stopwords)"
   ]
  },
  {
   "cell_type": "code",
   "execution_count": 16,
   "id": "c820ce6c",
   "metadata": {},
   "outputs": [
    {
     "name": "stdout",
     "output_type": "stream",
     "text": [
      "['ready2go', 'ever', 'experienced', 'problems', 'accessing', 'network', 'remotely', 'traveling', 'business', 'trying', 'work', 'home', 'laptop', 'would', 'like', 'someone', 'test', 'customize', 'dial-up', 'access', 'laptop', 'head', 'town', 'next', 'trip', 'identified', 'need', 'supplying', 'new', 'service', 'enron', 'wholesale', 'services', 'ebs', 'employee', 'called', 'ready2go', 'new', 'service', 'established', 'test', 'modify', 'update', 'dial-up', 'software', 'laptop', 'works', 'calendar', 'created', 'itcentral', 'urladdress', 'go', 'site', 'schedule', 'time', 'convenient', 'need', 'bring', 'laptop', 'testing', 'site', 'either', '3ac1631d', 'eb2249b', 'examine', 'system', 'update', 'software', 'needed', 'even', 'customize', 'next', 'location', 'traveling', 'also', 'provide', 'brief', 'training', 'session', 'accessing', 'network', 'remotely', 'laptop', 'interested', 'participating', 'simply', 'access', 'web', 'site', 'schedule', 'appointment', 'thank', 'time']\n"
     ]
    }
   ],
   "source": [
    "print(balanced['body'].iloc[18])"
   ]
  },
  {
   "cell_type": "code",
   "execution_count": 17,
   "id": "7ca5af98",
   "metadata": {},
   "outputs": [
    {
     "name": "stdout",
     "output_type": "stream",
     "text": [
      "['e-mailbox', 'password', 'expire', '2', 'days', 'keep', 'password', 'urladdress', 'update', 'immediately', 'it-service', 'help', 'desk', 'e-mailbox', 'password', 'expire', '2', 'days', 'keep', 'password', 'update', 'immediately', 'it-service', 'help', 'desk']\n"
     ]
    }
   ],
   "source": [
    "print(balanced['body'].iloc[19])"
   ]
  },
  {
   "cell_type": "markdown",
   "id": "2ceb8fa7",
   "metadata": {},
   "source": [
    "The example shows how a quite big chunk of text was reduced to a smaller list that contains the more meaningful words. The addresses still exist as tokens ('urladdress').<br>\n",
    "Also, the emails with duplicate emails obviously will have duplicate tokens, this however is not a big issue with most vectorizers."
   ]
  },
  {
   "cell_type": "markdown",
   "id": "7990fbe3",
   "metadata": {},
   "source": [
    "### Lemmatization with POS tagging"
   ]
  },
  {
   "cell_type": "markdown",
   "id": "5bfef13a",
   "metadata": {},
   "source": [
    "Lemmatization is the process that reduces the inflectional forms of a word to keep its root form. This is useful because the set of words that results from this process is smaller because all the inflections of a word are converted to one, thus reducing the dimensionality without sacrificing information.<br>\n",
    "In order to facilitate and improve the lemmatization, the **part-of-speech tagging** technique has been used. The POS of the word (which indicates whether a word is a noun, a verb, an adjective, or an adverb) is used as a part of the process."
   ]
  },
  {
   "cell_type": "code",
   "execution_count": 18,
   "id": "2c57d251",
   "metadata": {},
   "outputs": [],
   "source": [
    "balanced['body'] = balanced['body'].apply(util.lemmatize)"
   ]
  },
  {
   "cell_type": "code",
   "execution_count": 19,
   "id": "9614d4f3",
   "metadata": {
    "scrolled": true
   },
   "outputs": [],
   "source": [
    "imbalanced['body'] = imbalanced['body'].apply(util.lemmatize)"
   ]
  },
  {
   "cell_type": "code",
   "execution_count": 20,
   "id": "266439a9",
   "metadata": {},
   "outputs": [
    {
     "name": "stdout",
     "output_type": "stream",
     "text": [
      "['ready2go', 'ever', 'experience', 'problem', 'access', 'network', 'remotely', 'travel', 'business', 'try', 'work', 'home', 'laptop', 'would', 'like', 'someone', 'test', 'customize', 'dial-up', 'access', 'laptop', 'head', 'town', 'next', 'trip', 'identify', 'need', 'supply', 'new', 'service', 'enron', 'wholesale', 'service', 'ebs', 'employee', 'call', 'ready2go', 'new', 'service', 'establish', 'test', 'modify', 'update', 'dial-up', 'software', 'laptop', 'work', 'calendar', 'create', 'itcentral', 'urladdress', 'go', 'site', 'schedule', 'time', 'convenient', 'need', 'bring', 'laptop', 'test', 'site', 'either', '3ac1631d', 'eb2249b', 'examine', 'system', 'update', 'software', 'need', 'even', 'customize', 'next', 'location', 'travel', 'also', 'provide', 'brief', 'training', 'session', 'access', 'network', 'remotely', 'laptop', 'interested', 'participate', 'simply', 'access', 'web', 'site', 'schedule', 'appointment', 'thank', 'time']\n"
     ]
    }
   ],
   "source": [
    "print(balanced['body'].iloc[18])"
   ]
  },
  {
   "cell_type": "markdown",
   "id": "f4126b97",
   "metadata": {},
   "source": [
    "The example shows how the lemmatization process has worked: words like 'trying' have been converted to their root form 'try'.<br>\n",
    "In addition, it also shows the working of the POS tagging process, since the 'training' near the end has remained the same as it is used as an noun and not a verb (in that case, 'trainings' would have become 'training')."
   ]
  },
  {
   "cell_type": "markdown",
   "id": "fa36d41d",
   "metadata": {},
   "source": [
    "### Deleting Empty Rows"
   ]
  },
  {
   "cell_type": "markdown",
   "id": "97905672",
   "metadata": {},
   "source": [
    "After all the preprocessing, it is possible that some of the emails are now empty (because they did not contain any useful words from the beginning).<br>\n",
    "So, these have to be removed to keep the data clean."
   ]
  },
  {
   "cell_type": "code",
   "execution_count": 21,
   "id": "e23a248a",
   "metadata": {},
   "outputs": [],
   "source": [
    "balanced = balanced[balanced['body'].astype(bool)]"
   ]
  },
  {
   "cell_type": "code",
   "execution_count": 22,
   "id": "eead276f",
   "metadata": {},
   "outputs": [],
   "source": [
    "imbalanced = imbalanced[imbalanced['body'].astype(bool)]"
   ]
  },
  {
   "cell_type": "markdown",
   "id": "d3995df5",
   "metadata": {},
   "source": [
    "## Train-Test Split"
   ]
  },
  {
   "cell_type": "markdown",
   "id": "171b751f",
   "metadata": {},
   "source": [
    "In order to evaluate the classification process, only 80% of the data will be used to train the models. The remaining 20%, which will be unknown to the algorithms, will be used to test the performance of the classifiers on unknown data."
   ]
  },
  {
   "cell_type": "markdown",
   "id": "a35232cc",
   "metadata": {},
   "source": [
    "### Text Features"
   ]
  },
  {
   "cell_type": "code",
   "execution_count": 23,
   "id": "3bff283a",
   "metadata": {},
   "outputs": [],
   "source": [
    "train_balanced_tokens, test_balanced_tokens = util.dataset_split(balanced, percent=20)"
   ]
  },
  {
   "cell_type": "code",
   "execution_count": 24,
   "id": "782451e7",
   "metadata": {},
   "outputs": [],
   "source": [
    "train_imbalanced_tokens, test_imbalanced_tokens = util.dataset_split(imbalanced, percent=20)"
   ]
  },
  {
   "cell_type": "code",
   "execution_count": 25,
   "id": "d2b1f4d3",
   "metadata": {
    "scrolled": true
   },
   "outputs": [
    {
     "data": {
      "text/html": [
       "<div>\n",
       "<style scoped>\n",
       "    .dataframe tbody tr th:only-of-type {\n",
       "        vertical-align: middle;\n",
       "    }\n",
       "\n",
       "    .dataframe tbody tr th {\n",
       "        vertical-align: top;\n",
       "    }\n",
       "\n",
       "    .dataframe thead th {\n",
       "        text-align: right;\n",
       "    }\n",
       "</style>\n",
       "<table border=\"1\" class=\"dataframe\">\n",
       "  <thead>\n",
       "    <tr style=\"text-align: right;\">\n",
       "      <th></th>\n",
       "      <th>id</th>\n",
       "      <th>body</th>\n",
       "      <th>class</th>\n",
       "    </tr>\n",
       "  </thead>\n",
       "  <tbody>\n",
       "    <tr>\n",
       "      <th>1442</th>\n",
       "      <td>19</td>\n",
       "      <td>[e-mailbox, password, expire, 2, day, keep, password, urladdress, update, immediately, it-service, help, desk, e-mailbox, password, expire, 2, day, keep, pa...</td>\n",
       "      <td>True</td>\n",
       "    </tr>\n",
       "  </tbody>\n",
       "</table>\n",
       "</div>"
      ],
      "text/plain": [
       "      id  \\\n",
       "1442  19   \n",
       "\n",
       "                                                                                                                                                                 body  \\\n",
       "1442  [e-mailbox, password, expire, 2, day, keep, password, urladdress, update, immediately, it-service, help, desk, e-mailbox, password, expire, 2, day, keep, pa...   \n",
       "\n",
       "      class  \n",
       "1442   True  "
      ]
     },
     "execution_count": 25,
     "metadata": {},
     "output_type": "execute_result"
    }
   ],
   "source": [
    "train_balanced_tokens[train_balanced_tokens['id'] == 19]"
   ]
  },
  {
   "cell_type": "code",
   "execution_count": 26,
   "id": "f3202506",
   "metadata": {
    "scrolled": false
   },
   "outputs": [
    {
     "data": {
      "text/html": [
       "<div>\n",
       "<style scoped>\n",
       "    .dataframe tbody tr th:only-of-type {\n",
       "        vertical-align: middle;\n",
       "    }\n",
       "\n",
       "    .dataframe tbody tr th {\n",
       "        vertical-align: top;\n",
       "    }\n",
       "\n",
       "    .dataframe thead th {\n",
       "        text-align: right;\n",
       "    }\n",
       "</style>\n",
       "<table border=\"1\" class=\"dataframe\">\n",
       "  <thead>\n",
       "    <tr style=\"text-align: right;\">\n",
       "      <th></th>\n",
       "      <th>id</th>\n",
       "      <th>body</th>\n",
       "      <th>class</th>\n",
       "    </tr>\n",
       "  </thead>\n",
       "  <tbody>\n",
       "    <tr>\n",
       "      <th>540</th>\n",
       "      <td>18</td>\n",
       "      <td>[ready2go, ever, experience, problem, access, network, remotely, travel, business, try, work, home, laptop, would, like, someone, test, customize, dial-up, ...</td>\n",
       "      <td>False</td>\n",
       "    </tr>\n",
       "  </tbody>\n",
       "</table>\n",
       "</div>"
      ],
      "text/plain": [
       "     id  \\\n",
       "540  18   \n",
       "\n",
       "                                                                                                                                                                body  \\\n",
       "540  [ready2go, ever, experience, problem, access, network, remotely, travel, business, try, work, home, laptop, would, like, someone, test, customize, dial-up, ...   \n",
       "\n",
       "     class  \n",
       "540  False  "
      ]
     },
     "execution_count": 26,
     "metadata": {},
     "output_type": "execute_result"
    }
   ],
   "source": [
    "test_balanced_tokens[test_balanced_tokens['id'] == 18]"
   ]
  },
  {
   "cell_type": "markdown",
   "id": "1bcd7bd6",
   "metadata": {},
   "source": [
    "One of the examples is on the train set while the other is on the test set."
   ]
  },
  {
   "cell_type": "markdown",
   "id": "c6acead1",
   "metadata": {},
   "source": [
    "### Saving the Results"
   ]
  },
  {
   "cell_type": "markdown",
   "id": "1d841ffd",
   "metadata": {},
   "source": [
    "#### Text Features"
   ]
  },
  {
   "cell_type": "code",
   "execution_count": 27,
   "id": "15d3c59b",
   "metadata": {},
   "outputs": [
    {
     "name": "stdout",
     "output_type": "stream",
     "text": [
      "Saving to /home/ichanis/projects/phishing_public/data/csv/train_balanced_tokens.csv\n",
      "Saving to /home/ichanis/projects/phishing_public/data/csv/test_balanced_tokens.csv\n"
     ]
    }
   ],
   "source": [
    "save_to_csv(train_balanced_tokens, csv_path, 'train_balanced_tokens.csv')\n",
    "save_to_csv(test_balanced_tokens, csv_path, 'test_balanced_tokens.csv')"
   ]
  },
  {
   "cell_type": "code",
   "execution_count": 28,
   "id": "6e564015",
   "metadata": {},
   "outputs": [
    {
     "name": "stdout",
     "output_type": "stream",
     "text": [
      "Saving to /home/ichanis/projects/phishing_public/data/csv/train_imbalanced_tokens.csv\n",
      "Saving to /home/ichanis/projects/phishing_public/data/csv/test_imbalanced_tokens.csv\n"
     ]
    }
   ],
   "source": [
    "save_to_csv(train_imbalanced_tokens, csv_path, 'train_imbalanced_tokens.csv')\n",
    "save_to_csv(test_imbalanced_tokens, csv_path, 'test_imbalanced_tokens.csv')"
   ]
  }
 ],
 "metadata": {
  "kernelspec": {
   "display_name": "Python 3 (ipykernel)",
   "language": "python",
   "name": "python3"
  },
  "language_info": {
   "codemirror_mode": {
    "name": "ipython",
    "version": 3
   },
   "file_extension": ".py",
   "mimetype": "text/x-python",
   "name": "python",
   "nbconvert_exporter": "python",
   "pygments_lexer": "ipython3",
   "version": "3.8.10"
  }
 },
 "nbformat": 4,
 "nbformat_minor": 5
}
