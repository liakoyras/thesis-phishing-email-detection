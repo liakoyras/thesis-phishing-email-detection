{
 "cells": [
  {
   "cell_type": "code",
   "execution_count": 1,
   "id": "7d32099c",
   "metadata": {},
   "outputs": [],
   "source": [
    "import raw_utils as util\n",
    "import os\n",
    "\n",
    "import pandas as pd\n",
    "import numpy as np\n",
    "\n",
    "import random\n",
    "random.seed(1746)"
   ]
  },
  {
   "cell_type": "code",
   "execution_count": 2,
   "id": "73a0a718",
   "metadata": {},
   "outputs": [],
   "source": [
    "# Paths\n",
    "cwd = os.getcwd()\n",
    "csv_path = os.path.join(cwd, 'data/csv/')\n",
    "\n",
    "# Filenames\n",
    "nazario_csv = 'nazario_recent.csv'"
   ]
  },
  {
   "cell_type": "markdown",
   "id": "80d8d755",
   "metadata": {},
   "source": [
    "## Phishing"
   ]
  },
  {
   "cell_type": "markdown",
   "id": "f7b52f7c",
   "metadata": {},
   "source": [
    "First, read the csv with the recent emails."
   ]
  },
  {
   "cell_type": "code",
   "execution_count": 3,
   "id": "c0ac2ef1",
   "metadata": {},
   "outputs": [],
   "source": [
    "phishing_text_raw = pd.read_csv(os.path.join(csv_path, nazario_csv), index_col=0, encoding='latin-1', dtype={'Body': 'object'})"
   ]
  },
  {
   "cell_type": "code",
   "execution_count": 4,
   "id": "62f1d062",
   "metadata": {},
   "outputs": [
    {
     "name": "stdout",
     "output_type": "stream",
     "text": [
      "<class 'pandas.core.frame.DataFrame'>\n",
      "Int64Index: 1916 entries, 0 to 1915\n",
      "Data columns (total 1 columns):\n",
      " #   Column  Non-Null Count  Dtype \n",
      "---  ------  --------------  ----- \n",
      " 0   Body    1875 non-null   object\n",
      "dtypes: object(1)\n",
      "memory usage: 29.9+ KB\n"
     ]
    }
   ],
   "source": [
    "phishing_text_raw.info()"
   ]
  },
  {
   "cell_type": "markdown",
   "id": "9cadbf82",
   "metadata": {},
   "source": [
    "### Cleanup"
   ]
  },
  {
   "cell_type": "markdown",
   "id": "7b8e57e5",
   "metadata": {},
   "source": [
    "#### Remove Useless Rows"
   ]
  },
  {
   "cell_type": "markdown",
   "id": "b8c1c984",
   "metadata": {},
   "source": [
    "We see that there are some rows with no body text. These were emails that contained only attachments, so it is safe to drop them."
   ]
  },
  {
   "cell_type": "code",
   "execution_count": 5,
   "id": "6d450e21",
   "metadata": {},
   "outputs": [],
   "source": [
    "phishing_text = phishing_text_raw.dropna()"
   ]
  },
  {
   "cell_type": "markdown",
   "id": "e1478ae9",
   "metadata": {},
   "source": [
    "Afterwards, we can see that there are some computer generated messages at the beginning of the mbox files, which we also need to remove."
   ]
  },
  {
   "cell_type": "code",
   "execution_count": 9,
   "id": "5aba64ab",
   "metadata": {},
   "outputs": [],
   "source": [
    "phishing_text = phishing_text[phishing_text[\"Body\"].str.contains(\"This text is part of the internal format of your mail folder, and is not\\na real message.\") == False]"
   ]
  },
  {
   "cell_type": "code",
   "execution_count": 10,
   "id": "b4aafc74",
   "metadata": {},
   "outputs": [
    {
     "name": "stdout",
     "output_type": "stream",
     "text": [
      "(1869, 1)\n"
     ]
    }
   ],
   "source": [
    "print(phishing_text.shape)"
   ]
  },
  {
   "cell_type": "markdown",
   "id": "c92a3d50",
   "metadata": {},
   "source": [
    "Finally, we will remove the duplicate messages."
   ]
  },
  {
   "cell_type": "code",
   "execution_count": 11,
   "id": "307baf92",
   "metadata": {},
   "outputs": [],
   "source": [
    "phishing_text = phishing_text[phishing_text.duplicated(keep='first') == False]"
   ]
  },
  {
   "cell_type": "code",
   "execution_count": 12,
   "id": "91e036d0",
   "metadata": {},
   "outputs": [
    {
     "name": "stdout",
     "output_type": "stream",
     "text": [
      "(1720, 1)\n"
     ]
    }
   ],
   "source": [
    "print(phishing_text.shape)"
   ]
  },
  {
   "cell_type": "markdown",
   "id": "66d70050",
   "metadata": {},
   "source": [
    "We see that we have 1720 emails to work with."
   ]
  },
  {
   "cell_type": "code",
   "execution_count": null,
   "id": "98036254",
   "metadata": {},
   "outputs": [],
   "source": []
  },
  {
   "cell_type": "code",
   "execution_count": null,
   "id": "f5483716",
   "metadata": {},
   "outputs": [],
   "source": []
  }
 ],
 "metadata": {
  "kernelspec": {
   "display_name": "Python 3 (ipykernel)",
   "language": "python",
   "name": "python3"
  },
  "language_info": {
   "codemirror_mode": {
    "name": "ipython",
    "version": 3
   },
   "file_extension": ".py",
   "mimetype": "text/x-python",
   "name": "python",
   "nbconvert_exporter": "python",
   "pygments_lexer": "ipython3",
   "version": "3.8.10"
  }
 },
 "nbformat": 4,
 "nbformat_minor": 5
}
