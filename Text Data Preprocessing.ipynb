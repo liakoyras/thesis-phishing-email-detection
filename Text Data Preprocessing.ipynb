{
 "cells": [
  {
   "cell_type": "code",
   "execution_count": 1,
   "id": "58b3da25",
   "metadata": {},
   "outputs": [
    {
     "name": "stderr",
     "output_type": "stream",
     "text": [
      "[nltk_data] Downloading package punkt to /home/ichanis/nltk_data...\n",
      "[nltk_data]   Package punkt is already up-to-date!\n",
      "[nltk_data] Downloading package stopwords to\n",
      "[nltk_data]     /home/ichanis/nltk_data...\n",
      "[nltk_data]   Package stopwords is already up-to-date!\n"
     ]
    }
   ],
   "source": [
    "import os\n",
    "import pandas as pd\n",
    "\n",
    "import preprocessing as util\n",
    "\n",
    "import warnings\n",
    "warnings.filterwarnings(\"ignore\", category=UserWarning, module='bs4')"
   ]
  },
  {
   "cell_type": "code",
   "execution_count": 2,
   "id": "bb049d94",
   "metadata": {},
   "outputs": [],
   "source": [
    "# Path\n",
    "cwd = os.getcwd()\n",
    "csv_path = os.path.join(cwd, 'data/csv/')\n",
    "\n",
    "data_files = ['dataset_1.csv', 'dataset_2.csv']"
   ]
  },
  {
   "cell_type": "code",
   "execution_count": 3,
   "id": "978ee912",
   "metadata": {},
   "outputs": [
    {
     "name": "stdout",
     "output_type": "stream",
     "text": [
      "<class 'pandas.core.frame.DataFrame'>\n",
      "Int64Index: 3440 entries, 0 to 3439\n",
      "Data columns (total 2 columns):\n",
      " #   Column  Non-Null Count  Dtype \n",
      "---  ------  --------------  ----- \n",
      " 0   Body    3440 non-null   object\n",
      " 1   Class   3440 non-null   bool  \n",
      "dtypes: bool(1), object(1)\n",
      "memory usage: 57.1+ KB\n"
     ]
    }
   ],
   "source": [
    "dataset_1 = pd.read_csv(os.path.join(csv_path, data_files[0]), index_col=0, encoding='latin-1', dtype={'Body': 'object', 'Class': 'bool'})\n",
    "dataset_1.info()"
   ]
  },
  {
   "cell_type": "code",
   "execution_count": 4,
   "id": "04b1c78e",
   "metadata": {},
   "outputs": [
    {
     "name": "stdout",
     "output_type": "stream",
     "text": [
      "<class 'pandas.core.frame.DataFrame'>\n",
      "Int64Index: 18920 entries, 0 to 18919\n",
      "Data columns (total 2 columns):\n",
      " #   Column  Non-Null Count  Dtype \n",
      "---  ------  --------------  ----- \n",
      " 0   Body    18920 non-null  object\n",
      " 1   Class   18920 non-null  bool  \n",
      "dtypes: bool(1), object(1)\n",
      "memory usage: 314.1+ KB\n"
     ]
    }
   ],
   "source": [
    "dataset_2 = pd.read_csv(os.path.join(csv_path, data_files[1]), index_col=0, encoding='latin-1', dtype={'Body': 'object', 'Class': 'bool'})\n",
    "dataset_2.info()"
   ]
  },
  {
   "cell_type": "markdown",
   "id": "046fb4dd",
   "metadata": {},
   "source": [
    "## Preprocessing"
   ]
  },
  {
   "cell_type": "markdown",
   "id": "16fff1c8",
   "metadata": {},
   "source": [
    "We need to convert the text data into a format more suitable for use with machine learning algorithms.<br>\n",
    "The process will follow the steps below:"
   ]
  },
  {
   "cell_type": "markdown",
   "id": "f32dc877",
   "metadata": {},
   "source": [
    "### 1. Cleanup HTML and whitespace"
   ]
  },
  {
   "cell_type": "markdown",
   "id": "12db5573",
   "metadata": {},
   "source": [
    "A percentage of the emails extracted are either in HTML format or they have the same message in both plaintext and HTML, as part of a `multipart/alternative` content-type message.<br>\n",
    "In order to extract the text, the HTML formatting has to be removed, along with unnecessary whitespace any duplicated text created by the aforementioned multipart emails."
   ]
  },
  {
   "cell_type": "code",
   "execution_count": 5,
   "id": "6aa0d464",
   "metadata": {},
   "outputs": [],
   "source": [
    "dataset_1['Body'] = dataset_1['Body'].apply(util.strip_characters)\n",
    "dataset_1['Body'] = dataset_1['Body'].apply(util.deduplicate_text)"
   ]
  },
  {
   "cell_type": "code",
   "execution_count": 6,
   "id": "5905cfce",
   "metadata": {},
   "outputs": [],
   "source": [
    "dataset_2['Body'] = dataset_2['Body'].apply(util.strip_characters)\n",
    "dataset_2['Body'] = dataset_2['Body'].apply(util.deduplicate_text)"
   ]
  },
  {
   "cell_type": "markdown",
   "id": "a077db38",
   "metadata": {},
   "source": [
    "### 2. Replacing addresses"
   ]
  },
  {
   "cell_type": "markdown",
   "id": "08ee0a83",
   "metadata": {},
   "source": [
    "A lot of the emails contain either **web addresses** (URLs) or **email addresses** that need to be removed in order for the frequency of certain domains to not influence the results.<br>\n",
    "In order for this information to not get completely lost however, those addresses will be replaced by the strings `<urladdress>` and `<emailaddress>` respectively. Those strings are chosen because they do not occur normally in the emails."
   ]
  },
  {
   "cell_type": "code",
   "execution_count": 7,
   "id": "21947ce3",
   "metadata": {},
   "outputs": [],
   "source": [
    "dataset_1['Body'] = dataset_1['Body'].apply(util.replace_email)\n",
    "dataset_1['Body'] = dataset_1['Body'].apply(util.replace_url)"
   ]
  },
  {
   "cell_type": "code",
   "execution_count": 8,
   "id": "c369799f",
   "metadata": {},
   "outputs": [],
   "source": [
    "dataset_2['Body'] = dataset_2['Body'].apply(util.replace_email)\n",
    "dataset_2['Body'] = dataset_2['Body'].apply(util.replace_url)"
   ]
  },
  {
   "cell_type": "markdown",
   "id": "b4987c68",
   "metadata": {},
   "source": [
    "### 3. Tokenization and stopword removal"
   ]
  },
  {
   "cell_type": "markdown",
   "id": "f735d036",
   "metadata": {},
   "source": [
    "Tokenization is the process of splitting text into individual words. This is useful because generally speaking, the meaning of the text can easily be interpreted by analyzing the words present in the text.<br>\n",
    "Along with this process, letters are also converted to lowercase and punctuation or other special characters are removed.<br>\n",
    "Since there are some words (called **stopwords**) that do not contribute very much in meaning (like pronouns or simple verbs), they can be removed to reduce the noise."
   ]
  },
  {
   "cell_type": "code",
   "execution_count": 9,
   "id": "763c2ecb",
   "metadata": {},
   "outputs": [],
   "source": [
    "dataset_1['Body'] = dataset_1['Body'].apply(util.tokenize)\n",
    "# dataset_1['Body'] = dataset_1['Body'].apply(util.remove_stopwords)"
   ]
  },
  {
   "cell_type": "code",
   "execution_count": 10,
   "id": "83980340",
   "metadata": {
    "scrolled": true
   },
   "outputs": [
    {
     "data": {
      "text/plain": [
       "['dear',\n",
       " 'user',\n",
       " 'your',\n",
       " 'mail-box',\n",
       " 'has',\n",
       " 'exceeded',\n",
       " 'the',\n",
       " 'storage',\n",
       " 'limit',\n",
       " 'you',\n",
       " 'can',\n",
       " 'not',\n",
       " 'send',\n",
       " 'or',\n",
       " 'receive',\n",
       " 'new',\n",
       " 'messages',\n",
       " 'until',\n",
       " 'you',\n",
       " 're-validate',\n",
       " 'your',\n",
       " 'mail',\n",
       " 'to',\n",
       " 're-validate',\n",
       " 'the',\n",
       " 'mailbox',\n",
       " 'click',\n",
       " 'here',\n",
       " 'to',\n",
       " 're-validate',\n",
       " 'thank',\n",
       " 'you',\n",
       " 'mail',\n",
       " 'server']"
      ]
     },
     "execution_count": 10,
     "metadata": {},
     "output_type": "execute_result"
    }
   ],
   "source": [
    "dataset_1['Body'].loc[0]"
   ]
  },
  {
   "cell_type": "code",
   "execution_count": 11,
   "id": "2ab23a90",
   "metadata": {
    "scrolled": true
   },
   "outputs": [
    {
     "data": {
      "text/plain": [
       "['dear',\n",
       " 'usaa',\n",
       " 'member',\n",
       " 'this',\n",
       " 'message',\n",
       " 'is',\n",
       " 'to',\n",
       " 'notify',\n",
       " 'you',\n",
       " 'that',\n",
       " 'you',\n",
       " 'have',\n",
       " 'an',\n",
       " 'incoming',\n",
       " 'e-payment',\n",
       " 'transfer',\n",
       " 'which',\n",
       " 'is',\n",
       " 'awaiting',\n",
       " 'your',\n",
       " 'approval',\n",
       " 'for',\n",
       " 'security',\n",
       " 'reasons',\n",
       " 'a',\n",
       " 'quick',\n",
       " 'verification',\n",
       " 'is',\n",
       " 'required',\n",
       " 'as',\n",
       " 'a',\n",
       " 'means',\n",
       " 'to',\n",
       " 'accept',\n",
       " 'the',\n",
       " 'incoming',\n",
       " 'payment',\n",
       " 'this',\n",
       " 'is',\n",
       " 'to',\n",
       " 'verify',\n",
       " 'the',\n",
       " 'payment',\n",
       " 'between',\n",
       " 'the',\n",
       " 'sender',\n",
       " 'and',\n",
       " 'the',\n",
       " 'receiver',\n",
       " 'click',\n",
       " 'here',\n",
       " 'to',\n",
       " 'approve',\n",
       " 'your',\n",
       " 'payment',\n",
       " 'will',\n",
       " 'be',\n",
       " 'posted',\n",
       " 'into',\n",
       " 'your',\n",
       " 'account',\n",
       " 'within',\n",
       " 'the',\n",
       " 'next',\n",
       " '48hours',\n",
       " 'after',\n",
       " 'verification',\n",
       " 'thank',\n",
       " 'you',\n",
       " 'usaa']"
      ]
     },
     "execution_count": 11,
     "metadata": {},
     "output_type": "execute_result"
    }
   ],
   "source": [
    "dataset_1['Body'].loc[3436]"
   ]
  },
  {
   "cell_type": "code",
   "execution_count": 12,
   "id": "50bcbf45",
   "metadata": {},
   "outputs": [
    {
     "data": {
      "text/plain": [
       "['urladdress']"
      ]
     },
     "execution_count": 12,
     "metadata": {},
     "output_type": "execute_result"
    }
   ],
   "source": [
    "dataset_1['Body'].loc[394]"
   ]
  },
  {
   "cell_type": "code",
   "execution_count": 13,
   "id": "cfd5061d",
   "metadata": {
    "scrolled": true
   },
   "outputs": [
    {
     "data": {
      "text/plain": [
       "['dear',\n",
       " 'emailaddress',\n",
       " '1969mb',\n",
       " '2000mb',\n",
       " 'your',\n",
       " 'e-mail',\n",
       " 'account',\n",
       " 'is',\n",
       " 'running',\n",
       " 'on',\n",
       " 'a',\n",
       " 'low',\n",
       " 'storage',\n",
       " 'space',\n",
       " 'verify',\n",
       " 'your',\n",
       " 'account',\n",
       " 'now',\n",
       " 'to',\n",
       " 'increase',\n",
       " 'storage',\n",
       " 'space',\n",
       " 'other',\n",
       " 'wise',\n",
       " 'your',\n",
       " 'account',\n",
       " 'shall',\n",
       " 'be',\n",
       " 'locked',\n",
       " 'out',\n",
       " 'click',\n",
       " 'here',\n",
       " 'to',\n",
       " 'verify',\n",
       " 'your',\n",
       " 'account',\n",
       " 'notice',\n",
       " 'failure',\n",
       " 'to',\n",
       " 'verify',\n",
       " 'your',\n",
       " 'e-mail',\n",
       " 'account',\n",
       " 'shall',\n",
       " 'result',\n",
       " 'to',\n",
       " 'account',\n",
       " 'lock',\n",
       " 'out',\n",
       " 'thanks',\n",
       " 'account',\n",
       " 'service']"
      ]
     },
     "execution_count": 13,
     "metadata": {},
     "output_type": "execute_result"
    }
   ],
   "source": [
    "dataset_1['Body'].loc[3439]"
   ]
  },
  {
   "cell_type": "code",
   "execution_count": 14,
   "id": "594317c3",
   "metadata": {},
   "outputs": [
    {
     "data": {
      "text/html": [
       "<div>\n",
       "<style scoped>\n",
       "    .dataframe tbody tr th:only-of-type {\n",
       "        vertical-align: middle;\n",
       "    }\n",
       "\n",
       "    .dataframe tbody tr th {\n",
       "        vertical-align: top;\n",
       "    }\n",
       "\n",
       "    .dataframe thead th {\n",
       "        text-align: right;\n",
       "    }\n",
       "</style>\n",
       "<table border=\"1\" class=\"dataframe\">\n",
       "  <thead>\n",
       "    <tr style=\"text-align: right;\">\n",
       "      <th></th>\n",
       "      <th>Body</th>\n",
       "      <th>Class</th>\n",
       "    </tr>\n",
       "  </thead>\n",
       "  <tbody>\n",
       "    <tr>\n",
       "      <th>0</th>\n",
       "      <td>[dear, user, your, mail-box, has, exceeded, th...</td>\n",
       "      <td>True</td>\n",
       "    </tr>\n",
       "    <tr>\n",
       "      <th>1</th>\n",
       "      <td>[please, forward, any, book, requests, to, me,...</td>\n",
       "      <td>False</td>\n",
       "    </tr>\n",
       "    <tr>\n",
       "      <th>2</th>\n",
       "      <td>[i, will, not, give, out, my, i, have, not, be...</td>\n",
       "      <td>False</td>\n",
       "    </tr>\n",
       "    <tr>\n",
       "      <th>3</th>\n",
       "      <td>[start, date, hourahead, hour, 6, no, ancillar...</td>\n",
       "      <td>False</td>\n",
       "    </tr>\n",
       "    <tr>\n",
       "      <th>4</th>\n",
       "      <td>[confirm, your, account, dear, member, please,...</td>\n",
       "      <td>True</td>\n",
       "    </tr>\n",
       "    <tr>\n",
       "      <th>...</th>\n",
       "      <td>...</td>\n",
       "      <td>...</td>\n",
       "    </tr>\n",
       "    <tr>\n",
       "      <th>3435</th>\n",
       "      <td>[to, ensure, delivery, to, your, inbox, please...</td>\n",
       "      <td>True</td>\n",
       "    </tr>\n",
       "    <tr>\n",
       "      <th>3436</th>\n",
       "      <td>[dear, usaa, member, this, message, is, to, no...</td>\n",
       "      <td>True</td>\n",
       "    </tr>\n",
       "    <tr>\n",
       "      <th>3437</th>\n",
       "      <td>[just, to, keep, you, in, the, loop, i, have, ...</td>\n",
       "      <td>False</td>\n",
       "    </tr>\n",
       "    <tr>\n",
       "      <th>3438</th>\n",
       "      <td>[suspicious, activity, has, been, detected, on...</td>\n",
       "      <td>True</td>\n",
       "    </tr>\n",
       "    <tr>\n",
       "      <th>3439</th>\n",
       "      <td>[dear, emailaddress, 1969mb, 2000mb, your, e-m...</td>\n",
       "      <td>True</td>\n",
       "    </tr>\n",
       "  </tbody>\n",
       "</table>\n",
       "<p>3440 rows × 2 columns</p>\n",
       "</div>"
      ],
      "text/plain": [
       "                                                   Body  Class\n",
       "0     [dear, user, your, mail-box, has, exceeded, th...   True\n",
       "1     [please, forward, any, book, requests, to, me,...  False\n",
       "2     [i, will, not, give, out, my, i, have, not, be...  False\n",
       "3     [start, date, hourahead, hour, 6, no, ancillar...  False\n",
       "4     [confirm, your, account, dear, member, please,...   True\n",
       "...                                                 ...    ...\n",
       "3435  [to, ensure, delivery, to, your, inbox, please...   True\n",
       "3436  [dear, usaa, member, this, message, is, to, no...   True\n",
       "3437  [just, to, keep, you, in, the, loop, i, have, ...  False\n",
       "3438  [suspicious, activity, has, been, detected, on...   True\n",
       "3439  [dear, emailaddress, 1969mb, 2000mb, your, e-m...   True\n",
       "\n",
       "[3440 rows x 2 columns]"
      ]
     },
     "execution_count": 14,
     "metadata": {},
     "output_type": "execute_result"
    }
   ],
   "source": [
    "dataset_1"
   ]
  }
 ],
 "metadata": {
  "kernelspec": {
   "display_name": "Python 3 (ipykernel)",
   "language": "python",
   "name": "python3"
  },
  "language_info": {
   "codemirror_mode": {
    "name": "ipython",
    "version": 3
   },
   "file_extension": ".py",
   "mimetype": "text/x-python",
   "name": "python",
   "nbconvert_exporter": "python",
   "pygments_lexer": "ipython3",
   "version": "3.8.10"
  }
 },
 "nbformat": 4,
 "nbformat_minor": 5
}
