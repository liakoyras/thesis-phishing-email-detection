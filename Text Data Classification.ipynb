{
 "cells": [
  {
   "cell_type": "code",
   "execution_count": 1,
   "id": "0c0ae3ca",
   "metadata": {},
   "outputs": [],
   "source": [
    "import os\n",
    "import pandas as pd\n",
    "pd.options.display.max_columns = 250\n",
    "\n",
    "import machine_learning as ml\n",
    "\n",
    "from ast import literal_eval"
   ]
  },
  {
   "cell_type": "code",
   "execution_count": 2,
   "id": "8c25aaab",
   "metadata": {},
   "outputs": [],
   "source": [
    "# Path\n",
    "csv_path = './data/csv/'\n",
    "\n",
    "train = {\n",
    "    'tfidf_sel' : ['tfidf_chi2_train_1.csv','tfidf_chi2_train_2.csv'],\n",
    "    'word2vec' : ['word2vec_train_1.csv','word2vec_train_2.csv']\n",
    "}\n",
    "test = {\n",
    "    'tfidf_sel' : ['tfidf_chi2_test_1.csv','tfidf_chi2_test_2.csv'],\n",
    "    'word2vec' : ['word2vec_test_1.csv','word2vec_test_2.csv']\n",
    "}"
   ]
  },
  {
   "cell_type": "markdown",
   "id": "3443f03d",
   "metadata": {},
   "source": [
    "# Balanced Dataset"
   ]
  },
  {
   "cell_type": "markdown",
   "id": "cfe426c1",
   "metadata": {},
   "source": [
    "## Train TF-IDF"
   ]
  },
  {
   "cell_type": "code",
   "execution_count": 3,
   "id": "b8560411",
   "metadata": {},
   "outputs": [],
   "source": [
    "tfidf_train_1 = pd.read_csv(os.path.join(csv_path, train['tfidf_sel'][0]), index_col=0)\n",
    "tfidf_test_1 = pd.read_csv(os.path.join(csv_path, test['tfidf_sel'][0]), index_col=0)"
   ]
  },
  {
   "cell_type": "code",
   "execution_count": 4,
   "id": "08db8205",
   "metadata": {},
   "outputs": [],
   "source": [
    "tfidf_train_1 = ml.separate_features_target(tfidf_train_1)\n",
    "tfidf_test_1 = ml.separate_features_target(tfidf_test_1)"
   ]
  },
  {
   "cell_type": "markdown",
   "id": "0a99e597",
   "metadata": {},
   "source": [
    "### Logistic Regression"
   ]
  },
  {
   "cell_type": "code",
   "execution_count": 5,
   "id": "456aa7a0",
   "metadata": {
    "scrolled": true
   },
   "outputs": [
    {
     "name": "stdout",
     "output_type": "stream",
     "text": [
      "Train accuracy: 0.9944893460690669\n"
     ]
    }
   ],
   "source": [
    "lr_tfidf = ml.train_logistic_regression(tfidf_train_1['features'], tfidf_train_1['target'], show_train_accuracy=1)"
   ]
  },
  {
   "cell_type": "markdown",
   "id": "1ee787fe",
   "metadata": {},
   "source": [
    "### Decision Tree"
   ]
  },
  {
   "cell_type": "code",
   "execution_count": 6,
   "id": "7c503ca0",
   "metadata": {
    "scrolled": true
   },
   "outputs": [
    {
     "name": "stdout",
     "output_type": "stream",
     "text": [
      "Train accuracy: 0.9357090374724467\n"
     ]
    }
   ],
   "source": [
    "dt_tfidf = ml.train_decision_tree(tfidf_train_1['features'], tfidf_train_1['target'], show_train_accuracy=1)"
   ]
  },
  {
   "cell_type": "markdown",
   "id": "75920ffc",
   "metadata": {},
   "source": [
    "### Random Forest"
   ]
  },
  {
   "cell_type": "code",
   "execution_count": 7,
   "id": "a3d5ddab",
   "metadata": {
    "scrolled": true
   },
   "outputs": [
    {
     "name": "stdout",
     "output_type": "stream",
     "text": [
      "Train accuracy: 0.9474650991917708\n"
     ]
    }
   ],
   "source": [
    "rf_tfidf = ml.train_random_forest(tfidf_train_1['features'], tfidf_train_1['target'], show_train_accuracy=1)"
   ]
  },
  {
   "cell_type": "markdown",
   "id": "c5fcc748",
   "metadata": {},
   "source": [
    "### Gradient Boosting Tree"
   ]
  },
  {
   "cell_type": "code",
   "execution_count": 8,
   "id": "c0b056d5",
   "metadata": {
    "scrolled": true
   },
   "outputs": [
    {
     "name": "stdout",
     "output_type": "stream",
     "text": [
      "Train accuracy: 0.9757531227038942\n"
     ]
    }
   ],
   "source": [
    "gb_tfidf = ml.train_gradient_boost(tfidf_train_1['features'], tfidf_train_1['target'], show_train_accuracy=1)"
   ]
  },
  {
   "cell_type": "markdown",
   "id": "f1eb54d7",
   "metadata": {},
   "source": [
    "### Naive Bayes"
   ]
  },
  {
   "cell_type": "code",
   "execution_count": 9,
   "id": "1c32bf84",
   "metadata": {
    "scrolled": false
   },
   "outputs": [
    {
     "name": "stdout",
     "output_type": "stream",
     "text": [
      "Train accuracy: 0.9717119764878765\n"
     ]
    }
   ],
   "source": [
    "nb_tfidf = ml.train_naive_bayes(tfidf_train_1['features'], tfidf_train_1['target'], show_train_accuracy=1)"
   ]
  },
  {
   "cell_type": "markdown",
   "id": "3056e9da",
   "metadata": {},
   "source": [
    "## Train Word2Vec"
   ]
  },
  {
   "cell_type": "code",
   "execution_count": 10,
   "id": "511f87d5",
   "metadata": {},
   "outputs": [],
   "source": [
    "word2vec_train_1 = pd.read_csv(os.path.join(csv_path, train['word2vec'][0]), index_col=0)\n",
    "word2vec_test_1 = pd.read_csv(os.path.join(csv_path, test['word2vec'][0]), index_col=0)"
   ]
  },
  {
   "cell_type": "code",
   "execution_count": 11,
   "id": "ab496a2a",
   "metadata": {},
   "outputs": [],
   "source": [
    "word2vec_train_1 = ml.separate_features_target(word2vec_train_1)\n",
    "word2vec_test_1 = ml.separate_features_target(word2vec_test_1)"
   ]
  },
  {
   "cell_type": "markdown",
   "id": "d20916f3",
   "metadata": {},
   "source": [
    "### Logistic Regression"
   ]
  },
  {
   "cell_type": "code",
   "execution_count": 12,
   "id": "d1695d1a",
   "metadata": {
    "scrolled": true
   },
   "outputs": [
    {
     "name": "stdout",
     "output_type": "stream",
     "text": [
      "Train accuracy: 0.9948567229977957\n"
     ]
    },
    {
     "name": "stderr",
     "output_type": "stream",
     "text": [
      "/home/ichanis/.local/lib/python3.8/site-packages/sklearn/linear_model/_logistic.py:444: ConvergenceWarning: lbfgs failed to converge (status=1):\n",
      "STOP: TOTAL NO. of ITERATIONS REACHED LIMIT.\n",
      "\n",
      "Increase the number of iterations (max_iter) or scale the data as shown in:\n",
      "    https://scikit-learn.org/stable/modules/preprocessing.html\n",
      "Please also refer to the documentation for alternative solver options:\n",
      "    https://scikit-learn.org/stable/modules/linear_model.html#logistic-regression\n",
      "  n_iter_i = _check_optimize_result(\n"
     ]
    }
   ],
   "source": [
    "lr_word2vec = ml.train_logistic_regression(word2vec_train_1['features'], word2vec_train_1['target'], show_train_accuracy=1)"
   ]
  },
  {
   "cell_type": "markdown",
   "id": "056f7f52",
   "metadata": {},
   "source": [
    "### Decision Tree"
   ]
  },
  {
   "cell_type": "code",
   "execution_count": 13,
   "id": "52ef191a",
   "metadata": {
    "scrolled": true
   },
   "outputs": [
    {
     "name": "stdout",
     "output_type": "stream",
     "text": [
      "Train accuracy: 0.9856722997795738\n"
     ]
    }
   ],
   "source": [
    "dt_word2vec = ml.train_decision_tree(word2vec_train_1['features'], word2vec_train_1['target'], show_train_accuracy=1)"
   ]
  },
  {
   "cell_type": "markdown",
   "id": "e41879b7",
   "metadata": {},
   "source": [
    "### Random Forest"
   ]
  },
  {
   "cell_type": "code",
   "execution_count": 14,
   "id": "46f2cf27",
   "metadata": {
    "scrolled": true
   },
   "outputs": [
    {
     "name": "stdout",
     "output_type": "stream",
     "text": [
      "Train accuracy: 0.9805290227773695\n"
     ]
    }
   ],
   "source": [
    "rf_word2vec = ml.train_random_forest(word2vec_train_1['features'], word2vec_train_1['target'], show_train_accuracy=1)"
   ]
  },
  {
   "cell_type": "markdown",
   "id": "c951e241",
   "metadata": {},
   "source": [
    "### Gradient Boosting Tree"
   ]
  },
  {
   "cell_type": "code",
   "execution_count": 15,
   "id": "1551be7a",
   "metadata": {
    "scrolled": true
   },
   "outputs": [
    {
     "name": "stdout",
     "output_type": "stream",
     "text": [
      "Train accuracy: 0.9955914768552535\n"
     ]
    }
   ],
   "source": [
    "gb_word2vec = ml.train_gradient_boost(word2vec_train_1['features'], word2vec_train_1['target'], show_train_accuracy=1)"
   ]
  },
  {
   "cell_type": "markdown",
   "id": "30870fdd",
   "metadata": {},
   "source": [
    "### Naive Bayes"
   ]
  },
  {
   "cell_type": "code",
   "execution_count": 16,
   "id": "2c563aa5",
   "metadata": {
    "scrolled": true
   },
   "outputs": [
    {
     "name": "stdout",
     "output_type": "stream",
     "text": [
      "Train accuracy: 0.9434239529757531\n"
     ]
    }
   ],
   "source": [
    "nb_word2vec = ml.train_naive_bayes(word2vec_train_1['features'], word2vec_train_1['target'], remove_negatives=True, show_train_accuracy=1)"
   ]
  },
  {
   "cell_type": "markdown",
   "id": "a79b4ce5",
   "metadata": {},
   "source": [
    "## Results"
   ]
  },
  {
   "cell_type": "markdown",
   "id": "ec76bf94",
   "metadata": {},
   "source": [
    "### TF-IDF"
   ]
  },
  {
   "cell_type": "code",
   "execution_count": 17,
   "id": "f38f957c",
   "metadata": {},
   "outputs": [],
   "source": [
    "models = [lr_tfidf, dt_tfidf, rf_tfidf, gb_tfidf, nb_tfidf]\n",
    "names = ['Logistic Regression', 'Decision Tree', 'Random Forest', 'Gradient Boosting Tree', 'Naive Bayes']"
   ]
  },
  {
   "cell_type": "code",
   "execution_count": 18,
   "id": "3090c409",
   "metadata": {},
   "outputs": [],
   "source": [
    "results_tfidf = ml.multi_model_results(models, names, tfidf_test_1['features'], tfidf_test_1['target'])"
   ]
  },
  {
   "cell_type": "code",
   "execution_count": 19,
   "id": "808e6cbb",
   "metadata": {
    "scrolled": true
   },
   "outputs": [
    {
     "data": {
      "text/html": [
       "<div>\n",
       "<style scoped>\n",
       "    .dataframe tbody tr th:only-of-type {\n",
       "        vertical-align: middle;\n",
       "    }\n",
       "\n",
       "    .dataframe tbody tr th {\n",
       "        vertical-align: top;\n",
       "    }\n",
       "\n",
       "    .dataframe thead th {\n",
       "        text-align: right;\n",
       "    }\n",
       "</style>\n",
       "<table border=\"1\" class=\"dataframe\">\n",
       "  <thead>\n",
       "    <tr style=\"text-align: right;\">\n",
       "      <th></th>\n",
       "      <th>Accuracy</th>\n",
       "      <th>Precision</th>\n",
       "      <th>Recall</th>\n",
       "      <th>F1 Score</th>\n",
       "      <th>False Positive Rate</th>\n",
       "      <th>False Negative Rate</th>\n",
       "      <th>Area Under ROC Curve</th>\n",
       "    </tr>\n",
       "  </thead>\n",
       "  <tbody>\n",
       "    <tr>\n",
       "      <th>Logistic Regression</th>\n",
       "      <td>0.944200</td>\n",
       "      <td>0.980831</td>\n",
       "      <td>0.905605</td>\n",
       "      <td>0.941718</td>\n",
       "      <td>0.008811</td>\n",
       "      <td>0.046990</td>\n",
       "      <td>0.944030</td>\n",
       "    </tr>\n",
       "    <tr>\n",
       "      <th>Decision Tree</th>\n",
       "      <td>0.917768</td>\n",
       "      <td>0.954984</td>\n",
       "      <td>0.876106</td>\n",
       "      <td>0.913846</td>\n",
       "      <td>0.020558</td>\n",
       "      <td>0.061674</td>\n",
       "      <td>0.917585</td>\n",
       "    </tr>\n",
       "    <tr>\n",
       "      <th>Random Forest</th>\n",
       "      <td>0.933921</td>\n",
       "      <td>0.962264</td>\n",
       "      <td>0.902655</td>\n",
       "      <td>0.931507</td>\n",
       "      <td>0.017621</td>\n",
       "      <td>0.048458</td>\n",
       "      <td>0.933784</td>\n",
       "    </tr>\n",
       "    <tr>\n",
       "      <th>Gradient Boosting Tree</th>\n",
       "      <td>0.939794</td>\n",
       "      <td>0.968553</td>\n",
       "      <td>0.908555</td>\n",
       "      <td>0.937595</td>\n",
       "      <td>0.014684</td>\n",
       "      <td>0.045521</td>\n",
       "      <td>0.939657</td>\n",
       "    </tr>\n",
       "    <tr>\n",
       "      <th>Naive Bayes</th>\n",
       "      <td>0.963289</td>\n",
       "      <td>0.959064</td>\n",
       "      <td>0.967552</td>\n",
       "      <td>0.963289</td>\n",
       "      <td>0.020558</td>\n",
       "      <td>0.016153</td>\n",
       "      <td>0.963308</td>\n",
       "    </tr>\n",
       "  </tbody>\n",
       "</table>\n",
       "</div>"
      ],
      "text/plain": [
       "                        Accuracy  Precision    Recall  F1 Score  \\\n",
       "Logistic Regression     0.944200   0.980831  0.905605  0.941718   \n",
       "Decision Tree           0.917768   0.954984  0.876106  0.913846   \n",
       "Random Forest           0.933921   0.962264  0.902655  0.931507   \n",
       "Gradient Boosting Tree  0.939794   0.968553  0.908555  0.937595   \n",
       "Naive Bayes             0.963289   0.959064  0.967552  0.963289   \n",
       "\n",
       "                        False Positive Rate  False Negative Rate  \\\n",
       "Logistic Regression                0.008811             0.046990   \n",
       "Decision Tree                      0.020558             0.061674   \n",
       "Random Forest                      0.017621             0.048458   \n",
       "Gradient Boosting Tree             0.014684             0.045521   \n",
       "Naive Bayes                        0.020558             0.016153   \n",
       "\n",
       "                        Area Under ROC Curve  \n",
       "Logistic Regression                 0.944030  \n",
       "Decision Tree                       0.917585  \n",
       "Random Forest                       0.933784  \n",
       "Gradient Boosting Tree              0.939657  \n",
       "Naive Bayes                         0.963308  "
      ]
     },
     "execution_count": 19,
     "metadata": {},
     "output_type": "execute_result"
    }
   ],
   "source": [
    "results_tfidf"
   ]
  },
  {
   "cell_type": "markdown",
   "id": "659f5c89",
   "metadata": {},
   "source": [
    "### Word2Vec"
   ]
  },
  {
   "cell_type": "code",
   "execution_count": 20,
   "id": "039ea068",
   "metadata": {},
   "outputs": [],
   "source": [
    "models = [lr_word2vec, dt_word2vec, rf_word2vec, gb_word2vec, nb_word2vec]\n",
    "names = ['Logistic Regression', 'Decision Tree', 'Random Forest', 'Gradient Boosting Tree', 'Naive Bayes']"
   ]
  },
  {
   "cell_type": "code",
   "execution_count": 21,
   "id": "5da4a6a3",
   "metadata": {},
   "outputs": [],
   "source": [
    "results_word2vec = ml.multi_model_results(models, names, word2vec_test_1['features'], word2vec_test_1['target'])"
   ]
  },
  {
   "cell_type": "code",
   "execution_count": 22,
   "id": "1aba61d3",
   "metadata": {
    "scrolled": true
   },
   "outputs": [
    {
     "data": {
      "text/html": [
       "<div>\n",
       "<style scoped>\n",
       "    .dataframe tbody tr th:only-of-type {\n",
       "        vertical-align: middle;\n",
       "    }\n",
       "\n",
       "    .dataframe tbody tr th {\n",
       "        vertical-align: top;\n",
       "    }\n",
       "\n",
       "    .dataframe thead th {\n",
       "        text-align: right;\n",
       "    }\n",
       "</style>\n",
       "<table border=\"1\" class=\"dataframe\">\n",
       "  <thead>\n",
       "    <tr style=\"text-align: right;\">\n",
       "      <th></th>\n",
       "      <th>Accuracy</th>\n",
       "      <th>Precision</th>\n",
       "      <th>Recall</th>\n",
       "      <th>F1 Score</th>\n",
       "      <th>False Positive Rate</th>\n",
       "      <th>False Negative Rate</th>\n",
       "      <th>Area Under ROC Curve</th>\n",
       "    </tr>\n",
       "  </thead>\n",
       "  <tbody>\n",
       "    <tr>\n",
       "      <th>Logistic Regression</th>\n",
       "      <td>0.546256</td>\n",
       "      <td>0.526042</td>\n",
       "      <td>0.893805</td>\n",
       "      <td>0.662295</td>\n",
       "      <td>0.400881</td>\n",
       "      <td>0.052863</td>\n",
       "      <td>0.547780</td>\n",
       "    </tr>\n",
       "    <tr>\n",
       "      <th>Decision Tree</th>\n",
       "      <td>0.960352</td>\n",
       "      <td>0.945714</td>\n",
       "      <td>0.976401</td>\n",
       "      <td>0.960813</td>\n",
       "      <td>0.027900</td>\n",
       "      <td>0.011747</td>\n",
       "      <td>0.960423</td>\n",
       "    </tr>\n",
       "    <tr>\n",
       "      <th>Random Forest</th>\n",
       "      <td>0.963289</td>\n",
       "      <td>0.959064</td>\n",
       "      <td>0.967552</td>\n",
       "      <td>0.963289</td>\n",
       "      <td>0.020558</td>\n",
       "      <td>0.016153</td>\n",
       "      <td>0.963308</td>\n",
       "    </tr>\n",
       "    <tr>\n",
       "      <th>Gradient Boosting Tree</th>\n",
       "      <td>0.964758</td>\n",
       "      <td>0.953890</td>\n",
       "      <td>0.976401</td>\n",
       "      <td>0.965015</td>\n",
       "      <td>0.023495</td>\n",
       "      <td>0.011747</td>\n",
       "      <td>0.964809</td>\n",
       "    </tr>\n",
       "    <tr>\n",
       "      <th>Naive Bayes</th>\n",
       "      <td>0.619677</td>\n",
       "      <td>0.567114</td>\n",
       "      <td>0.997050</td>\n",
       "      <td>0.722995</td>\n",
       "      <td>0.378855</td>\n",
       "      <td>0.001468</td>\n",
       "      <td>0.621332</td>\n",
       "    </tr>\n",
       "  </tbody>\n",
       "</table>\n",
       "</div>"
      ],
      "text/plain": [
       "                        Accuracy  Precision    Recall  F1 Score  \\\n",
       "Logistic Regression     0.546256   0.526042  0.893805  0.662295   \n",
       "Decision Tree           0.960352   0.945714  0.976401  0.960813   \n",
       "Random Forest           0.963289   0.959064  0.967552  0.963289   \n",
       "Gradient Boosting Tree  0.964758   0.953890  0.976401  0.965015   \n",
       "Naive Bayes             0.619677   0.567114  0.997050  0.722995   \n",
       "\n",
       "                        False Positive Rate  False Negative Rate  \\\n",
       "Logistic Regression                0.400881             0.052863   \n",
       "Decision Tree                      0.027900             0.011747   \n",
       "Random Forest                      0.020558             0.016153   \n",
       "Gradient Boosting Tree             0.023495             0.011747   \n",
       "Naive Bayes                        0.378855             0.001468   \n",
       "\n",
       "                        Area Under ROC Curve  \n",
       "Logistic Regression                 0.547780  \n",
       "Decision Tree                       0.960423  \n",
       "Random Forest                       0.963308  \n",
       "Gradient Boosting Tree              0.964809  \n",
       "Naive Bayes                         0.621332  "
      ]
     },
     "execution_count": 22,
     "metadata": {},
     "output_type": "execute_result"
    }
   ],
   "source": [
    "results_word2vec"
   ]
  },
  {
   "cell_type": "markdown",
   "id": "443c6def",
   "metadata": {},
   "source": [
    "# Imbalanced Dataset"
   ]
  },
  {
   "cell_type": "markdown",
   "id": "697dfd09",
   "metadata": {},
   "source": [
    "## Train TF-IDF"
   ]
  },
  {
   "cell_type": "code",
   "execution_count": 23,
   "id": "ab0cc2f8",
   "metadata": {},
   "outputs": [],
   "source": [
    "tfidf_train_2 = pd.read_csv(os.path.join(csv_path, train['tfidf_sel'][1]), index_col=0)\n",
    "tfidf_test_2 = pd.read_csv(os.path.join(csv_path, test['tfidf_sel'][1]), index_col=0)"
   ]
  },
  {
   "cell_type": "code",
   "execution_count": 24,
   "id": "5e04f65c",
   "metadata": {},
   "outputs": [],
   "source": [
    "tfidf_train_2 = ml.separate_features_target(tfidf_train_2)\n",
    "tfidf_test_2 = ml.separate_features_target(tfidf_test_2)"
   ]
  },
  {
   "cell_type": "markdown",
   "id": "2b4d2cd1",
   "metadata": {},
   "source": [
    "### Logistic Regression"
   ]
  },
  {
   "cell_type": "code",
   "execution_count": 25,
   "id": "b31b7985",
   "metadata": {
    "scrolled": true
   },
   "outputs": [
    {
     "name": "stdout",
     "output_type": "stream",
     "text": [
      "Train accuracy: 0.9918936877076412\n"
     ]
    },
    {
     "name": "stderr",
     "output_type": "stream",
     "text": [
      "/home/ichanis/.local/lib/python3.8/site-packages/sklearn/linear_model/_logistic.py:444: ConvergenceWarning: lbfgs failed to converge (status=1):\n",
      "STOP: TOTAL NO. of ITERATIONS REACHED LIMIT.\n",
      "\n",
      "Increase the number of iterations (max_iter) or scale the data as shown in:\n",
      "    https://scikit-learn.org/stable/modules/preprocessing.html\n",
      "Please also refer to the documentation for alternative solver options:\n",
      "    https://scikit-learn.org/stable/modules/linear_model.html#logistic-regression\n",
      "  n_iter_i = _check_optimize_result(\n"
     ]
    }
   ],
   "source": [
    "lr_tfidf_2 = ml.train_logistic_regression(tfidf_train_2['features'], tfidf_train_2['target'], show_train_accuracy=1)"
   ]
  },
  {
   "cell_type": "markdown",
   "id": "18eb5ca4",
   "metadata": {},
   "source": [
    "### Decision Tree"
   ]
  },
  {
   "cell_type": "code",
   "execution_count": 26,
   "id": "e25ea614",
   "metadata": {
    "scrolled": true
   },
   "outputs": [
    {
     "name": "stdout",
     "output_type": "stream",
     "text": [
      "Train accuracy: 0.9705647840531562\n"
     ]
    }
   ],
   "source": [
    "dt_tfidf_2 = ml.train_decision_tree(tfidf_train_2['features'], tfidf_train_2['target'], show_train_accuracy=1)"
   ]
  },
  {
   "cell_type": "markdown",
   "id": "521655cd",
   "metadata": {},
   "source": [
    "### Random Forest"
   ]
  },
  {
   "cell_type": "code",
   "execution_count": 27,
   "id": "bee84f70",
   "metadata": {
    "scrolled": true
   },
   "outputs": [
    {
     "name": "stdout",
     "output_type": "stream",
     "text": [
      "Train accuracy: 0.9498338870431894\n"
     ]
    }
   ],
   "source": [
    "rf_tfidf_2 = ml.train_random_forest(tfidf_train_2['features'], tfidf_train_2['target'], show_train_accuracy=1)"
   ]
  },
  {
   "cell_type": "markdown",
   "id": "15e89d17",
   "metadata": {},
   "source": [
    "### Gradient Boosting Tree"
   ]
  },
  {
   "cell_type": "code",
   "execution_count": 28,
   "id": "1c558739",
   "metadata": {
    "scrolled": true
   },
   "outputs": [
    {
     "name": "stdout",
     "output_type": "stream",
     "text": [
      "Train accuracy: 0.986046511627907\n"
     ]
    }
   ],
   "source": [
    "gb_tfidf_2 = ml.train_gradient_boost(tfidf_train_2['features'], tfidf_train_2['target'], show_train_accuracy=1)"
   ]
  },
  {
   "cell_type": "markdown",
   "id": "5bca4e74",
   "metadata": {},
   "source": [
    "### Naive Bayes"
   ]
  },
  {
   "cell_type": "code",
   "execution_count": 29,
   "id": "c4a63326",
   "metadata": {
    "scrolled": false
   },
   "outputs": [
    {
     "name": "stdout",
     "output_type": "stream",
     "text": [
      "Train accuracy: 0.978936877076412\n"
     ]
    }
   ],
   "source": [
    "nb_tfidf_2 = ml.train_naive_bayes(tfidf_train_2['features'], tfidf_train_2['target'], show_train_accuracy=1)"
   ]
  },
  {
   "cell_type": "markdown",
   "id": "284d6c45",
   "metadata": {},
   "source": [
    "## Train Word2Vec"
   ]
  },
  {
   "cell_type": "code",
   "execution_count": 30,
   "id": "7565a706",
   "metadata": {},
   "outputs": [],
   "source": [
    "word2vec_train_2 = pd.read_csv(os.path.join(csv_path, train['word2vec'][1]), index_col=0)\n",
    "word2vec_test_2 = pd.read_csv(os.path.join(csv_path, test['word2vec'][1]), index_col=0)"
   ]
  },
  {
   "cell_type": "code",
   "execution_count": 31,
   "id": "a5d62c2e",
   "metadata": {},
   "outputs": [],
   "source": [
    "word2vec_train_2 = ml.separate_features_target(word2vec_train_2)\n",
    "word2vec_test_2 = ml.separate_features_target(word2vec_test_2)"
   ]
  },
  {
   "cell_type": "markdown",
   "id": "e1c5dffe",
   "metadata": {},
   "source": [
    "### Logistic Regression"
   ]
  },
  {
   "cell_type": "code",
   "execution_count": 32,
   "id": "1101e16f",
   "metadata": {
    "scrolled": true
   },
   "outputs": [
    {
     "name": "stdout",
     "output_type": "stream",
     "text": [
      "Train accuracy: 0.9890365448504983\n"
     ]
    }
   ],
   "source": [
    "lr_word2vec_2 = ml.train_logistic_regression(word2vec_train_2['features'], word2vec_train_2['target'], show_train_accuracy=1)"
   ]
  },
  {
   "cell_type": "markdown",
   "id": "a9e3e5b5",
   "metadata": {},
   "source": [
    "### Decision Tree"
   ]
  },
  {
   "cell_type": "code",
   "execution_count": 33,
   "id": "d8933f40",
   "metadata": {
    "scrolled": true
   },
   "outputs": [
    {
     "name": "stdout",
     "output_type": "stream",
     "text": [
      "Train accuracy: 0.9828571428571429\n"
     ]
    }
   ],
   "source": [
    "dt_word2vec_2 = ml.train_decision_tree(word2vec_train_2['features'], word2vec_train_2['target'], show_train_accuracy=1)"
   ]
  },
  {
   "cell_type": "markdown",
   "id": "93ab7bda",
   "metadata": {},
   "source": [
    "### Random Forest"
   ]
  },
  {
   "cell_type": "code",
   "execution_count": 34,
   "id": "da2b6803",
   "metadata": {
    "scrolled": true
   },
   "outputs": [
    {
     "name": "stdout",
     "output_type": "stream",
     "text": [
      "Train accuracy: 0.9823255813953489\n"
     ]
    }
   ],
   "source": [
    "rf_word2vec_2 = ml.train_random_forest(word2vec_train_2['features'], word2vec_train_2['target'], show_train_accuracy=1)"
   ]
  },
  {
   "cell_type": "markdown",
   "id": "f59ae3f3",
   "metadata": {},
   "source": [
    "### Gradient Boosting Tree"
   ]
  },
  {
   "cell_type": "code",
   "execution_count": 35,
   "id": "660e52f3",
   "metadata": {
    "scrolled": true
   },
   "outputs": [
    {
     "name": "stdout",
     "output_type": "stream",
     "text": [
      "Train accuracy: 0.993421926910299\n"
     ]
    }
   ],
   "source": [
    "gb_word2vec_2 = ml.train_gradient_boost(word2vec_train_2['features'], word2vec_train_2['target'], show_train_accuracy=1)"
   ]
  },
  {
   "cell_type": "markdown",
   "id": "48e06f32",
   "metadata": {},
   "source": [
    "### Naive Bayes"
   ]
  },
  {
   "cell_type": "code",
   "execution_count": 36,
   "id": "ad936feb",
   "metadata": {
    "scrolled": true
   },
   "outputs": [
    {
     "name": "stdout",
     "output_type": "stream",
     "text": [
      "Train accuracy: 0.9113621262458472\n"
     ]
    }
   ],
   "source": [
    "nb_word2vec_2 = ml.train_naive_bayes(word2vec_train_2['features'], word2vec_train_2['target'], remove_negatives=True, show_train_accuracy=1)"
   ]
  },
  {
   "cell_type": "markdown",
   "id": "68350090",
   "metadata": {},
   "source": [
    "## Results"
   ]
  },
  {
   "cell_type": "markdown",
   "id": "fbf92efc",
   "metadata": {},
   "source": [
    "### TF-IDF"
   ]
  },
  {
   "cell_type": "code",
   "execution_count": 37,
   "id": "fb488524",
   "metadata": {},
   "outputs": [],
   "source": [
    "models = [lr_tfidf_2, dt_tfidf_2, rf_tfidf_2, gb_tfidf_2, nb_tfidf_2]\n",
    "names = ['Logistic Regression', 'Decision Tree', 'Random Forest', 'Gradient Boosting Tree', 'Naive Bayes']"
   ]
  },
  {
   "cell_type": "code",
   "execution_count": 38,
   "id": "2035ce5a",
   "metadata": {},
   "outputs": [
    {
     "name": "stderr",
     "output_type": "stream",
     "text": [
      "/home/ichanis/.local/lib/python3.8/site-packages/sklearn/metrics/_classification.py:1334: UndefinedMetricWarning: Precision is ill-defined and being set to 0.0 due to no predicted samples. Use `zero_division` parameter to control this behavior.\n",
      "  _warn_prf(average, modifier, msg_start, len(result))\n"
     ]
    }
   ],
   "source": [
    "results_tfidf_2 = ml.multi_model_results(models, names, tfidf_test_2['features'], tfidf_test_2['target'])"
   ]
  },
  {
   "cell_type": "code",
   "execution_count": 39,
   "id": "8a508641",
   "metadata": {
    "scrolled": true
   },
   "outputs": [
    {
     "data": {
      "text/html": [
       "<div>\n",
       "<style scoped>\n",
       "    .dataframe tbody tr th:only-of-type {\n",
       "        vertical-align: middle;\n",
       "    }\n",
       "\n",
       "    .dataframe tbody tr th {\n",
       "        vertical-align: top;\n",
       "    }\n",
       "\n",
       "    .dataframe thead th {\n",
       "        text-align: right;\n",
       "    }\n",
       "</style>\n",
       "<table border=\"1\" class=\"dataframe\">\n",
       "  <thead>\n",
       "    <tr style=\"text-align: right;\">\n",
       "      <th></th>\n",
       "      <th>Accuracy</th>\n",
       "      <th>Precision</th>\n",
       "      <th>Recall</th>\n",
       "      <th>F1 Score</th>\n",
       "      <th>False Positive Rate</th>\n",
       "      <th>False Negative Rate</th>\n",
       "      <th>Area Under ROC Curve</th>\n",
       "    </tr>\n",
       "  </thead>\n",
       "  <tbody>\n",
       "    <tr>\n",
       "      <th>Logistic Regression</th>\n",
       "      <td>0.905660</td>\n",
       "      <td>0.000000</td>\n",
       "      <td>0.000000</td>\n",
       "      <td>0.000000</td>\n",
       "      <td>0.000000</td>\n",
       "      <td>0.094340</td>\n",
       "      <td>0.500000</td>\n",
       "    </tr>\n",
       "    <tr>\n",
       "      <th>Decision Tree</th>\n",
       "      <td>0.966782</td>\n",
       "      <td>0.873377</td>\n",
       "      <td>0.757746</td>\n",
       "      <td>0.811463</td>\n",
       "      <td>0.010364</td>\n",
       "      <td>0.022854</td>\n",
       "      <td>0.873151</td>\n",
       "    </tr>\n",
       "    <tr>\n",
       "      <th>Random Forest</th>\n",
       "      <td>0.945788</td>\n",
       "      <td>1.000000</td>\n",
       "      <td>0.425352</td>\n",
       "      <td>0.596838</td>\n",
       "      <td>0.000000</td>\n",
       "      <td>0.054212</td>\n",
       "      <td>0.712676</td>\n",
       "    </tr>\n",
       "    <tr>\n",
       "      <th>Gradient Boosting Tree</th>\n",
       "      <td>0.977943</td>\n",
       "      <td>0.962585</td>\n",
       "      <td>0.797183</td>\n",
       "      <td>0.872111</td>\n",
       "      <td>0.002923</td>\n",
       "      <td>0.019134</td>\n",
       "      <td>0.896978</td>\n",
       "    </tr>\n",
       "    <tr>\n",
       "      <th>Naive Bayes</th>\n",
       "      <td>0.977943</td>\n",
       "      <td>0.965753</td>\n",
       "      <td>0.794366</td>\n",
       "      <td>0.871716</td>\n",
       "      <td>0.002657</td>\n",
       "      <td>0.019399</td>\n",
       "      <td>0.895716</td>\n",
       "    </tr>\n",
       "  </tbody>\n",
       "</table>\n",
       "</div>"
      ],
      "text/plain": [
       "                        Accuracy  Precision    Recall  F1 Score  \\\n",
       "Logistic Regression     0.905660   0.000000  0.000000  0.000000   \n",
       "Decision Tree           0.966782   0.873377  0.757746  0.811463   \n",
       "Random Forest           0.945788   1.000000  0.425352  0.596838   \n",
       "Gradient Boosting Tree  0.977943   0.962585  0.797183  0.872111   \n",
       "Naive Bayes             0.977943   0.965753  0.794366  0.871716   \n",
       "\n",
       "                        False Positive Rate  False Negative Rate  \\\n",
       "Logistic Regression                0.000000             0.094340   \n",
       "Decision Tree                      0.010364             0.022854   \n",
       "Random Forest                      0.000000             0.054212   \n",
       "Gradient Boosting Tree             0.002923             0.019134   \n",
       "Naive Bayes                        0.002657             0.019399   \n",
       "\n",
       "                        Area Under ROC Curve  \n",
       "Logistic Regression                 0.500000  \n",
       "Decision Tree                       0.873151  \n",
       "Random Forest                       0.712676  \n",
       "Gradient Boosting Tree              0.896978  \n",
       "Naive Bayes                         0.895716  "
      ]
     },
     "execution_count": 39,
     "metadata": {},
     "output_type": "execute_result"
    }
   ],
   "source": [
    "results_tfidf_2"
   ]
  },
  {
   "cell_type": "markdown",
   "id": "5517f31e",
   "metadata": {},
   "source": [
    "### Word2Vec"
   ]
  },
  {
   "cell_type": "code",
   "execution_count": 40,
   "id": "4c76965f",
   "metadata": {},
   "outputs": [],
   "source": [
    "models = [lr_word2vec_2, dt_word2vec_2, rf_word2vec_2, gb_word2vec_2, nb_word2vec_2]\n",
    "names = ['Logistic Regression', 'Decision Tree', 'Random Forest', 'Gradient Boosting Tree', 'Naive Bayes']"
   ]
  },
  {
   "cell_type": "code",
   "execution_count": 41,
   "id": "f9744de6",
   "metadata": {},
   "outputs": [],
   "source": [
    "results_word2vec_2 = ml.multi_model_results(models, names, word2vec_test_2['features'], word2vec_test_2['target'])"
   ]
  },
  {
   "cell_type": "code",
   "execution_count": 42,
   "id": "c88eee36",
   "metadata": {
    "scrolled": true
   },
   "outputs": [
    {
     "data": {
      "text/html": [
       "<div>\n",
       "<style scoped>\n",
       "    .dataframe tbody tr th:only-of-type {\n",
       "        vertical-align: middle;\n",
       "    }\n",
       "\n",
       "    .dataframe tbody tr th {\n",
       "        vertical-align: top;\n",
       "    }\n",
       "\n",
       "    .dataframe thead th {\n",
       "        text-align: right;\n",
       "    }\n",
       "</style>\n",
       "<table border=\"1\" class=\"dataframe\">\n",
       "  <thead>\n",
       "    <tr style=\"text-align: right;\">\n",
       "      <th></th>\n",
       "      <th>Accuracy</th>\n",
       "      <th>Precision</th>\n",
       "      <th>Recall</th>\n",
       "      <th>F1 Score</th>\n",
       "      <th>False Positive Rate</th>\n",
       "      <th>False Negative Rate</th>\n",
       "      <th>Area Under ROC Curve</th>\n",
       "    </tr>\n",
       "  </thead>\n",
       "  <tbody>\n",
       "    <tr>\n",
       "      <th>Logistic Regression</th>\n",
       "      <td>0.905926</td>\n",
       "      <td>1.000000</td>\n",
       "      <td>0.002817</td>\n",
       "      <td>0.005618</td>\n",
       "      <td>0.000000</td>\n",
       "      <td>0.094074</td>\n",
       "      <td>0.501408</td>\n",
       "    </tr>\n",
       "    <tr>\n",
       "      <th>Decision Tree</th>\n",
       "      <td>0.973691</td>\n",
       "      <td>0.880952</td>\n",
       "      <td>0.833803</td>\n",
       "      <td>0.856729</td>\n",
       "      <td>0.010630</td>\n",
       "      <td>0.015679</td>\n",
       "      <td>0.911033</td>\n",
       "    </tr>\n",
       "    <tr>\n",
       "      <th>Random Forest</th>\n",
       "      <td>0.979006</td>\n",
       "      <td>0.963087</td>\n",
       "      <td>0.808451</td>\n",
       "      <td>0.879020</td>\n",
       "      <td>0.002923</td>\n",
       "      <td>0.018071</td>\n",
       "      <td>0.902612</td>\n",
       "    </tr>\n",
       "    <tr>\n",
       "      <th>Gradient Boosting Tree</th>\n",
       "      <td>0.985915</td>\n",
       "      <td>0.960366</td>\n",
       "      <td>0.887324</td>\n",
       "      <td>0.922401</td>\n",
       "      <td>0.003455</td>\n",
       "      <td>0.010630</td>\n",
       "      <td>0.941755</td>\n",
       "    </tr>\n",
       "    <tr>\n",
       "      <th>Naive Bayes</th>\n",
       "      <td>0.927452</td>\n",
       "      <td>0.569257</td>\n",
       "      <td>0.949296</td>\n",
       "      <td>0.711721</td>\n",
       "      <td>0.067765</td>\n",
       "      <td>0.004783</td>\n",
       "      <td>0.937236</td>\n",
       "    </tr>\n",
       "  </tbody>\n",
       "</table>\n",
       "</div>"
      ],
      "text/plain": [
       "                        Accuracy  Precision    Recall  F1 Score  \\\n",
       "Logistic Regression     0.905926   1.000000  0.002817  0.005618   \n",
       "Decision Tree           0.973691   0.880952  0.833803  0.856729   \n",
       "Random Forest           0.979006   0.963087  0.808451  0.879020   \n",
       "Gradient Boosting Tree  0.985915   0.960366  0.887324  0.922401   \n",
       "Naive Bayes             0.927452   0.569257  0.949296  0.711721   \n",
       "\n",
       "                        False Positive Rate  False Negative Rate  \\\n",
       "Logistic Regression                0.000000             0.094074   \n",
       "Decision Tree                      0.010630             0.015679   \n",
       "Random Forest                      0.002923             0.018071   \n",
       "Gradient Boosting Tree             0.003455             0.010630   \n",
       "Naive Bayes                        0.067765             0.004783   \n",
       "\n",
       "                        Area Under ROC Curve  \n",
       "Logistic Regression                 0.501408  \n",
       "Decision Tree                       0.911033  \n",
       "Random Forest                       0.902612  \n",
       "Gradient Boosting Tree              0.941755  \n",
       "Naive Bayes                         0.937236  "
      ]
     },
     "execution_count": 42,
     "metadata": {},
     "output_type": "execute_result"
    }
   ],
   "source": [
    "results_word2vec_2"
   ]
  }
 ],
 "metadata": {
  "kernelspec": {
   "display_name": "Python 3 (ipykernel)",
   "language": "python",
   "name": "python3"
  },
  "language_info": {
   "codemirror_mode": {
    "name": "ipython",
    "version": 3
   },
   "file_extension": ".py",
   "mimetype": "text/x-python",
   "name": "python",
   "nbconvert_exporter": "python",
   "pygments_lexer": "ipython3",
   "version": "3.8.10"
  }
 },
 "nbformat": 4,
 "nbformat_minor": 5
}
