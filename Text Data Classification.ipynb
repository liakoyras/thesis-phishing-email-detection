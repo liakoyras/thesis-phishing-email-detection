{
 "cells": [
  {
   "cell_type": "code",
   "execution_count": 1,
   "id": "e3e47315",
   "metadata": {},
   "outputs": [],
   "source": [
    "import os\n",
    "import pandas as pd\n",
    "pd.options.display.max_columns = 250\n",
    "\n",
    "import machine_learning as ml\n",
    "\n",
    "from ast import literal_eval"
   ]
  },
  {
   "cell_type": "code",
   "execution_count": 2,
   "id": "0d5f5452",
   "metadata": {},
   "outputs": [],
   "source": [
    "# Path\n",
    "csv_path = './data/csv/'\n",
    "\n",
    "train = {\n",
    "    'tfidf_sel' : ['tfidf_chi2_train_1.csv','tfidf_chi2_train_2.csv'],\n",
    "    'word2vec' : ['word2vec_train_1.csv','word2vec_train_2.csv']\n",
    "}\n",
    "test = {\n",
    "    'tfidf_sel' : ['tfidf_chi2_test_1.csv','tfidf_chi2_test_2.csv'],\n",
    "    'word2vec' : ['word2vec_test_1.csv','word2vec_test_2.csv']\n",
    "}"
   ]
  },
  {
   "cell_type": "markdown",
   "id": "cdd344a5",
   "metadata": {},
   "source": [
    "# Balanced Dataset"
   ]
  },
  {
   "cell_type": "markdown",
   "id": "3b7e26a8",
   "metadata": {},
   "source": [
    "## Train TF-IDF"
   ]
  },
  {
   "cell_type": "code",
   "execution_count": 3,
   "id": "68b24fcf",
   "metadata": {},
   "outputs": [],
   "source": [
    "tfidf_train_1 = pd.read_csv(os.path.join(csv_path, train['tfidf_sel'][0]), index_col=0)\n",
    "tfidf_test_1 = pd.read_csv(os.path.join(csv_path, test['tfidf_sel'][0]), index_col=0)"
   ]
  },
  {
   "cell_type": "code",
   "execution_count": 4,
   "id": "3fef1817",
   "metadata": {},
   "outputs": [],
   "source": [
    "tfidf_train_1 = ml.separate_features_target(tfidf_train_1)\n",
    "tfidf_test_1 = ml.separate_features_target(tfidf_test_1)"
   ]
  },
  {
   "cell_type": "markdown",
   "id": "e4822482",
   "metadata": {},
   "source": [
    "### Logistic Regression"
   ]
  },
  {
   "cell_type": "code",
   "execution_count": 5,
   "id": "e7716a3e",
   "metadata": {},
   "outputs": [
    {
     "name": "stdout",
     "output_type": "stream",
     "text": [
      "Train accuracy: 0.9944893460690669\n"
     ]
    }
   ],
   "source": [
    "lr = ml.train_logistic_regression(tfidf_train_1['features'], tfidf_train_1['target'], show_train_accuracy=1)"
   ]
  },
  {
   "cell_type": "markdown",
   "id": "b7a9e7f3",
   "metadata": {},
   "source": [
    "### Decision Tree"
   ]
  },
  {
   "cell_type": "code",
   "execution_count": 6,
   "id": "b3afe4bf",
   "metadata": {
    "scrolled": true
   },
   "outputs": [
    {
     "name": "stdout",
     "output_type": "stream",
     "text": [
      "Train accuracy: 0.9357090374724467\n"
     ]
    }
   ],
   "source": [
    "dt = ml.train_decision_tree(tfidf_train_1['features'], tfidf_train_1['target'], show_train_accuracy=1)"
   ]
  },
  {
   "cell_type": "markdown",
   "id": "db543988",
   "metadata": {},
   "source": [
    "### Random Forest"
   ]
  },
  {
   "cell_type": "code",
   "execution_count": 7,
   "id": "ce68fc8b",
   "metadata": {
    "scrolled": true
   },
   "outputs": [
    {
     "name": "stdout",
     "output_type": "stream",
     "text": [
      "Train accuracy: 0.9474650991917708\n"
     ]
    }
   ],
   "source": [
    "rf = ml.train_random_forest(tfidf_train_1['features'], tfidf_train_1['target'], show_train_accuracy=1)"
   ]
  },
  {
   "cell_type": "markdown",
   "id": "8aa26cea",
   "metadata": {},
   "source": [
    "### Gradient Boosting Tree"
   ]
  },
  {
   "cell_type": "code",
   "execution_count": 8,
   "id": "10ce2b95",
   "metadata": {
    "scrolled": true
   },
   "outputs": [
    {
     "name": "stdout",
     "output_type": "stream",
     "text": [
      "Train accuracy: 0.9757531227038942\n"
     ]
    }
   ],
   "source": [
    "gb = ml.train_gradient_boost(tfidf_train_1['features'], tfidf_train_1['target'], show_train_accuracy=1)"
   ]
  },
  {
   "cell_type": "markdown",
   "id": "ad85d297",
   "metadata": {},
   "source": [
    "### Naive Bayes"
   ]
  },
  {
   "cell_type": "code",
   "execution_count": 9,
   "id": "0a3863de",
   "metadata": {},
   "outputs": [
    {
     "name": "stdout",
     "output_type": "stream",
     "text": [
      "Train accuracy: 0.9717119764878765\n"
     ]
    }
   ],
   "source": [
    "nb = ml.train_naive_bayes(tfidf_train_1['features'], tfidf_train_1['target'], show_train_accuracy=1)"
   ]
  },
  {
   "cell_type": "markdown",
   "id": "4727aa2e",
   "metadata": {},
   "source": [
    "## Results"
   ]
  },
  {
   "cell_type": "markdown",
   "id": "68f7044b",
   "metadata": {},
   "source": [
    "### TF-IDF"
   ]
  },
  {
   "cell_type": "code",
   "execution_count": 10,
   "id": "75d2c24f",
   "metadata": {},
   "outputs": [],
   "source": [
    "models = [lr, dt, rf, gb, nb]\n",
    "names = ['Logistic Regression', 'Decision Tree', 'Random Forest', 'Gradient Boosting Tree', 'Naive Bayes']"
   ]
  },
  {
   "cell_type": "code",
   "execution_count": 11,
   "id": "ba0030a8",
   "metadata": {},
   "outputs": [],
   "source": [
    "results_tfidf = ml.multi_model_results(models, names, tfidf_test_1['features'], tfidf_test_1['target'])"
   ]
  },
  {
   "cell_type": "code",
   "execution_count": 12,
   "id": "00241610",
   "metadata": {
    "scrolled": true
   },
   "outputs": [
    {
     "data": {
      "text/html": [
       "<div>\n",
       "<style scoped>\n",
       "    .dataframe tbody tr th:only-of-type {\n",
       "        vertical-align: middle;\n",
       "    }\n",
       "\n",
       "    .dataframe tbody tr th {\n",
       "        vertical-align: top;\n",
       "    }\n",
       "\n",
       "    .dataframe thead th {\n",
       "        text-align: right;\n",
       "    }\n",
       "</style>\n",
       "<table border=\"1\" class=\"dataframe\">\n",
       "  <thead>\n",
       "    <tr style=\"text-align: right;\">\n",
       "      <th></th>\n",
       "      <th>Accuracy</th>\n",
       "      <th>Precision</th>\n",
       "      <th>Recall</th>\n",
       "      <th>F1 Score</th>\n",
       "      <th>False Positive Rate</th>\n",
       "      <th>False Negative Rate</th>\n",
       "      <th>Area Under ROC Curve</th>\n",
       "    </tr>\n",
       "  </thead>\n",
       "  <tbody>\n",
       "    <tr>\n",
       "      <th>Logistic Regression</th>\n",
       "      <td>0.958884</td>\n",
       "      <td>0.964179</td>\n",
       "      <td>0.952802</td>\n",
       "      <td>0.958457</td>\n",
       "      <td>0.017621</td>\n",
       "      <td>0.023495</td>\n",
       "      <td>0.958857</td>\n",
       "    </tr>\n",
       "    <tr>\n",
       "      <th>Decision Tree</th>\n",
       "      <td>0.917768</td>\n",
       "      <td>0.954984</td>\n",
       "      <td>0.876106</td>\n",
       "      <td>0.913846</td>\n",
       "      <td>0.020558</td>\n",
       "      <td>0.061674</td>\n",
       "      <td>0.917585</td>\n",
       "    </tr>\n",
       "    <tr>\n",
       "      <th>Random Forest</th>\n",
       "      <td>0.933921</td>\n",
       "      <td>0.962264</td>\n",
       "      <td>0.902655</td>\n",
       "      <td>0.931507</td>\n",
       "      <td>0.017621</td>\n",
       "      <td>0.048458</td>\n",
       "      <td>0.933784</td>\n",
       "    </tr>\n",
       "    <tr>\n",
       "      <th>Gradient Boosting Tree</th>\n",
       "      <td>0.939794</td>\n",
       "      <td>0.968553</td>\n",
       "      <td>0.908555</td>\n",
       "      <td>0.937595</td>\n",
       "      <td>0.014684</td>\n",
       "      <td>0.045521</td>\n",
       "      <td>0.939657</td>\n",
       "    </tr>\n",
       "    <tr>\n",
       "      <th>Naive Bayes</th>\n",
       "      <td>0.963289</td>\n",
       "      <td>0.959064</td>\n",
       "      <td>0.967552</td>\n",
       "      <td>0.963289</td>\n",
       "      <td>0.020558</td>\n",
       "      <td>0.016153</td>\n",
       "      <td>0.963308</td>\n",
       "    </tr>\n",
       "  </tbody>\n",
       "</table>\n",
       "</div>"
      ],
      "text/plain": [
       "                        Accuracy  Precision    Recall  F1 Score  \\\n",
       "Logistic Regression     0.958884   0.964179  0.952802  0.958457   \n",
       "Decision Tree           0.917768   0.954984  0.876106  0.913846   \n",
       "Random Forest           0.933921   0.962264  0.902655  0.931507   \n",
       "Gradient Boosting Tree  0.939794   0.968553  0.908555  0.937595   \n",
       "Naive Bayes             0.963289   0.959064  0.967552  0.963289   \n",
       "\n",
       "                        False Positive Rate  False Negative Rate  \\\n",
       "Logistic Regression                0.017621             0.023495   \n",
       "Decision Tree                      0.020558             0.061674   \n",
       "Random Forest                      0.017621             0.048458   \n",
       "Gradient Boosting Tree             0.014684             0.045521   \n",
       "Naive Bayes                        0.020558             0.016153   \n",
       "\n",
       "                        Area Under ROC Curve  \n",
       "Logistic Regression                 0.958857  \n",
       "Decision Tree                       0.917585  \n",
       "Random Forest                       0.933784  \n",
       "Gradient Boosting Tree              0.939657  \n",
       "Naive Bayes                         0.963308  "
      ]
     },
     "execution_count": 12,
     "metadata": {},
     "output_type": "execute_result"
    }
   ],
   "source": [
    "results_tfidf"
   ]
  }
 ],
 "metadata": {
  "kernelspec": {
   "display_name": "Python 3 (ipykernel)",
   "language": "python",
   "name": "python3"
  },
  "language_info": {
   "codemirror_mode": {
    "name": "ipython",
    "version": 3
   },
   "file_extension": ".py",
   "mimetype": "text/x-python",
   "name": "python",
   "nbconvert_exporter": "python",
   "pygments_lexer": "ipython3",
   "version": "3.8.10"
  }
 },
 "nbformat": 4,
 "nbformat_minor": 5
}
