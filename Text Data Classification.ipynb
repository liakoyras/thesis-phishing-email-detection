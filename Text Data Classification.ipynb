{
 "cells": [
  {
   "cell_type": "code",
   "execution_count": 1,
   "id": "c8118a23",
   "metadata": {},
   "outputs": [],
   "source": [
    "import os\n",
    "import pandas as pd\n",
    "pd.options.display.max_columns = 250\n",
    "\n",
    "import machine_learning as ml\n",
    "\n",
    "from ast import literal_eval"
   ]
  },
  {
   "cell_type": "code",
   "execution_count": 2,
   "id": "0ff8db16",
   "metadata": {},
   "outputs": [],
   "source": [
    "# Path\n",
    "csv_path = './data/csv/'\n",
    "\n",
    "train = {\n",
    "    'tfidf_sel' : ['tfidf_chi2_train_1.csv','tfidf_chi2_train_2.csv'],\n",
    "    'word2vec' : ['word2vec_train_1.csv','word2vec_train_2.csv']\n",
    "}\n",
    "test = {\n",
    "    'tfidf_sel' : ['tfidf_chi2_test_1.csv','tfidf_chi2_test_2.csv'],\n",
    "    'word2vec' : ['word2vec_test_1.csv','word2vec_test_2.csv']\n",
    "}"
   ]
  },
  {
   "cell_type": "markdown",
   "id": "61a29f52",
   "metadata": {},
   "source": [
    "# Balanced Dataset"
   ]
  },
  {
   "cell_type": "markdown",
   "id": "68eb0223",
   "metadata": {},
   "source": [
    "## Train TF-IDF"
   ]
  },
  {
   "cell_type": "code",
   "execution_count": 3,
   "id": "a46744f5",
   "metadata": {},
   "outputs": [],
   "source": [
    "tfidf_train_1 = pd.read_csv(os.path.join(csv_path, train['tfidf_sel'][0]), index_col=0)\n",
    "tfidf_test_1 = pd.read_csv(os.path.join(csv_path, test['tfidf_sel'][0]), index_col=0)"
   ]
  },
  {
   "cell_type": "code",
   "execution_count": 4,
   "id": "09869425",
   "metadata": {},
   "outputs": [],
   "source": [
    "tfidf_train_1 = ml.separate_features_target(tfidf_train_1)\n",
    "tfidf_test_1 = ml.separate_features_target(tfidf_test_1)"
   ]
  },
  {
   "cell_type": "markdown",
   "id": "4990745a",
   "metadata": {},
   "source": [
    "### Logistic Regression"
   ]
  },
  {
   "cell_type": "code",
   "execution_count": 5,
   "id": "0927005d",
   "metadata": {
    "scrolled": true
   },
   "outputs": [
    {
     "name": "stdout",
     "output_type": "stream",
     "text": [
      "Train accuracy: 0.9944893460690669\n"
     ]
    }
   ],
   "source": [
    "lr_tfidf = ml.train_logistic_regression(tfidf_train_1['features'], tfidf_train_1['target'], show_train_accuracy=1)"
   ]
  },
  {
   "cell_type": "markdown",
   "id": "cb43800c",
   "metadata": {},
   "source": [
    "### Decision Tree"
   ]
  },
  {
   "cell_type": "code",
   "execution_count": 6,
   "id": "7c995618",
   "metadata": {
    "scrolled": true
   },
   "outputs": [
    {
     "name": "stdout",
     "output_type": "stream",
     "text": [
      "Train accuracy: 0.9357090374724467\n"
     ]
    }
   ],
   "source": [
    "dt_tfidf = ml.train_decision_tree(tfidf_train_1['features'], tfidf_train_1['target'], show_train_accuracy=1)"
   ]
  },
  {
   "cell_type": "markdown",
   "id": "be0a9ee0",
   "metadata": {},
   "source": [
    "### Random Forest"
   ]
  },
  {
   "cell_type": "code",
   "execution_count": 7,
   "id": "626dcf56",
   "metadata": {
    "scrolled": true
   },
   "outputs": [
    {
     "name": "stdout",
     "output_type": "stream",
     "text": [
      "Train accuracy: 0.9474650991917708\n"
     ]
    }
   ],
   "source": [
    "rf_tfidf = ml.train_random_forest(tfidf_train_1['features'], tfidf_train_1['target'], show_train_accuracy=1)"
   ]
  },
  {
   "cell_type": "markdown",
   "id": "c694aed7",
   "metadata": {},
   "source": [
    "### Gradient Boosting Tree"
   ]
  },
  {
   "cell_type": "code",
   "execution_count": 8,
   "id": "a39bc556",
   "metadata": {
    "scrolled": true
   },
   "outputs": [
    {
     "name": "stdout",
     "output_type": "stream",
     "text": [
      "Train accuracy: 0.9757531227038942\n"
     ]
    }
   ],
   "source": [
    "gb_tfidf = ml.train_gradient_boost(tfidf_train_1['features'], tfidf_train_1['target'], show_train_accuracy=1)"
   ]
  },
  {
   "cell_type": "markdown",
   "id": "a67eb257",
   "metadata": {},
   "source": [
    "### Naive Bayes"
   ]
  },
  {
   "cell_type": "code",
   "execution_count": 9,
   "id": "6ee50715",
   "metadata": {
    "scrolled": false
   },
   "outputs": [
    {
     "name": "stdout",
     "output_type": "stream",
     "text": [
      "Train accuracy: 0.9717119764878765\n"
     ]
    }
   ],
   "source": [
    "nb_tfidf = ml.train_naive_bayes(tfidf_train_1['features'], tfidf_train_1['target'], show_train_accuracy=1)"
   ]
  },
  {
   "cell_type": "markdown",
   "id": "5e7aca46",
   "metadata": {},
   "source": [
    "## Train Word2Vec"
   ]
  },
  {
   "cell_type": "code",
   "execution_count": 10,
   "id": "3c5669fe",
   "metadata": {},
   "outputs": [],
   "source": [
    "word2vec_train_1 = pd.read_csv(os.path.join(csv_path, train['word2vec'][0]), index_col=0)\n",
    "word2vec_test_1 = pd.read_csv(os.path.join(csv_path, test['word2vec'][0]), index_col=0)"
   ]
  },
  {
   "cell_type": "code",
   "execution_count": 11,
   "id": "5d40ded2",
   "metadata": {},
   "outputs": [],
   "source": [
    "word2vec_train_1 = ml.separate_features_target(word2vec_train_1)\n",
    "word2vec_test_1 = ml.separate_features_target(word2vec_test_1)"
   ]
  },
  {
   "cell_type": "markdown",
   "id": "e553aa83",
   "metadata": {},
   "source": [
    "### Logistic Regression"
   ]
  },
  {
   "cell_type": "code",
   "execution_count": 12,
   "id": "1525f189",
   "metadata": {
    "scrolled": true
   },
   "outputs": [
    {
     "name": "stdout",
     "output_type": "stream",
     "text": [
      "Train accuracy: 0.9919177075679647\n"
     ]
    },
    {
     "name": "stderr",
     "output_type": "stream",
     "text": [
      "/home/ichanis/.local/lib/python3.8/site-packages/sklearn/linear_model/_logistic.py:444: ConvergenceWarning: lbfgs failed to converge (status=1):\n",
      "STOP: TOTAL NO. of ITERATIONS REACHED LIMIT.\n",
      "\n",
      "Increase the number of iterations (max_iter) or scale the data as shown in:\n",
      "    https://scikit-learn.org/stable/modules/preprocessing.html\n",
      "Please also refer to the documentation for alternative solver options:\n",
      "    https://scikit-learn.org/stable/modules/linear_model.html#logistic-regression\n",
      "  n_iter_i = _check_optimize_result(\n"
     ]
    }
   ],
   "source": [
    "lr_word2vec = ml.train_logistic_regression(word2vec_train_1['features'], word2vec_train_1['target'], show_train_accuracy=1)"
   ]
  },
  {
   "cell_type": "markdown",
   "id": "4db5e4ad",
   "metadata": {},
   "source": [
    "### Decision Tree"
   ]
  },
  {
   "cell_type": "code",
   "execution_count": 13,
   "id": "7f5cb876",
   "metadata": {
    "scrolled": true
   },
   "outputs": [
    {
     "name": "stdout",
     "output_type": "stream",
     "text": [
      "Train accuracy: 0.9856722997795738\n"
     ]
    }
   ],
   "source": [
    "dt_word2vec = ml.train_decision_tree(word2vec_train_1['features'], word2vec_train_1['target'], show_train_accuracy=1)"
   ]
  },
  {
   "cell_type": "markdown",
   "id": "4f34133a",
   "metadata": {},
   "source": [
    "### Random Forest"
   ]
  },
  {
   "cell_type": "code",
   "execution_count": 14,
   "id": "6fc28299",
   "metadata": {
    "scrolled": true
   },
   "outputs": [
    {
     "name": "stdout",
     "output_type": "stream",
     "text": [
      "Train accuracy: 0.9805290227773695\n"
     ]
    }
   ],
   "source": [
    "rf_word2vec = ml.train_random_forest(word2vec_train_1['features'], word2vec_train_1['target'], show_train_accuracy=1)"
   ]
  },
  {
   "cell_type": "markdown",
   "id": "ef96cf1f",
   "metadata": {},
   "source": [
    "### Gradient Boosting Tree"
   ]
  },
  {
   "cell_type": "code",
   "execution_count": 15,
   "id": "9339ac55",
   "metadata": {
    "scrolled": true
   },
   "outputs": [
    {
     "name": "stdout",
     "output_type": "stream",
     "text": [
      "Train accuracy: 0.9955914768552535\n"
     ]
    }
   ],
   "source": [
    "gb_word2vec = ml.train_gradient_boost(word2vec_train_1['features'], word2vec_train_1['target'], show_train_accuracy=1)"
   ]
  },
  {
   "cell_type": "markdown",
   "id": "1f0927bd",
   "metadata": {},
   "source": [
    "### Naive Bayes"
   ]
  },
  {
   "cell_type": "code",
   "execution_count": 16,
   "id": "77b88eca",
   "metadata": {
    "scrolled": true
   },
   "outputs": [
    {
     "name": "stdout",
     "output_type": "stream",
     "text": [
      "Train accuracy: 0.9434239529757531\n"
     ]
    }
   ],
   "source": [
    "nb_word2vec = ml.train_naive_bayes(word2vec_train_1['features'], word2vec_train_1['target'], remove_negatives=True, show_train_accuracy=1)"
   ]
  },
  {
   "cell_type": "markdown",
   "id": "c9e75170",
   "metadata": {},
   "source": [
    "## Results"
   ]
  },
  {
   "cell_type": "markdown",
   "id": "66b94e9f",
   "metadata": {},
   "source": [
    "### TF-IDF"
   ]
  },
  {
   "cell_type": "code",
   "execution_count": 17,
   "id": "2bf58057",
   "metadata": {},
   "outputs": [],
   "source": [
    "models = [lr_tfidf, dt_tfidf, rf_tfidf, gb_tfidf, nb_tfidf]\n",
    "names = ['Logistic Regression', 'Decision Tree', 'Random Forest', 'Gradient Boosting Tree', 'Naive Bayes']"
   ]
  },
  {
   "cell_type": "code",
   "execution_count": 18,
   "id": "67f9755f",
   "metadata": {},
   "outputs": [],
   "source": [
    "results_tfidf = ml.multi_model_results(models, names, tfidf_test_1['features'], tfidf_test_1['target'])"
   ]
  },
  {
   "cell_type": "code",
   "execution_count": 19,
   "id": "333b0d82",
   "metadata": {
    "scrolled": true
   },
   "outputs": [
    {
     "data": {
      "text/html": [
       "<div>\n",
       "<style scoped>\n",
       "    .dataframe tbody tr th:only-of-type {\n",
       "        vertical-align: middle;\n",
       "    }\n",
       "\n",
       "    .dataframe tbody tr th {\n",
       "        vertical-align: top;\n",
       "    }\n",
       "\n",
       "    .dataframe thead th {\n",
       "        text-align: right;\n",
       "    }\n",
       "</style>\n",
       "<table border=\"1\" class=\"dataframe\">\n",
       "  <thead>\n",
       "    <tr style=\"text-align: right;\">\n",
       "      <th></th>\n",
       "      <th>Accuracy</th>\n",
       "      <th>Precision</th>\n",
       "      <th>Recall</th>\n",
       "      <th>F1 Score</th>\n",
       "      <th>False Positive Rate</th>\n",
       "      <th>False Negative Rate</th>\n",
       "      <th>Area Under ROC Curve</th>\n",
       "    </tr>\n",
       "  </thead>\n",
       "  <tbody>\n",
       "    <tr>\n",
       "      <th>Logistic Regression</th>\n",
       "      <td>0.944200</td>\n",
       "      <td>0.980831</td>\n",
       "      <td>0.905605</td>\n",
       "      <td>0.941718</td>\n",
       "      <td>0.008811</td>\n",
       "      <td>0.046990</td>\n",
       "      <td>0.944030</td>\n",
       "    </tr>\n",
       "    <tr>\n",
       "      <th>Decision Tree</th>\n",
       "      <td>0.917768</td>\n",
       "      <td>0.954984</td>\n",
       "      <td>0.876106</td>\n",
       "      <td>0.913846</td>\n",
       "      <td>0.020558</td>\n",
       "      <td>0.061674</td>\n",
       "      <td>0.917585</td>\n",
       "    </tr>\n",
       "    <tr>\n",
       "      <th>Random Forest</th>\n",
       "      <td>0.933921</td>\n",
       "      <td>0.962264</td>\n",
       "      <td>0.902655</td>\n",
       "      <td>0.931507</td>\n",
       "      <td>0.017621</td>\n",
       "      <td>0.048458</td>\n",
       "      <td>0.933784</td>\n",
       "    </tr>\n",
       "    <tr>\n",
       "      <th>Gradient Boosting Tree</th>\n",
       "      <td>0.939794</td>\n",
       "      <td>0.968553</td>\n",
       "      <td>0.908555</td>\n",
       "      <td>0.937595</td>\n",
       "      <td>0.014684</td>\n",
       "      <td>0.045521</td>\n",
       "      <td>0.939657</td>\n",
       "    </tr>\n",
       "    <tr>\n",
       "      <th>Naive Bayes</th>\n",
       "      <td>0.963289</td>\n",
       "      <td>0.959064</td>\n",
       "      <td>0.967552</td>\n",
       "      <td>0.963289</td>\n",
       "      <td>0.020558</td>\n",
       "      <td>0.016153</td>\n",
       "      <td>0.963308</td>\n",
       "    </tr>\n",
       "  </tbody>\n",
       "</table>\n",
       "</div>"
      ],
      "text/plain": [
       "                        Accuracy  Precision    Recall  F1 Score  \\\n",
       "Logistic Regression     0.944200   0.980831  0.905605  0.941718   \n",
       "Decision Tree           0.917768   0.954984  0.876106  0.913846   \n",
       "Random Forest           0.933921   0.962264  0.902655  0.931507   \n",
       "Gradient Boosting Tree  0.939794   0.968553  0.908555  0.937595   \n",
       "Naive Bayes             0.963289   0.959064  0.967552  0.963289   \n",
       "\n",
       "                        False Positive Rate  False Negative Rate  \\\n",
       "Logistic Regression                0.008811             0.046990   \n",
       "Decision Tree                      0.020558             0.061674   \n",
       "Random Forest                      0.017621             0.048458   \n",
       "Gradient Boosting Tree             0.014684             0.045521   \n",
       "Naive Bayes                        0.020558             0.016153   \n",
       "\n",
       "                        Area Under ROC Curve  \n",
       "Logistic Regression                 0.944030  \n",
       "Decision Tree                       0.917585  \n",
       "Random Forest                       0.933784  \n",
       "Gradient Boosting Tree              0.939657  \n",
       "Naive Bayes                         0.963308  "
      ]
     },
     "execution_count": 19,
     "metadata": {},
     "output_type": "execute_result"
    }
   ],
   "source": [
    "results_tfidf"
   ]
  },
  {
   "cell_type": "markdown",
   "id": "fcf4c38d",
   "metadata": {},
   "source": [
    "### Word2Vec"
   ]
  },
  {
   "cell_type": "code",
   "execution_count": 20,
   "id": "2b6987b2",
   "metadata": {},
   "outputs": [],
   "source": [
    "models = [lr_word2vec, dt_word2vec, rf_word2vec, gb_word2vec, nb_word2vec]\n",
    "names = ['Logistic Regression', 'Decision Tree', 'Random Forest', 'Gradient Boosting Tree', 'Naive Bayes']"
   ]
  },
  {
   "cell_type": "code",
   "execution_count": 21,
   "id": "f45961b5",
   "metadata": {},
   "outputs": [],
   "source": [
    "results_word2vec = ml.multi_model_results(models, names, word2vec_test_1['features'], word2vec_test_1['target'])"
   ]
  },
  {
   "cell_type": "code",
   "execution_count": 22,
   "id": "fa64ab5f",
   "metadata": {
    "scrolled": false
   },
   "outputs": [
    {
     "data": {
      "text/html": [
       "<div>\n",
       "<style scoped>\n",
       "    .dataframe tbody tr th:only-of-type {\n",
       "        vertical-align: middle;\n",
       "    }\n",
       "\n",
       "    .dataframe tbody tr th {\n",
       "        vertical-align: top;\n",
       "    }\n",
       "\n",
       "    .dataframe thead th {\n",
       "        text-align: right;\n",
       "    }\n",
       "</style>\n",
       "<table border=\"1\" class=\"dataframe\">\n",
       "  <thead>\n",
       "    <tr style=\"text-align: right;\">\n",
       "      <th></th>\n",
       "      <th>Accuracy</th>\n",
       "      <th>Precision</th>\n",
       "      <th>Recall</th>\n",
       "      <th>F1 Score</th>\n",
       "      <th>False Positive Rate</th>\n",
       "      <th>False Negative Rate</th>\n",
       "      <th>Area Under ROC Curve</th>\n",
       "    </tr>\n",
       "  </thead>\n",
       "  <tbody>\n",
       "    <tr>\n",
       "      <th>Logistic Regression</th>\n",
       "      <td>0.537445</td>\n",
       "      <td>0.519048</td>\n",
       "      <td>0.964602</td>\n",
       "      <td>0.674923</td>\n",
       "      <td>0.444934</td>\n",
       "      <td>0.017621</td>\n",
       "      <td>0.539318</td>\n",
       "    </tr>\n",
       "    <tr>\n",
       "      <th>Decision Tree</th>\n",
       "      <td>0.960352</td>\n",
       "      <td>0.945714</td>\n",
       "      <td>0.976401</td>\n",
       "      <td>0.960813</td>\n",
       "      <td>0.027900</td>\n",
       "      <td>0.011747</td>\n",
       "      <td>0.960423</td>\n",
       "    </tr>\n",
       "    <tr>\n",
       "      <th>Random Forest</th>\n",
       "      <td>0.963289</td>\n",
       "      <td>0.959064</td>\n",
       "      <td>0.967552</td>\n",
       "      <td>0.963289</td>\n",
       "      <td>0.020558</td>\n",
       "      <td>0.016153</td>\n",
       "      <td>0.963308</td>\n",
       "    </tr>\n",
       "    <tr>\n",
       "      <th>Gradient Boosting Tree</th>\n",
       "      <td>0.964758</td>\n",
       "      <td>0.953890</td>\n",
       "      <td>0.976401</td>\n",
       "      <td>0.965015</td>\n",
       "      <td>0.023495</td>\n",
       "      <td>0.011747</td>\n",
       "      <td>0.964809</td>\n",
       "    </tr>\n",
       "    <tr>\n",
       "      <th>Naive Bayes</th>\n",
       "      <td>0.619677</td>\n",
       "      <td>0.567114</td>\n",
       "      <td>0.997050</td>\n",
       "      <td>0.722995</td>\n",
       "      <td>0.378855</td>\n",
       "      <td>0.001468</td>\n",
       "      <td>0.621332</td>\n",
       "    </tr>\n",
       "  </tbody>\n",
       "</table>\n",
       "</div>"
      ],
      "text/plain": [
       "                        Accuracy  Precision    Recall  F1 Score  \\\n",
       "Logistic Regression     0.537445   0.519048  0.964602  0.674923   \n",
       "Decision Tree           0.960352   0.945714  0.976401  0.960813   \n",
       "Random Forest           0.963289   0.959064  0.967552  0.963289   \n",
       "Gradient Boosting Tree  0.964758   0.953890  0.976401  0.965015   \n",
       "Naive Bayes             0.619677   0.567114  0.997050  0.722995   \n",
       "\n",
       "                        False Positive Rate  False Negative Rate  \\\n",
       "Logistic Regression                0.444934             0.017621   \n",
       "Decision Tree                      0.027900             0.011747   \n",
       "Random Forest                      0.020558             0.016153   \n",
       "Gradient Boosting Tree             0.023495             0.011747   \n",
       "Naive Bayes                        0.378855             0.001468   \n",
       "\n",
       "                        Area Under ROC Curve  \n",
       "Logistic Regression                 0.539318  \n",
       "Decision Tree                       0.960423  \n",
       "Random Forest                       0.963308  \n",
       "Gradient Boosting Tree              0.964809  \n",
       "Naive Bayes                         0.621332  "
      ]
     },
     "execution_count": 22,
     "metadata": {},
     "output_type": "execute_result"
    }
   ],
   "source": [
    "results_word2vec"
   ]
  }
 ],
 "metadata": {
  "kernelspec": {
   "display_name": "Python 3 (ipykernel)",
   "language": "python",
   "name": "python3"
  },
  "language_info": {
   "codemirror_mode": {
    "name": "ipython",
    "version": 3
   },
   "file_extension": ".py",
   "mimetype": "text/x-python",
   "name": "python",
   "nbconvert_exporter": "python",
   "pygments_lexer": "ipython3",
   "version": "3.8.10"
  }
 },
 "nbformat": 4,
 "nbformat_minor": 5
}
