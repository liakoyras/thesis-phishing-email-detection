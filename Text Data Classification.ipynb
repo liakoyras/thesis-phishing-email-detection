{
 "cells": [
  {
   "cell_type": "code",
   "execution_count": 1,
   "id": "861a7490",
   "metadata": {},
   "outputs": [],
   "source": [
    "import os\n",
    "import pandas as pd\n",
    "pd.options.display.max_columns = 250\n",
    "\n",
    "import machine_learning as ml\n",
    "\n",
    "from ast import literal_eval"
   ]
  },
  {
   "cell_type": "code",
   "execution_count": 2,
   "id": "003829a6",
   "metadata": {},
   "outputs": [],
   "source": [
    "# Path\n",
    "csv_path = './data/csv/'\n",
    "\n",
    "train = {\n",
    "    'tfidf_sel' : ['tfidf_chi2_train_1.csv','tfidf_chi2_train_2.csv'],\n",
    "    'word2vec' : ['word2vec_train_1.csv','word2vec_train_2.csv']\n",
    "}\n",
    "test = {\n",
    "    'tfidf_sel' : ['tfidf_chi2_test_1.csv','tfidf_chi2_test_2.csv'],\n",
    "    'word2vec' : ['word2vec_test_1.csv','word2vec_test_2.csv']\n",
    "}"
   ]
  },
  {
   "cell_type": "markdown",
   "id": "b882f60b",
   "metadata": {},
   "source": [
    "# Balanced Dataset"
   ]
  },
  {
   "cell_type": "markdown",
   "id": "ea8d533e",
   "metadata": {},
   "source": [
    "## TF-IDF"
   ]
  },
  {
   "cell_type": "code",
   "execution_count": 3,
   "id": "50547a93",
   "metadata": {},
   "outputs": [],
   "source": [
    "tfidf_train_1 = pd.read_csv(os.path.join(csv_path, train['tfidf_sel'][0]), index_col=0)\n",
    "tfidf_test_1 = pd.read_csv(os.path.join(csv_path, test['tfidf_sel'][0]), index_col=0)"
   ]
  },
  {
   "cell_type": "code",
   "execution_count": 4,
   "id": "9aa44f51",
   "metadata": {},
   "outputs": [],
   "source": [
    "tfidf_train_1 = ml.separate_features_target(tfidf_train_1)\n",
    "tfidf_test_1 = ml.separate_features_target(tfidf_test_1)"
   ]
  },
  {
   "cell_type": "markdown",
   "id": "80352082",
   "metadata": {},
   "source": [
    "### Logistic Regression"
   ]
  },
  {
   "cell_type": "code",
   "execution_count": 5,
   "id": "408576bc",
   "metadata": {},
   "outputs": [],
   "source": [
    "lr = ml.train_logistic_regression(tfidf_train_1['features'], tfidf_train_1['target'])"
   ]
  },
  {
   "cell_type": "markdown",
   "id": "a11b2162",
   "metadata": {},
   "source": [
    "## Results"
   ]
  },
  {
   "cell_type": "code",
   "execution_count": 6,
   "id": "36fe5647",
   "metadata": {},
   "outputs": [],
   "source": [
    "tfidf_1_results = ml.results(lr, tfidf_test_1['features'], tfidf_test_1['target'])"
   ]
  },
  {
   "cell_type": "code",
   "execution_count": 7,
   "id": "e079194b",
   "metadata": {
    "scrolled": false
   },
   "outputs": [
    {
     "data": {
      "text/html": [
       "<div>\n",
       "<style scoped>\n",
       "    .dataframe tbody tr th:only-of-type {\n",
       "        vertical-align: middle;\n",
       "    }\n",
       "\n",
       "    .dataframe tbody tr th {\n",
       "        vertical-align: top;\n",
       "    }\n",
       "\n",
       "    .dataframe thead th {\n",
       "        text-align: right;\n",
       "    }\n",
       "</style>\n",
       "<table border=\"1\" class=\"dataframe\">\n",
       "  <thead>\n",
       "    <tr style=\"text-align: right;\">\n",
       "      <th></th>\n",
       "      <th>Accuracy</th>\n",
       "      <th>Precision</th>\n",
       "      <th>Recall</th>\n",
       "      <th>F1 Score</th>\n",
       "      <th>False Positive Rate</th>\n",
       "      <th>False Negative Rate</th>\n",
       "      <th>Area Under ROC Curve</th>\n",
       "    </tr>\n",
       "  </thead>\n",
       "  <tbody>\n",
       "    <tr>\n",
       "      <th>Logistic Regression</th>\n",
       "      <td>0.958884</td>\n",
       "      <td>0.964179</td>\n",
       "      <td>0.952802</td>\n",
       "      <td>0.958457</td>\n",
       "      <td>0.017621</td>\n",
       "      <td>0.023495</td>\n",
       "      <td>0.958857</td>\n",
       "    </tr>\n",
       "  </tbody>\n",
       "</table>\n",
       "</div>"
      ],
      "text/plain": [
       "                     Accuracy  Precision    Recall  F1 Score  \\\n",
       "Logistic Regression  0.958884   0.964179  0.952802  0.958457   \n",
       "\n",
       "                     False Positive Rate  False Negative Rate  \\\n",
       "Logistic Regression             0.017621             0.023495   \n",
       "\n",
       "                     Area Under ROC Curve  \n",
       "Logistic Regression              0.958857  "
      ]
     },
     "execution_count": 7,
     "metadata": {},
     "output_type": "execute_result"
    }
   ],
   "source": [
    "tfidf_1_results['results'].rename(index={0: 'Logistic Regression'})"
   ]
  }
 ],
 "metadata": {
  "kernelspec": {
   "display_name": "Python 3 (ipykernel)",
   "language": "python",
   "name": "python3"
  },
  "language_info": {
   "codemirror_mode": {
    "name": "ipython",
    "version": 3
   },
   "file_extension": ".py",
   "mimetype": "text/x-python",
   "name": "python",
   "nbconvert_exporter": "python",
   "pygments_lexer": "ipython3",
   "version": "3.8.10"
  }
 },
 "nbformat": 4,
 "nbformat_minor": 5
}
