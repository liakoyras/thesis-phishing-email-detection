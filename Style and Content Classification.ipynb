{
 "cells": [
  {
   "cell_type": "code",
   "execution_count": 1,
   "id": "6e41204e",
   "metadata": {},
   "outputs": [],
   "source": [
    "import os\n",
    "import pandas as pd\n",
    "pd.options.display.max_columns = 250\n",
    "\n",
    "import machine_learning as ml\n",
    "from preprocessing import separate_features_target"
   ]
  },
  {
   "cell_type": "code",
   "execution_count": 2,
   "id": "702a8888",
   "metadata": {},
   "outputs": [],
   "source": [
    "# Path\n",
    "cwd = os.getcwd()\n",
    "csv_path = os.path.join(cwd, 'data/csv/')\n",
    "\n",
    "train = {\n",
    "    'stylometric' : ['style_train_balanced.csv','style_train_imbalanced.csv'],\n",
    "    'word2vec' : ['word2vec_train_balanced.csv','word2vec_train_imbalanced.csv']\n",
    "}\n",
    "test = {\n",
    "    'stylometric' : ['style_test_balanced.csv','style_test_imbalanced.csv'],\n",
    "    'word2vec' : ['word2vec_test_balanced.csv','word2vec_test_imbalanced.csv']\n",
    "}"
   ]
  },
  {
   "cell_type": "markdown",
   "id": "ecc7a7d0",
   "metadata": {},
   "source": [
    "# Balanced Dataset"
   ]
  },
  {
   "cell_type": "markdown",
   "id": "d6f079f4",
   "metadata": {},
   "source": [
    "## Import Data"
   ]
  },
  {
   "cell_type": "markdown",
   "id": "5a97b473",
   "metadata": {},
   "source": [
    "Since Word2Vec features outperformed the TF-IDF features, only those will be used to test the combination with content features."
   ]
  },
  {
   "cell_type": "markdown",
   "id": "94e78fcd",
   "metadata": {},
   "source": [
    "### Balanced Dataset"
   ]
  },
  {
   "cell_type": "code",
   "execution_count": 3,
   "id": "78519ce6",
   "metadata": {},
   "outputs": [],
   "source": [
    "style_train_balanced_complete = pd.read_csv(os.path.join(csv_path, train['stylometric'][0]), index_col=0, dtype={'email_class': 'bool', 'email_id': 'int16'})\n",
    "style_test_balanced_complete = pd.read_csv(os.path.join(csv_path, test['stylometric'][0]), index_col=0, dtype={'email_class': 'bool', 'email_id': 'int16'})\n",
    "\n",
    "word2vec_train_balanced_complete = pd.read_csv(os.path.join(csv_path, train['word2vec'][0]), index_col=0, dtype={'email_class': 'bool', 'email_id': 'int16'})\n",
    "word2vec_test_balanced_complete = pd.read_csv(os.path.join(csv_path, test['word2vec'][0]), index_col=0, dtype={'email_class': 'bool', 'email_id': 'int16'})"
   ]
  },
  {
   "cell_type": "code",
   "execution_count": 4,
   "id": "f40d3f8c",
   "metadata": {},
   "outputs": [],
   "source": [
    "style_train_balanced = separate_features_target(style_train_balanced_complete)\n",
    "style_test_balanced = separate_features_target(style_test_balanced_complete)\n",
    "\n",
    "word2vec_train_balanced = separate_features_target(word2vec_train_balanced_complete)\n",
    "word2vec_test_balanced = separate_features_target(word2vec_test_balanced_complete)"
   ]
  },
  {
   "cell_type": "markdown",
   "id": "125e31f0",
   "metadata": {},
   "source": [
    "### Imbalanced Dataset"
   ]
  },
  {
   "cell_type": "code",
   "execution_count": 5,
   "id": "8fc9e869",
   "metadata": {},
   "outputs": [],
   "source": [
    "style_train_imbalanced_complete = pd.read_csv(os.path.join(csv_path, train['stylometric'][1]), index_col=0, dtype={'email_class': 'bool', 'email_id': 'int16'})\n",
    "style_test_imbalanced_complete = pd.read_csv(os.path.join(csv_path, test['stylometric'][1]), index_col=0, dtype={'email_class': 'bool', 'email_id': 'int16'})\n",
    "\n",
    "word2vec_train_imbalanced_complete = pd.read_csv(os.path.join(csv_path, train['word2vec'][1]), index_col=0, dtype={'email_class': 'bool', 'email_id': 'int16'})\n",
    "word2vec_test_imbalanced_complete = pd.read_csv(os.path.join(csv_path, test['word2vec'][1]), index_col=0, dtype={'email_class': 'bool', 'email_id': 'int16'})"
   ]
  },
  {
   "cell_type": "code",
   "execution_count": 6,
   "id": "693cccc8",
   "metadata": {},
   "outputs": [],
   "source": [
    "style_train_imbalanced = separate_features_target(style_train_imbalanced_complete)\n",
    "style_test_imbalanced = separate_features_target(style_test_imbalanced_complete)\n",
    "\n",
    "word2vec_train_imbalanced = separate_features_target(word2vec_train_imbalanced_complete)\n",
    "word2vec_test_imbalanced = separate_features_target(word2vec_test_imbalanced_complete)"
   ]
  },
  {
   "cell_type": "markdown",
   "id": "2bfda150",
   "metadata": {},
   "source": [
    "# Merging Feature Sets"
   ]
  },
  {
   "cell_type": "markdown",
   "id": "464fccfe",
   "metadata": {},
   "source": [
    "The simplest way of combining the information of the two different feature sets is to simply merge them into one set and then perform the predictions based on this concatenated set."
   ]
  },
  {
   "cell_type": "markdown",
   "id": "3cf8e62a",
   "metadata": {},
   "source": [
    "## Balanced Dataset"
   ]
  },
  {
   "cell_type": "code",
   "execution_count": 7,
   "id": "148fb307",
   "metadata": {},
   "outputs": [],
   "source": [
    "style_content_train_balanced = pd.concat([word2vec_train_balanced['features'], style_train_balanced['features']], axis=1)\n",
    "style_content_test_balanced = pd.concat([word2vec_test_balanced['features'], style_test_balanced['features']], axis=1)"
   ]
  },
  {
   "cell_type": "markdown",
   "id": "1df122e5",
   "metadata": {},
   "source": [
    "### Train"
   ]
  },
  {
   "cell_type": "markdown",
   "id": "d174b733",
   "metadata": {},
   "source": [
    "#### Logistic Regression"
   ]
  },
  {
   "cell_type": "code",
   "execution_count": 8,
   "id": "0e7e4e3c",
   "metadata": {},
   "outputs": [
    {
     "name": "stdout",
     "output_type": "stream",
     "text": [
      "Train accuracy: 0.9944320712694877\n"
     ]
    },
    {
     "name": "stderr",
     "output_type": "stream",
     "text": [
      "/home/ichanis/.local/lib/python3.8/site-packages/sklearn/linear_model/_logistic.py:444: ConvergenceWarning: lbfgs failed to converge (status=1):\n",
      "STOP: TOTAL NO. of ITERATIONS REACHED LIMIT.\n",
      "\n",
      "Increase the number of iterations (max_iter) or scale the data as shown in:\n",
      "    https://scikit-learn.org/stable/modules/preprocessing.html\n",
      "Please also refer to the documentation for alternative solver options:\n",
      "    https://scikit-learn.org/stable/modules/linear_model.html#logistic-regression\n",
      "  n_iter_i = _check_optimize_result(\n"
     ]
    }
   ],
   "source": [
    "lr_style_content_balanced = ml.train_logistic_regression(style_content_train_balanced, style_train_balanced['target'], show_train_accuracy=1)\n",
    "lr_style_content_balanced, lr_style_content_balanced_scaler = lr_style_content_balanced['model'], lr_style_content_balanced['scaler']"
   ]
  },
  {
   "cell_type": "code",
   "execution_count": 9,
   "id": "0e28398f",
   "metadata": {},
   "outputs": [
    {
     "name": "stdout",
     "output_type": "stream",
     "text": [
      "Train accuracy: 0.9862657757980697\n"
     ]
    }
   ],
   "source": [
    "dt_style_content_balanced = ml.train_decision_tree(style_content_train_balanced, style_train_balanced['target'], show_train_accuracy=1)"
   ]
  },
  {
   "cell_type": "code",
   "execution_count": 10,
   "id": "19987398",
   "metadata": {},
   "outputs": [
    {
     "name": "stdout",
     "output_type": "stream",
     "text": [
      "Train accuracy: 0.9844097995545658\n"
     ]
    }
   ],
   "source": [
    "rf_style_content_balanced = ml.train_random_forest(style_content_train_balanced, style_train_balanced['target'], show_train_accuracy=1)"
   ]
  },
  {
   "cell_type": "code",
   "execution_count": 11,
   "id": "edcc3d8c",
   "metadata": {},
   "outputs": [
    {
     "name": "stdout",
     "output_type": "stream",
     "text": [
      "Train accuracy: 0.9974016332590943\n"
     ]
    }
   ],
   "source": [
    "gb_style_content_balanced = ml.train_gradient_boost(style_content_train_balanced, style_train_balanced['target'], show_train_accuracy=1)"
   ]
  },
  {
   "cell_type": "code",
   "execution_count": 12,
   "id": "a6a120f8",
   "metadata": {},
   "outputs": [
    {
     "name": "stdout",
     "output_type": "stream",
     "text": [
      "Train accuracy: 0.9510022271714922\n"
     ]
    }
   ],
   "source": [
    "nb_style_content_balanced = ml.train_naive_bayes(style_content_train_balanced, style_train_balanced['target'], show_train_accuracy=1, remove_negatives=True)\n",
    "nb_style_content_balanced, nb_style_content_balanced_scaler = nb_style_content_balanced['model'], nb_style_content_balanced['scaler']"
   ]
  },
  {
   "cell_type": "markdown",
   "id": "aafc39b7",
   "metadata": {},
   "source": [
    "### Results"
   ]
  },
  {
   "cell_type": "code",
   "execution_count": 13,
   "id": "b043c4b5",
   "metadata": {},
   "outputs": [],
   "source": [
    "models = [lr_style_content_balanced, dt_style_content_balanced, rf_style_content_balanced, gb_style_content_balanced, nb_style_content_balanced]\n",
    "names = ['Logistic Regression', 'Decision Tree', 'Random Forest', 'Gradient Boosting Tree', 'Naive Bayes']"
   ]
  },
  {
   "cell_type": "code",
   "execution_count": 14,
   "id": "893cc6dd",
   "metadata": {},
   "outputs": [],
   "source": [
    "results_style_content_balanced = ml.multi_model_results(models, names, style_content_test_balanced, style_test_balanced['target'], lr_style_content_balanced_scaler, nb_style_content_balanced_scaler)"
   ]
  },
  {
   "cell_type": "code",
   "execution_count": 15,
   "id": "bec06c19",
   "metadata": {
    "scrolled": false
   },
   "outputs": [
    {
     "data": {
      "text/html": [
       "<div>\n",
       "<style scoped>\n",
       "    .dataframe tbody tr th:only-of-type {\n",
       "        vertical-align: middle;\n",
       "    }\n",
       "\n",
       "    .dataframe tbody tr th {\n",
       "        vertical-align: top;\n",
       "    }\n",
       "\n",
       "    .dataframe thead th {\n",
       "        text-align: right;\n",
       "    }\n",
       "</style>\n",
       "<table border=\"1\" class=\"dataframe\">\n",
       "  <thead>\n",
       "    <tr style=\"text-align: right;\">\n",
       "      <th></th>\n",
       "      <th>Accuracy</th>\n",
       "      <th>Precision</th>\n",
       "      <th>Recall</th>\n",
       "      <th>F1 Score</th>\n",
       "      <th>False Positive Rate</th>\n",
       "      <th>False Negative Rate</th>\n",
       "      <th>Area Under ROC Curve</th>\n",
       "    </tr>\n",
       "  </thead>\n",
       "  <tbody>\n",
       "    <tr>\n",
       "      <th>Logistic Regression</th>\n",
       "      <td>0.965875</td>\n",
       "      <td>0.955182</td>\n",
       "      <td>0.979885</td>\n",
       "      <td>0.967376</td>\n",
       "      <td>0.049080</td>\n",
       "      <td>0.020115</td>\n",
       "      <td>0.965403</td>\n",
       "    </tr>\n",
       "    <tr>\n",
       "      <th>Decision Tree</th>\n",
       "      <td>0.951039</td>\n",
       "      <td>0.951289</td>\n",
       "      <td>0.954023</td>\n",
       "      <td>0.952654</td>\n",
       "      <td>0.052147</td>\n",
       "      <td>0.045977</td>\n",
       "      <td>0.950938</td>\n",
       "    </tr>\n",
       "    <tr>\n",
       "      <th>Random Forest</th>\n",
       "      <td>0.968843</td>\n",
       "      <td>0.957983</td>\n",
       "      <td>0.982759</td>\n",
       "      <td>0.970213</td>\n",
       "      <td>0.046012</td>\n",
       "      <td>0.017241</td>\n",
       "      <td>0.968373</td>\n",
       "    </tr>\n",
       "    <tr>\n",
       "      <th>Gradient Boosting Tree</th>\n",
       "      <td>0.967359</td>\n",
       "      <td>0.960452</td>\n",
       "      <td>0.977011</td>\n",
       "      <td>0.968661</td>\n",
       "      <td>0.042945</td>\n",
       "      <td>0.022989</td>\n",
       "      <td>0.967033</td>\n",
       "    </tr>\n",
       "    <tr>\n",
       "      <th>Naive Bayes</th>\n",
       "      <td>0.936202</td>\n",
       "      <td>0.957958</td>\n",
       "      <td>0.916667</td>\n",
       "      <td>0.936858</td>\n",
       "      <td>0.042945</td>\n",
       "      <td>0.083333</td>\n",
       "      <td>0.936861</td>\n",
       "    </tr>\n",
       "  </tbody>\n",
       "</table>\n",
       "</div>"
      ],
      "text/plain": [
       "                        Accuracy  Precision    Recall  F1 Score  \\\n",
       "Logistic Regression     0.965875   0.955182  0.979885  0.967376   \n",
       "Decision Tree           0.951039   0.951289  0.954023  0.952654   \n",
       "Random Forest           0.968843   0.957983  0.982759  0.970213   \n",
       "Gradient Boosting Tree  0.967359   0.960452  0.977011  0.968661   \n",
       "Naive Bayes             0.936202   0.957958  0.916667  0.936858   \n",
       "\n",
       "                        False Positive Rate  False Negative Rate  \\\n",
       "Logistic Regression                0.049080             0.020115   \n",
       "Decision Tree                      0.052147             0.045977   \n",
       "Random Forest                      0.046012             0.017241   \n",
       "Gradient Boosting Tree             0.042945             0.022989   \n",
       "Naive Bayes                        0.042945             0.083333   \n",
       "\n",
       "                        Area Under ROC Curve  \n",
       "Logistic Regression                 0.965403  \n",
       "Decision Tree                       0.950938  \n",
       "Random Forest                       0.968373  \n",
       "Gradient Boosting Tree              0.967033  \n",
       "Naive Bayes                         0.936861  "
      ]
     },
     "execution_count": 15,
     "metadata": {},
     "output_type": "execute_result"
    }
   ],
   "source": [
    "results_style_content_balanced"
   ]
  },
  {
   "cell_type": "markdown",
   "id": "a1561fa1",
   "metadata": {},
   "source": [
    "## Imbalanced Dataset"
   ]
  },
  {
   "cell_type": "code",
   "execution_count": 16,
   "id": "6ef8a72a",
   "metadata": {},
   "outputs": [],
   "source": [
    "style_content_train_imbalanced = pd.concat([word2vec_train_imbalanced['features'], style_train_imbalanced['features']], axis=1)\n",
    "style_content_test_imbalanced = pd.concat([word2vec_test_imbalanced['features'], style_test_imbalanced['features']], axis=1)"
   ]
  },
  {
   "cell_type": "markdown",
   "id": "8d2eb9df",
   "metadata": {},
   "source": [
    "### Train"
   ]
  },
  {
   "cell_type": "markdown",
   "id": "a377f2c8",
   "metadata": {},
   "source": [
    "#### Logistic Regression"
   ]
  },
  {
   "cell_type": "code",
   "execution_count": 17,
   "id": "7fe72314",
   "metadata": {},
   "outputs": [
    {
     "name": "stdout",
     "output_type": "stream",
     "text": [
      "Train accuracy: 0.9927692931477227\n"
     ]
    },
    {
     "name": "stderr",
     "output_type": "stream",
     "text": [
      "/home/ichanis/.local/lib/python3.8/site-packages/sklearn/linear_model/_logistic.py:444: ConvergenceWarning: lbfgs failed to converge (status=1):\n",
      "STOP: TOTAL NO. of ITERATIONS REACHED LIMIT.\n",
      "\n",
      "Increase the number of iterations (max_iter) or scale the data as shown in:\n",
      "    https://scikit-learn.org/stable/modules/preprocessing.html\n",
      "Please also refer to the documentation for alternative solver options:\n",
      "    https://scikit-learn.org/stable/modules/linear_model.html#logistic-regression\n",
      "  n_iter_i = _check_optimize_result(\n"
     ]
    }
   ],
   "source": [
    "lr_style_content_imbalanced = ml.train_logistic_regression(style_content_train_imbalanced, style_train_imbalanced['target'], show_train_accuracy=1)\n",
    "lr_style_content_imbalanced, lr_style_content_imbalanced_scaler = lr_style_content_imbalanced['model'], lr_style_content_imbalanced['scaler']"
   ]
  },
  {
   "cell_type": "code",
   "execution_count": 18,
   "id": "6288b595",
   "metadata": {},
   "outputs": [
    {
     "name": "stdout",
     "output_type": "stream",
     "text": [
      "Train accuracy: 0.9833085552101636\n"
     ]
    }
   ],
   "source": [
    "dt_style_content_imbalanced = ml.train_decision_tree(style_content_train_imbalanced, style_train_imbalanced['target'], show_train_accuracy=1)"
   ]
  },
  {
   "cell_type": "code",
   "execution_count": 19,
   "id": "5167333f",
   "metadata": {},
   "outputs": [
    {
     "name": "stdout",
     "output_type": "stream",
     "text": [
      "Train accuracy: 0.9846600892012434\n"
     ]
    }
   ],
   "source": [
    "rf_style_content_imbalanced = ml.train_random_forest(style_content_train_imbalanced, style_train_imbalanced['target'], show_train_accuracy=1)"
   ]
  },
  {
   "cell_type": "code",
   "execution_count": 20,
   "id": "54df5f5f",
   "metadata": {},
   "outputs": [
    {
     "name": "stdout",
     "output_type": "stream",
     "text": [
      "Train accuracy: 0.9947965941343425\n"
     ]
    }
   ],
   "source": [
    "gb_style_content_imbalanced = ml.train_gradient_boost(style_content_train_imbalanced, style_train_imbalanced['target'], show_train_accuracy=1)"
   ]
  },
  {
   "cell_type": "code",
   "execution_count": 21,
   "id": "3d5c7936",
   "metadata": {},
   "outputs": [
    {
     "name": "stdout",
     "output_type": "stream",
     "text": [
      "Train accuracy: 0.9080281119070145\n"
     ]
    }
   ],
   "source": [
    "nb_style_content_imbalanced = ml.train_naive_bayes(style_content_train_imbalanced, style_train_imbalanced['target'], show_train_accuracy=1, remove_negatives=True)\n",
    "nb_style_content_imbalanced, nb_style_content_imbalanced_scaler = nb_style_content_imbalanced['model'], nb_style_content_imbalanced['scaler']"
   ]
  },
  {
   "cell_type": "markdown",
   "id": "6a87554e",
   "metadata": {},
   "source": [
    "### Results"
   ]
  },
  {
   "cell_type": "code",
   "execution_count": 22,
   "id": "30dd65e6",
   "metadata": {},
   "outputs": [],
   "source": [
    "models = [lr_style_content_imbalanced, dt_style_content_imbalanced, rf_style_content_imbalanced, gb_style_content_imbalanced, nb_style_content_imbalanced]\n",
    "names = ['Logistic Regression', 'Decision Tree', 'Random Forest', 'Gradient Boosting Tree', 'Naive Bayes']"
   ]
  },
  {
   "cell_type": "code",
   "execution_count": 23,
   "id": "9ad3ac85",
   "metadata": {},
   "outputs": [],
   "source": [
    "results_style_content_imbalanced = ml.multi_model_results(models, names, style_content_test_imbalanced, style_test_imbalanced['target'], lr_style_content_imbalanced_scaler, nb_style_content_imbalanced_scaler)"
   ]
  },
  {
   "cell_type": "code",
   "execution_count": 24,
   "id": "d3347e79",
   "metadata": {
    "scrolled": false
   },
   "outputs": [
    {
     "data": {
      "text/html": [
       "<div>\n",
       "<style scoped>\n",
       "    .dataframe tbody tr th:only-of-type {\n",
       "        vertical-align: middle;\n",
       "    }\n",
       "\n",
       "    .dataframe tbody tr th {\n",
       "        vertical-align: top;\n",
       "    }\n",
       "\n",
       "    .dataframe thead th {\n",
       "        text-align: right;\n",
       "    }\n",
       "</style>\n",
       "<table border=\"1\" class=\"dataframe\">\n",
       "  <thead>\n",
       "    <tr style=\"text-align: right;\">\n",
       "      <th></th>\n",
       "      <th>Accuracy</th>\n",
       "      <th>Precision</th>\n",
       "      <th>Recall</th>\n",
       "      <th>F1 Score</th>\n",
       "      <th>False Positive Rate</th>\n",
       "      <th>False Negative Rate</th>\n",
       "      <th>Area Under ROC Curve</th>\n",
       "    </tr>\n",
       "  </thead>\n",
       "  <tbody>\n",
       "    <tr>\n",
       "      <th>Logistic Regression</th>\n",
       "      <td>0.988108</td>\n",
       "      <td>0.940252</td>\n",
       "      <td>0.922840</td>\n",
       "      <td>0.931464</td>\n",
       "      <td>0.005628</td>\n",
       "      <td>0.077160</td>\n",
       "      <td>0.958606</td>\n",
       "    </tr>\n",
       "    <tr>\n",
       "      <th>Decision Tree</th>\n",
       "      <td>0.977838</td>\n",
       "      <td>0.903333</td>\n",
       "      <td>0.836420</td>\n",
       "      <td>0.868590</td>\n",
       "      <td>0.008590</td>\n",
       "      <td>0.163580</td>\n",
       "      <td>0.913915</td>\n",
       "    </tr>\n",
       "    <tr>\n",
       "      <th>Random Forest</th>\n",
       "      <td>0.979459</td>\n",
       "      <td>0.955882</td>\n",
       "      <td>0.802469</td>\n",
       "      <td>0.872483</td>\n",
       "      <td>0.003555</td>\n",
       "      <td>0.197531</td>\n",
       "      <td>0.899457</td>\n",
       "    </tr>\n",
       "    <tr>\n",
       "      <th>Gradient Boosting Tree</th>\n",
       "      <td>0.988649</td>\n",
       "      <td>0.946203</td>\n",
       "      <td>0.922840</td>\n",
       "      <td>0.934375</td>\n",
       "      <td>0.005036</td>\n",
       "      <td>0.077160</td>\n",
       "      <td>0.958902</td>\n",
       "    </tr>\n",
       "    <tr>\n",
       "      <th>Naive Bayes</th>\n",
       "      <td>0.912703</td>\n",
       "      <td>1.000000</td>\n",
       "      <td>0.003086</td>\n",
       "      <td>0.006154</td>\n",
       "      <td>0.000000</td>\n",
       "      <td>0.996914</td>\n",
       "      <td>0.501543</td>\n",
       "    </tr>\n",
       "  </tbody>\n",
       "</table>\n",
       "</div>"
      ],
      "text/plain": [
       "                        Accuracy  Precision    Recall  F1 Score  \\\n",
       "Logistic Regression     0.988108   0.940252  0.922840  0.931464   \n",
       "Decision Tree           0.977838   0.903333  0.836420  0.868590   \n",
       "Random Forest           0.979459   0.955882  0.802469  0.872483   \n",
       "Gradient Boosting Tree  0.988649   0.946203  0.922840  0.934375   \n",
       "Naive Bayes             0.912703   1.000000  0.003086  0.006154   \n",
       "\n",
       "                        False Positive Rate  False Negative Rate  \\\n",
       "Logistic Regression                0.005628             0.077160   \n",
       "Decision Tree                      0.008590             0.163580   \n",
       "Random Forest                      0.003555             0.197531   \n",
       "Gradient Boosting Tree             0.005036             0.077160   \n",
       "Naive Bayes                        0.000000             0.996914   \n",
       "\n",
       "                        Area Under ROC Curve  \n",
       "Logistic Regression                 0.958606  \n",
       "Decision Tree                       0.913915  \n",
       "Random Forest                       0.899457  \n",
       "Gradient Boosting Tree              0.958902  \n",
       "Naive Bayes                         0.501543  "
      ]
     },
     "execution_count": 24,
     "metadata": {},
     "output_type": "execute_result"
    }
   ],
   "source": [
    "results_style_content_imbalanced"
   ]
  },
  {
   "cell_type": "markdown",
   "id": "2809ca28",
   "metadata": {},
   "source": [
    "Comparing these with the content-only baseline, it is obvious that there is a at least a small improvement in the balanced dataset and a more significant improvement in the imbalanced dataset.<br>\n",
    "It seems that the extra features are helpful in order to achieve better accuracy on the bigger dataset."
   ]
  },
  {
   "cell_type": "markdown",
   "id": "8a75f92d",
   "metadata": {},
   "source": [
    "Another interesting observation is that the false negative rate of the two best performing algorithms is the same. This means that they both did not detect the same number of phishing emails (25)."
   ]
  },
  {
   "cell_type": "code",
   "execution_count": 25,
   "id": "f371abe5",
   "metadata": {},
   "outputs": [
    {
     "data": {
      "text/plain": [
       "15"
      ]
     },
     "execution_count": 25,
     "metadata": {},
     "output_type": "execute_result"
    }
   ],
   "source": [
    "lr_dt_predictions = ml.results_by_id([lr_style_content_imbalanced, gb_style_content_imbalanced], ['lr', 'gb'], pd.concat([style_test_imbalanced_complete[['email_id', 'email_class']],  style_content_test_imbalanced], axis=1), style_test_imbalanced_complete['email_id'], lr_style_content_imbalanced_scaler)\n",
    "lr_dt_predictions[(lr_dt_predictions['True Class'] == True) & ((lr_dt_predictions['lr'] == False) & (lr_dt_predictions['gb'] == False))].shape[0]"
   ]
  },
  {
   "cell_type": "markdown",
   "id": "ab7fdc75",
   "metadata": {},
   "source": [
    "15 of them were missclassified by both algorithms."
   ]
  }
 ],
 "metadata": {
  "kernelspec": {
   "display_name": "Python 3 (ipykernel)",
   "language": "python",
   "name": "python3"
  },
  "language_info": {
   "codemirror_mode": {
    "name": "ipython",
    "version": 3
   },
   "file_extension": ".py",
   "mimetype": "text/x-python",
   "name": "python",
   "nbconvert_exporter": "python",
   "pygments_lexer": "ipython3",
   "version": "3.8.10"
  }
 },
 "nbformat": 4,
 "nbformat_minor": 5
}
