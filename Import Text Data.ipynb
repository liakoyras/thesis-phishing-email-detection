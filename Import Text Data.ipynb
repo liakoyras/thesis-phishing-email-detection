{
 "cells": [
  {
   "cell_type": "code",
   "execution_count": 1,
   "id": "53d06d61",
   "metadata": {},
   "outputs": [],
   "source": [
    "import raw_utils as util\n",
    "import os\n",
    "\n",
    "import pandas as pd\n",
    "import numpy as np\n",
    "\n",
    "import random\n",
    "random.seed(1746)"
   ]
  },
  {
   "cell_type": "markdown",
   "id": "8d44b790",
   "metadata": {},
   "source": [
    "## Phishing"
   ]
  },
  {
   "cell_type": "markdown",
   "id": "bdca6e53",
   "metadata": {},
   "source": [
    "### Nazario Phishing Corpus"
   ]
  },
  {
   "cell_type": "markdown",
   "id": "a68fd7e9",
   "metadata": {},
   "source": [
    "We will start with reading the subset of the Phishing Corpus that we want."
   ]
  },
  {
   "cell_type": "code",
   "execution_count": 2,
   "id": "953aa18f",
   "metadata": {},
   "outputs": [],
   "source": [
    "# Paths\n",
    "cwd = os.getcwd()\n",
    "nazario_path = os.path.join(cwd, 'data/phishing/nazario/')\n",
    "enron_path = os.path.join(cwd, 'data/legitimate/enron/')\n",
    "\n",
    "csv_path = os.path.join(cwd, 'data/csv/')"
   ]
  },
  {
   "cell_type": "code",
   "execution_count": 3,
   "id": "0b479cd2",
   "metadata": {},
   "outputs": [],
   "source": [
    "# Files to be ignored for read_dataset()\n",
    "files_ignored = ['README.txt']\n",
    "files_ignored_recent = ['README.txt', '20051114.mbox',  'phishing0.mbox',  'phishing1.mbox',  'phishing2.mbox',  'phishing3.mbox', 'private-phishing4.mbox']"
   ]
  },
  {
   "cell_type": "markdown",
   "id": "08c39ca9",
   "metadata": {},
   "source": [
    "First, we will read and convert all of the dataset. It is straightforward since it is a collection of .mbox files"
   ]
  },
  {
   "cell_type": "code",
   "execution_count": 4,
   "id": "a21c5331",
   "metadata": {
    "scrolled": true
   },
   "outputs": [
    {
     "name": "stdout",
     "output_type": "stream",
     "text": [
      "Now reading file: phishing1.mbox\n",
      "Now reading file: phishing3.mbox\n",
      "Now reading file: phishing-2016\n",
      "Now reading file: phishing0.mbox\n",
      "Now reading file: 20051114.mbox\n",
      "Now reading file: phishing-2017\n",
      "Now reading file: phishing-2020\n",
      "Now reading file: private-phishing4.mbox\n",
      "1 emails skipped: Headers contain non-ascii characters, or otherwise corrupted email data.\n",
      "Now reading file: phishing-2019\n",
      "Now reading file: phishing-2018\n",
      "Now reading file: phishing-2015\n",
      "Now reading file: phishing-2021\n",
      "Now reading file: phishing2.mbox\n"
     ]
    }
   ],
   "source": [
    "phishing = util.read_dataset(nazario_path, files_ignored, text_only=True)"
   ]
  },
  {
   "cell_type": "code",
   "execution_count": 5,
   "id": "4586c7c0",
   "metadata": {
    "scrolled": true
   },
   "outputs": [
    {
     "name": "stdout",
     "output_type": "stream",
     "text": [
      "<class 'pandas.core.frame.DataFrame'>\n",
      "RangeIndex: 10459 entries, 0 to 10458\n",
      "Data columns (total 1 columns):\n",
      " #   Column  Non-Null Count  Dtype \n",
      "---  ------  --------------  ----- \n",
      " 0   body    10459 non-null  object\n",
      "dtypes: object(1)\n",
      "memory usage: 81.8+ KB\n"
     ]
    }
   ],
   "source": [
    "phishing.info()"
   ]
  },
  {
   "cell_type": "code",
   "execution_count": 6,
   "id": "9fc41143",
   "metadata": {},
   "outputs": [
    {
     "name": "stdout",
     "output_type": "stream",
     "text": [
      "Saving to /home/ichanis/projects/phishing_public/data/csv/nazario_full.csv\n"
     ]
    }
   ],
   "source": [
    "util.save_to_csv(phishing, csv_path, 'nazario_full.csv')"
   ]
  },
  {
   "cell_type": "markdown",
   "id": "e861526a",
   "metadata": {},
   "source": [
    "Then, we will also take the subset of only the recent emails."
   ]
  },
  {
   "cell_type": "code",
   "execution_count": 7,
   "id": "630849ee",
   "metadata": {},
   "outputs": [
    {
     "name": "stdout",
     "output_type": "stream",
     "text": [
      "Now reading file: phishing-2016\n",
      "Now reading file: phishing-2017\n",
      "Now reading file: phishing-2020\n",
      "Now reading file: phishing-2019\n",
      "Now reading file: phishing-2018\n",
      "Now reading file: phishing-2015\n",
      "Now reading file: phishing-2021\n"
     ]
    }
   ],
   "source": [
    "phishing_recent = util.read_dataset(nazario_path, files_ignored_recent, text_only=True)"
   ]
  },
  {
   "cell_type": "code",
   "execution_count": 8,
   "id": "1a1c26f9",
   "metadata": {
    "scrolled": true
   },
   "outputs": [
    {
     "name": "stdout",
     "output_type": "stream",
     "text": [
      "<class 'pandas.core.frame.DataFrame'>\n",
      "RangeIndex: 1916 entries, 0 to 1915\n",
      "Data columns (total 1 columns):\n",
      " #   Column  Non-Null Count  Dtype \n",
      "---  ------  --------------  ----- \n",
      " 0   body    1916 non-null   object\n",
      "dtypes: object(1)\n",
      "memory usage: 15.1+ KB\n"
     ]
    }
   ],
   "source": [
    "phishing_recent.info()"
   ]
  },
  {
   "cell_type": "code",
   "execution_count": 9,
   "id": "82f2ecea",
   "metadata": {
    "scrolled": false
   },
   "outputs": [
    {
     "name": "stdout",
     "output_type": "stream",
     "text": [
      "Saving to /home/ichanis/projects/phishing_public/data/csv/nazario_recent.csv\n"
     ]
    }
   ],
   "source": [
    "util.save_to_csv(phishing_recent, csv_path, 'nazario_recent.csv')"
   ]
  },
  {
   "cell_type": "markdown",
   "id": "9c74b513",
   "metadata": {},
   "source": [
    "## Legitimate"
   ]
  },
  {
   "cell_type": "markdown",
   "id": "e694305b",
   "metadata": {},
   "source": [
    "### Enron Email Dataset"
   ]
  },
  {
   "cell_type": "markdown",
   "id": "8cb15318",
   "metadata": {},
   "source": [
    "This dataset is very big in size so we will just sample different sized sets of random emails from it."
   ]
  },
  {
   "cell_type": "code",
   "execution_count": 10,
   "id": "0087d4db",
   "metadata": {
    "scrolled": true
   },
   "outputs": [
    {
     "name": "stdout",
     "output_type": "stream",
     "text": [
      "3028 folders will be checked.\n",
      "300452 emails found.\n",
      "Extracting 2000 random emails.\n",
      "Creating output file /home/ichanis/projects/phishing_public/data/legitimate/enron/mbox/enron_2000.mbox\n",
      "7 emails skipped: Headers contain non-ascii characters, or otherwise corrupted email data.\n",
      "/home/ichanis/projects/phishing_public/data/legitimate/enron/mbox/enron_2000.mbox was created successfully.\n",
      "Saving to /home/ichanis/projects/phishing_public/data/csv/enron_text_2000.csv\n"
     ]
    }
   ],
   "source": [
    "filename = util.sample_enron_to_mbox(enron_path, 2000)\n",
    "enron_2000 = util.mbox_to_df(filename, enron_path+'/mbox', text_only=True)\n",
    "util.save_to_csv(enron_2000, csv_path, 'enron_text_2000.csv')"
   ]
  },
  {
   "cell_type": "code",
   "execution_count": 11,
   "id": "7e510e85",
   "metadata": {
    "scrolled": false
   },
   "outputs": [
    {
     "name": "stdout",
     "output_type": "stream",
     "text": [
      "3028 folders will be checked.\n",
      "300452 emails found.\n",
      "Extracting 20000 random emails.\n",
      "Creating output file /home/ichanis/projects/phishing_public/data/legitimate/enron/mbox/enron_20000.mbox\n",
      "82 emails skipped: Headers contain non-ascii characters, or otherwise corrupted email data.\n",
      "/home/ichanis/projects/phishing_public/data/legitimate/enron/mbox/enron_20000.mbox was created successfully.\n",
      "Saving to /home/ichanis/projects/phishing_public/data/csv/enron_text_20000.csv\n"
     ]
    }
   ],
   "source": [
    "filename = util.sample_enron_to_mbox(enron_path, 20000)\n",
    "enron_20000 = util.mbox_to_df(filename, enron_path+'/mbox', text_only=True)\n",
    "util.save_to_csv(enron_20000, csv_path, 'enron_text_20000.csv')"
   ]
  }
 ],
 "metadata": {
  "kernelspec": {
   "display_name": "Python 3 (ipykernel)",
   "language": "python",
   "name": "python3"
  },
  "language_info": {
   "codemirror_mode": {
    "name": "ipython",
    "version": 3
   },
   "file_extension": ".py",
   "mimetype": "text/x-python",
   "name": "python",
   "nbconvert_exporter": "python",
   "pygments_lexer": "ipython3",
   "version": "3.8.10"
  }
 },
 "nbformat": 4,
 "nbformat_minor": 5
}
