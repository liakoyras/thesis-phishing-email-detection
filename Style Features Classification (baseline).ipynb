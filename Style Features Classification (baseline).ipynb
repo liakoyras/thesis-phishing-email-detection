{
 "cells": [
  {
   "cell_type": "code",
   "execution_count": 1,
   "id": "6e41204e",
   "metadata": {},
   "outputs": [],
   "source": [
    "import os\n",
    "import pandas as pd\n",
    "pd.options.display.max_columns = 250\n",
    "\n",
    "import machine_learning as ml\n",
    "from preprocessing import separate_features_target"
   ]
  },
  {
   "cell_type": "code",
   "execution_count": 2,
   "id": "702a8888",
   "metadata": {},
   "outputs": [],
   "source": [
    "# Path\n",
    "cwd = os.getcwd()\n",
    "csv_path = os.path.join(cwd, 'data/csv/')\n",
    "\n",
    "train = {\n",
    "    'stylometric' : ['style_train_balanced.csv','style_train_imbalanced.csv']\n",
    "}\n",
    "test = {\n",
    "    'stylometric' : ['style_test_balanced.csv','style_test_imbalanced.csv']\n",
    "}"
   ]
  },
  {
   "cell_type": "markdown",
   "id": "92e56b07",
   "metadata": {},
   "source": [
    "# Balanced Dataset"
   ]
  },
  {
   "cell_type": "code",
   "execution_count": 3,
   "id": "b22ceeea",
   "metadata": {},
   "outputs": [],
   "source": [
    "style_train_balanced_complete = pd.read_csv(os.path.join(csv_path, train['stylometric'][0]), index_col=0)\n",
    "style_test_balanced_complete = pd.read_csv(os.path.join(csv_path, test['stylometric'][0]), index_col=0)"
   ]
  },
  {
   "cell_type": "code",
   "execution_count": 4,
   "id": "58c36f38",
   "metadata": {},
   "outputs": [],
   "source": [
    "style_train_balanced = separate_features_target(style_train_balanced_complete)\n",
    "style_test_balanced = separate_features_target(style_test_balanced_complete)"
   ]
  },
  {
   "cell_type": "markdown",
   "id": "1df122e5",
   "metadata": {},
   "source": [
    "## Train"
   ]
  },
  {
   "cell_type": "markdown",
   "id": "b5524a22",
   "metadata": {},
   "source": [
    "### Logistic Regression"
   ]
  },
  {
   "cell_type": "code",
   "execution_count": 5,
   "id": "a6a120f8",
   "metadata": {
    "scrolled": false
   },
   "outputs": [
    {
     "name": "stdout",
     "output_type": "stream",
     "text": [
      "Train accuracy: 0.8596881959910914\n"
     ]
    },
    {
     "name": "stderr",
     "output_type": "stream",
     "text": [
      "/home/ichanis/.local/lib/python3.8/site-packages/sklearn/linear_model/_logistic.py:444: ConvergenceWarning: lbfgs failed to converge (status=1):\n",
      "STOP: TOTAL NO. of ITERATIONS REACHED LIMIT.\n",
      "\n",
      "Increase the number of iterations (max_iter) or scale the data as shown in:\n",
      "    https://scikit-learn.org/stable/modules/preprocessing.html\n",
      "Please also refer to the documentation for alternative solver options:\n",
      "    https://scikit-learn.org/stable/modules/linear_model.html#logistic-regression\n",
      "  n_iter_i = _check_optimize_result(\n"
     ]
    }
   ],
   "source": [
    "lr_style_balanced = ml.train_logistic_regression(style_train_balanced['features'], style_train_balanced['target'], show_train_accuracy=1)\n",
    "lr_style_balanced, lr_style_balanced_scaler = lr_style_balanced['model'], lr_style_balanced['scaler']"
   ]
  },
  {
   "cell_type": "markdown",
   "id": "831d57cd",
   "metadata": {},
   "source": [
    "### Decision Tree"
   ]
  },
  {
   "cell_type": "code",
   "execution_count": 6,
   "id": "f0cf0908",
   "metadata": {},
   "outputs": [
    {
     "name": "stdout",
     "output_type": "stream",
     "text": [
      "Train accuracy: 0.8611729769858946\n"
     ]
    }
   ],
   "source": [
    "dt_style_balanced = ml.train_decision_tree(style_train_balanced['features'], style_train_balanced['target'], show_train_accuracy=1)"
   ]
  },
  {
   "cell_type": "markdown",
   "id": "603b688f",
   "metadata": {},
   "source": [
    "### Random Forest"
   ]
  },
  {
   "cell_type": "code",
   "execution_count": 7,
   "id": "a36298eb",
   "metadata": {},
   "outputs": [
    {
     "name": "stdout",
     "output_type": "stream",
     "text": [
      "Train accuracy: 0.8904974016332591\n"
     ]
    }
   ],
   "source": [
    "rf_style_balanced = ml.train_random_forest(style_train_balanced['features'], style_train_balanced['target'], show_train_accuracy=1)"
   ]
  },
  {
   "cell_type": "markdown",
   "id": "5e454ca1",
   "metadata": {},
   "source": [
    "### Gradient Boosting Tree"
   ]
  },
  {
   "cell_type": "code",
   "execution_count": 8,
   "id": "4d4c484d",
   "metadata": {},
   "outputs": [
    {
     "name": "stdout",
     "output_type": "stream",
     "text": [
      "Train accuracy: 0.9450631031922792\n"
     ]
    }
   ],
   "source": [
    "gb_style_balanced = ml.train_gradient_boost(style_train_balanced['features'], style_train_balanced['target'], show_train_accuracy=1)"
   ]
  },
  {
   "cell_type": "markdown",
   "id": "2ffe303e",
   "metadata": {},
   "source": [
    "### Naive Bayes"
   ]
  },
  {
   "cell_type": "code",
   "execution_count": 9,
   "id": "1c417f11",
   "metadata": {
    "scrolled": true
   },
   "outputs": [
    {
     "name": "stdout",
     "output_type": "stream",
     "text": [
      "Train accuracy: 0.8006681514476615\n"
     ]
    }
   ],
   "source": [
    "nb_style_balanced = ml.train_naive_bayes(style_train_balanced['features'], style_train_balanced['target'], remove_negatives=True, show_train_accuracy=1)\n",
    "nb_style_balanced, nb_style_balanced_scaler = nb_style_balanced['model'], nb_style_balanced['scaler']"
   ]
  },
  {
   "cell_type": "markdown",
   "id": "aafc39b7",
   "metadata": {},
   "source": [
    "## Test"
   ]
  },
  {
   "cell_type": "code",
   "execution_count": 10,
   "id": "b043c4b5",
   "metadata": {},
   "outputs": [],
   "source": [
    "models = [lr_style_balanced, dt_style_balanced, rf_style_balanced, gb_style_balanced, nb_style_balanced]\n",
    "names = ['Logistic Regression', 'Decision Tree', 'Random Forest', 'Gradient Boosting Tree', 'Naive Bayes']"
   ]
  },
  {
   "cell_type": "code",
   "execution_count": 11,
   "id": "893cc6dd",
   "metadata": {},
   "outputs": [],
   "source": [
    "results_style_balanced = ml.multi_model_results(models, names, style_test_balanced['features'], style_test_balanced['target'], lr_style_balanced_scaler, nb_style_balanced_scaler)"
   ]
  },
  {
   "cell_type": "code",
   "execution_count": 12,
   "id": "bec06c19",
   "metadata": {
    "scrolled": true
   },
   "outputs": [
    {
     "data": {
      "text/html": [
       "<div>\n",
       "<style scoped>\n",
       "    .dataframe tbody tr th:only-of-type {\n",
       "        vertical-align: middle;\n",
       "    }\n",
       "\n",
       "    .dataframe tbody tr th {\n",
       "        vertical-align: top;\n",
       "    }\n",
       "\n",
       "    .dataframe thead th {\n",
       "        text-align: right;\n",
       "    }\n",
       "</style>\n",
       "<table border=\"1\" class=\"dataframe\">\n",
       "  <thead>\n",
       "    <tr style=\"text-align: right;\">\n",
       "      <th></th>\n",
       "      <th>Accuracy</th>\n",
       "      <th>Precision</th>\n",
       "      <th>Recall</th>\n",
       "      <th>F1 Score</th>\n",
       "      <th>False Positive Rate</th>\n",
       "      <th>False Negative Rate</th>\n",
       "      <th>Area Under ROC Curve</th>\n",
       "    </tr>\n",
       "  </thead>\n",
       "  <tbody>\n",
       "    <tr>\n",
       "      <th>Logistic Regression</th>\n",
       "      <td>0.872404</td>\n",
       "      <td>0.880814</td>\n",
       "      <td>0.870690</td>\n",
       "      <td>0.875723</td>\n",
       "      <td>0.125767</td>\n",
       "      <td>0.129310</td>\n",
       "      <td>0.922334</td>\n",
       "    </tr>\n",
       "    <tr>\n",
       "      <th>Decision Tree</th>\n",
       "      <td>0.847181</td>\n",
       "      <td>0.863501</td>\n",
       "      <td>0.836207</td>\n",
       "      <td>0.849635</td>\n",
       "      <td>0.141104</td>\n",
       "      <td>0.163793</td>\n",
       "      <td>0.881483</td>\n",
       "    </tr>\n",
       "    <tr>\n",
       "      <th>Random Forest</th>\n",
       "      <td>0.857567</td>\n",
       "      <td>0.857955</td>\n",
       "      <td>0.867816</td>\n",
       "      <td>0.862857</td>\n",
       "      <td>0.153374</td>\n",
       "      <td>0.132184</td>\n",
       "      <td>0.933899</td>\n",
       "    </tr>\n",
       "    <tr>\n",
       "      <th>Gradient Boosting Tree</th>\n",
       "      <td>0.899110</td>\n",
       "      <td>0.900000</td>\n",
       "      <td>0.905172</td>\n",
       "      <td>0.902579</td>\n",
       "      <td>0.107362</td>\n",
       "      <td>0.094828</td>\n",
       "      <td>0.961709</td>\n",
       "    </tr>\n",
       "    <tr>\n",
       "      <th>Naive Bayes</th>\n",
       "      <td>0.799703</td>\n",
       "      <td>0.829721</td>\n",
       "      <td>0.770115</td>\n",
       "      <td>0.798808</td>\n",
       "      <td>0.168712</td>\n",
       "      <td>0.229885</td>\n",
       "      <td>0.860377</td>\n",
       "    </tr>\n",
       "  </tbody>\n",
       "</table>\n",
       "</div>"
      ],
      "text/plain": [
       "                        Accuracy  Precision    Recall  F1 Score  \\\n",
       "Logistic Regression     0.872404   0.880814  0.870690  0.875723   \n",
       "Decision Tree           0.847181   0.863501  0.836207  0.849635   \n",
       "Random Forest           0.857567   0.857955  0.867816  0.862857   \n",
       "Gradient Boosting Tree  0.899110   0.900000  0.905172  0.902579   \n",
       "Naive Bayes             0.799703   0.829721  0.770115  0.798808   \n",
       "\n",
       "                        False Positive Rate  False Negative Rate  \\\n",
       "Logistic Regression                0.125767             0.129310   \n",
       "Decision Tree                      0.141104             0.163793   \n",
       "Random Forest                      0.153374             0.132184   \n",
       "Gradient Boosting Tree             0.107362             0.094828   \n",
       "Naive Bayes                        0.168712             0.229885   \n",
       "\n",
       "                        Area Under ROC Curve  \n",
       "Logistic Regression                 0.922334  \n",
       "Decision Tree                       0.881483  \n",
       "Random Forest                       0.933899  \n",
       "Gradient Boosting Tree              0.961709  \n",
       "Naive Bayes                         0.860377  "
      ]
     },
     "execution_count": 12,
     "metadata": {},
     "output_type": "execute_result"
    }
   ],
   "source": [
    "results_style_balanced"
   ]
  },
  {
   "cell_type": "markdown",
   "id": "17c175b6",
   "metadata": {},
   "source": [
    "# Imbalanced Dataset"
   ]
  },
  {
   "cell_type": "code",
   "execution_count": 13,
   "id": "8e822c1e",
   "metadata": {},
   "outputs": [],
   "source": [
    "style_train_balanced_complete = pd.read_csv(os.path.join(csv_path, train['stylometric'][1]), index_col=0)\n",
    "style_test_balanced_complete = pd.read_csv(os.path.join(csv_path, test['stylometric'][1]), index_col=0)"
   ]
  },
  {
   "cell_type": "code",
   "execution_count": 14,
   "id": "92875737",
   "metadata": {},
   "outputs": [],
   "source": [
    "style_train_imbalanced = separate_features_target(style_train_balanced_complete)\n",
    "style_test_imbalanced = separate_features_target(style_test_balanced_complete)"
   ]
  },
  {
   "cell_type": "markdown",
   "id": "fb971a2e",
   "metadata": {},
   "source": [
    "## Train"
   ]
  },
  {
   "cell_type": "markdown",
   "id": "63d30889",
   "metadata": {},
   "source": [
    "### Logistic Regression"
   ]
  },
  {
   "cell_type": "code",
   "execution_count": 15,
   "id": "f2e3c5a7",
   "metadata": {
    "scrolled": false
   },
   "outputs": [
    {
     "name": "stdout",
     "output_type": "stream",
     "text": [
      "Train accuracy: 0.9412758480875794\n"
     ]
    }
   ],
   "source": [
    "lr_style_imbalanced = ml.train_logistic_regression(style_train_imbalanced['features'], style_train_imbalanced['target'], show_train_accuracy=1)\n",
    "lr_style_imbalanced, lr_style_imbalanced_scaler = lr_style_imbalanced['model'], lr_style_imbalanced['scaler']"
   ]
  },
  {
   "cell_type": "markdown",
   "id": "77f24d37",
   "metadata": {},
   "source": [
    "### Decision Tree"
   ]
  },
  {
   "cell_type": "code",
   "execution_count": 16,
   "id": "43e982c1",
   "metadata": {},
   "outputs": [
    {
     "name": "stdout",
     "output_type": "stream",
     "text": [
      "Train accuracy: 0.9497229355318286\n"
     ]
    }
   ],
   "source": [
    "dt_style_imbalanced = ml.train_decision_tree(style_train_imbalanced['features'], style_train_imbalanced['target'], show_train_accuracy=1)"
   ]
  },
  {
   "cell_type": "markdown",
   "id": "8e705888",
   "metadata": {},
   "source": [
    "### Random Forest"
   ]
  },
  {
   "cell_type": "code",
   "execution_count": 17,
   "id": "aca4ac59",
   "metadata": {},
   "outputs": [
    {
     "name": "stdout",
     "output_type": "stream",
     "text": [
      "Train accuracy: 0.9326260305446682\n"
     ]
    }
   ],
   "source": [
    "rf_style_imbalanced = ml.train_random_forest(style_train_imbalanced['features'], style_train_imbalanced['target'], show_train_accuracy=1)"
   ]
  },
  {
   "cell_type": "markdown",
   "id": "096b24b6",
   "metadata": {},
   "source": [
    "### Gradient Boosting Tree"
   ]
  },
  {
   "cell_type": "code",
   "execution_count": 18,
   "id": "a7befc87",
   "metadata": {},
   "outputs": [
    {
     "name": "stdout",
     "output_type": "stream",
     "text": [
      "Train accuracy: 0.9634410055412893\n"
     ]
    }
   ],
   "source": [
    "gb_style_imbalanced = ml.train_gradient_boost(style_train_imbalanced['features'], style_train_imbalanced['target'], show_train_accuracy=1)"
   ]
  },
  {
   "cell_type": "markdown",
   "id": "4d24a745",
   "metadata": {},
   "source": [
    "### Naive Bayes"
   ]
  },
  {
   "cell_type": "code",
   "execution_count": 19,
   "id": "fc096899",
   "metadata": {
    "scrolled": false
   },
   "outputs": [
    {
     "name": "stdout",
     "output_type": "stream",
     "text": [
      "Train accuracy: 0.9080281119070145\n"
     ]
    }
   ],
   "source": [
    "nb_style_imbalanced = ml.train_naive_bayes(style_train_imbalanced['features'], style_train_imbalanced['target'], remove_negatives=True, show_train_accuracy=1)\n",
    "nb_style_imbalanced, nb_style_imbalanced_scaler = nb_style_imbalanced['model'], nb_style_imbalanced['scaler']"
   ]
  },
  {
   "cell_type": "markdown",
   "id": "5f217858",
   "metadata": {},
   "source": [
    "## Test"
   ]
  },
  {
   "cell_type": "code",
   "execution_count": 20,
   "id": "8dee1fcf",
   "metadata": {},
   "outputs": [],
   "source": [
    "models = [lr_style_imbalanced, dt_style_imbalanced, rf_style_imbalanced, gb_style_imbalanced, nb_style_imbalanced]\n",
    "names = ['Logistic Regression', 'Decision Tree', 'Random Forest', 'Gradient Boosting Tree', 'Naive Bayes']"
   ]
  },
  {
   "cell_type": "code",
   "execution_count": 21,
   "id": "c46a0300",
   "metadata": {
    "scrolled": false
   },
   "outputs": [
    {
     "name": "stderr",
     "output_type": "stream",
     "text": [
      "/home/ichanis/.local/lib/python3.8/site-packages/sklearn/metrics/_classification.py:1334: UndefinedMetricWarning: Precision is ill-defined and being set to 0.0 due to no predicted samples. Use `zero_division` parameter to control this behavior.\n",
      "  _warn_prf(average, modifier, msg_start, len(result))\n"
     ]
    }
   ],
   "source": [
    "results_style_imbalanced = ml.multi_model_results(models, names, style_test_imbalanced['features'], style_test_imbalanced['target'], lr_style_imbalanced_scaler, nb_style_imbalanced_scaler)"
   ]
  },
  {
   "cell_type": "code",
   "execution_count": 22,
   "id": "ec1e95eb",
   "metadata": {},
   "outputs": [
    {
     "data": {
      "text/html": [
       "<div>\n",
       "<style scoped>\n",
       "    .dataframe tbody tr th:only-of-type {\n",
       "        vertical-align: middle;\n",
       "    }\n",
       "\n",
       "    .dataframe tbody tr th {\n",
       "        vertical-align: top;\n",
       "    }\n",
       "\n",
       "    .dataframe thead th {\n",
       "        text-align: right;\n",
       "    }\n",
       "</style>\n",
       "<table border=\"1\" class=\"dataframe\">\n",
       "  <thead>\n",
       "    <tr style=\"text-align: right;\">\n",
       "      <th></th>\n",
       "      <th>Accuracy</th>\n",
       "      <th>Precision</th>\n",
       "      <th>Recall</th>\n",
       "      <th>F1 Score</th>\n",
       "      <th>False Positive Rate</th>\n",
       "      <th>False Negative Rate</th>\n",
       "      <th>Area Under ROC Curve</th>\n",
       "    </tr>\n",
       "  </thead>\n",
       "  <tbody>\n",
       "    <tr>\n",
       "      <th>Logistic Regression</th>\n",
       "      <td>0.942703</td>\n",
       "      <td>0.780000</td>\n",
       "      <td>0.481481</td>\n",
       "      <td>0.595420</td>\n",
       "      <td>0.013033</td>\n",
       "      <td>0.518519</td>\n",
       "      <td>0.913525</td>\n",
       "    </tr>\n",
       "    <tr>\n",
       "      <th>Decision Tree</th>\n",
       "      <td>0.947027</td>\n",
       "      <td>0.760163</td>\n",
       "      <td>0.577160</td>\n",
       "      <td>0.656140</td>\n",
       "      <td>0.017476</td>\n",
       "      <td>0.422840</td>\n",
       "      <td>0.875495</td>\n",
       "    </tr>\n",
       "    <tr>\n",
       "      <th>Random Forest</th>\n",
       "      <td>0.934865</td>\n",
       "      <td>0.988235</td>\n",
       "      <td>0.259259</td>\n",
       "      <td>0.410758</td>\n",
       "      <td>0.000296</td>\n",
       "      <td>0.740741</td>\n",
       "      <td>0.928377</td>\n",
       "    </tr>\n",
       "    <tr>\n",
       "      <th>Gradient Boosting Tree</th>\n",
       "      <td>0.958378</td>\n",
       "      <td>0.872807</td>\n",
       "      <td>0.614198</td>\n",
       "      <td>0.721014</td>\n",
       "      <td>0.008590</td>\n",
       "      <td>0.385802</td>\n",
       "      <td>0.952841</td>\n",
       "    </tr>\n",
       "    <tr>\n",
       "      <th>Naive Bayes</th>\n",
       "      <td>0.912432</td>\n",
       "      <td>0.000000</td>\n",
       "      <td>0.000000</td>\n",
       "      <td>0.000000</td>\n",
       "      <td>0.000000</td>\n",
       "      <td>1.000000</td>\n",
       "      <td>0.860799</td>\n",
       "    </tr>\n",
       "  </tbody>\n",
       "</table>\n",
       "</div>"
      ],
      "text/plain": [
       "                        Accuracy  Precision    Recall  F1 Score  \\\n",
       "Logistic Regression     0.942703   0.780000  0.481481  0.595420   \n",
       "Decision Tree           0.947027   0.760163  0.577160  0.656140   \n",
       "Random Forest           0.934865   0.988235  0.259259  0.410758   \n",
       "Gradient Boosting Tree  0.958378   0.872807  0.614198  0.721014   \n",
       "Naive Bayes             0.912432   0.000000  0.000000  0.000000   \n",
       "\n",
       "                        False Positive Rate  False Negative Rate  \\\n",
       "Logistic Regression                0.013033             0.518519   \n",
       "Decision Tree                      0.017476             0.422840   \n",
       "Random Forest                      0.000296             0.740741   \n",
       "Gradient Boosting Tree             0.008590             0.385802   \n",
       "Naive Bayes                        0.000000             1.000000   \n",
       "\n",
       "                        Area Under ROC Curve  \n",
       "Logistic Regression                 0.913525  \n",
       "Decision Tree                       0.875495  \n",
       "Random Forest                       0.928377  \n",
       "Gradient Boosting Tree              0.952841  \n",
       "Naive Bayes                         0.860799  "
      ]
     },
     "execution_count": 22,
     "metadata": {},
     "output_type": "execute_result"
    }
   ],
   "source": [
    "results_style_imbalanced"
   ]
  },
  {
   "cell_type": "markdown",
   "id": "6bf00c64",
   "metadata": {},
   "source": [
    "# Comparison"
   ]
  },
  {
   "cell_type": "markdown",
   "id": "639fc548",
   "metadata": {},
   "source": [
    "- This feature set is consistently a lot worse than the text content features. It seems like there may not be many strong predictors of phishing emails in the style of the author (which makes sense since authors of phishing emails try to imitate legitimate sources as much as possible), and the number of features was not big enough to make up for this.\n",
    "- However, the prediction capability is *still* a lot better than random chance (especially for the balanced dataset), so the combination of style and content featues might give better results.\n",
    "- The results were a lot worse in the imbalanced dataset.\n",
    "- Gradient Boosting was by far the best performing algorithm."
   ]
  }
 ],
 "metadata": {
  "kernelspec": {
   "display_name": "Python 3 (ipykernel)",
   "language": "python",
   "name": "python3"
  },
  "language_info": {
   "codemirror_mode": {
    "name": "ipython",
    "version": 3
   },
   "file_extension": ".py",
   "mimetype": "text/x-python",
   "name": "python",
   "nbconvert_exporter": "python",
   "pygments_lexer": "ipython3",
   "version": "3.8.10"
  }
 },
 "nbformat": 4,
 "nbformat_minor": 5
}
